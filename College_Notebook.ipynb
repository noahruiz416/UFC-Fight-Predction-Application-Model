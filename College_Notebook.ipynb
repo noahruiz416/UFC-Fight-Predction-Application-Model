{
 "cells": [
  {
   "cell_type": "raw",
   "id": "33c94a9c",
   "metadata": {},
   "source": [
    "--- \n",
    "title: College Dropout Predictive Model\n",
    "author: Noah Ruiz\n",
    "description: Enter the information as prompted and it will compute an estimated probability of dropping out or finishing college.\n",
    "\n",
    "show-code: False\n",
    "params:    \n",
    "    Tuition:\n",
    "        label: Are your tuition fees up to date (1 yes, 0 no)\n",
    "        input: numeric \n",
    "        value: 0 \n",
    "        min: 0 \n",
    "        max: 1\n",
    "    Scholarship:\n",
    "        label: Do you have a scholarship (1 yes, 0 no)\n",
    "        input: numeric\n",
    "        value: 0 \n",
    "        min: 0 \n",
    "        max: 1\n",
    "    International:\n",
    "        label: Are you an international student (1 yes, 0 no)\n",
    "        input: numeric\n",
    "        value: 0 \n",
    "        min: 0 \n",
    "        max: 1\n",
    "    Debtor:\n",
    "        label: Are you in any student loan debt (1 yes, 0 no)\n",
    "        input: numeric \n",
    "        value: 0 \n",
    "        min: 0 \n",
    "        max: 1\n",
    "    Displaced:\n",
    "        label: Are you outside your state or home area (1 Outside Home Area, 0 Not Outside Home Area)\n",
    "        input: numeric\n",
    "        value: 0\n",
    "        min: 0\n",
    "        max: 1\n",
    "        label: Enter your status  \n",
    "    Attendance:\n",
    "        label: Are you attending in the daytime or at night (1 Daytime, 0 Night)   \n",
    "        input: numeric\n",
    "        value: 0\n",
    "        min: 0 \n",
    "        max: 1\n",
    "    Degree:\n",
    "        input: select\n",
    "        label: Select the degree category that most aligns with you\n",
    "        value: Other\n",
    "        choices: [\"Stem\", \"Business/Economics\", \"Medicine\", \"Social_Sciences\", \"Other\"]\n",
    "\n",
    "\n",
    "\n",
    "---"
   ]
  },
  {
   "cell_type": "code",
   "execution_count": 1,
   "id": "696e9289",
   "metadata": {},
   "outputs": [],
   "source": [
    "import pickle\n",
    "import shap\n",
    "import pandas as pd\n",
    "import numpy as np\n",
    "\n",
    "#getting the model \n",
    "pickled_model = pickle.load(open('parscat_4.pkl', 'rb'))\n",
    "\n",
    "def make_prediction(classifier, input_data):\n",
    "    prediction = round(classifier.predict_proba(input_data)[0][0],4)\n",
    "    response = f\"This model predicts you have a {np.round(prediction, 4) * 100}% chance of graduating university\"\n",
    "    return response "
   ]
  },
  {
   "cell_type": "code",
   "execution_count": 2,
   "id": "280945c7",
   "metadata": {},
   "outputs": [],
   "source": [
    "#variables to be chosen by the user and then run,\n",
    "Tuition = 1\n",
    "Scholarship = 1\n",
    "International = 1\n",
    "Debtor = 1\n",
    "Displaced = 1\n",
    "Attendance = 1\n",
    "Degree = \"Business/Economics\"\n",
    "\n"
   ]
  },
  {
   "cell_type": "code",
   "execution_count": 3,
   "id": "16c0159c",
   "metadata": {},
   "outputs": [],
   "source": [
    "user_dict = {'Tuition fees up to date': Tuition, \n",
    "            'Scholarship holder': Scholarship,\n",
    "            'International': International,\n",
    "            'Debtor': Debtor,\n",
    "            'Displaced': Displaced,\n",
    "            'Daytime/evening attendance': Attendance, \n",
    "            'Degree': Degree}"
   ]
  },
  {
   "cell_type": "code",
   "execution_count": 4,
   "id": "db86c40e",
   "metadata": {},
   "outputs": [],
   "source": [
    "X = pd.DataFrame.from_dict(user_dict, orient = 'index').T"
   ]
  },
  {
   "cell_type": "code",
   "execution_count": 5,
   "id": "600aa11b",
   "metadata": {},
   "outputs": [],
   "source": [
    "prediction = make_prediction(pickled_model, X)"
   ]
  },
  {
   "cell_type": "code",
   "execution_count": 6,
   "id": "eb043068",
   "metadata": {
    "scrolled": false
   },
   "outputs": [
    {
     "name": "stdout",
     "output_type": "stream",
     "text": [
      "This model predicts you have a 43.97% chance of graduating university\n"
     ]
    }
   ],
   "source": [
    "print(prediction)"
   ]
  },
  {
   "cell_type": "code",
   "execution_count": 7,
   "id": "5526596d",
   "metadata": {},
   "outputs": [],
   "source": [
    "explainer = shap.TreeExplainer(pickled_model)\n",
    "shap_values = explainer.shap_values(X)\n",
    "\n"
   ]
  },
  {
   "cell_type": "code",
   "execution_count": 8,
   "id": "c31b0ea2",
   "metadata": {},
   "outputs": [
    {
     "data": {
      "image/png": "[encoded data removed]",
      "text/plain": [
       "<Figure size 576x309.6 with 2 Axes>"
      ]
     },
     "metadata": {
      "needs_background": "light"
     },
     "output_type": "display_data"
    }
   ],
   "source": [
    "shap.summary_plot(shap_values, X)"
   ]
  }
 ],
 "metadata": {
  "kernelspec": {
   "display_name": "Python 3 (ipykernel)",
   "language": "python",
   "name": "python3"
  },
  "language_info": {
   "codemirror_mode": {
    "name": "ipython",
    "version": 3
   },
   "file_extension": ".py",
   "mimetype": "text/x-python",
   "name": "python",
   "nbconvert_exporter": "python",
   "pygments_lexer": "ipython3",
   "version": "3.9.12"
  }
 },
 "nbformat": 4,
 "nbformat_minor": 5
}
