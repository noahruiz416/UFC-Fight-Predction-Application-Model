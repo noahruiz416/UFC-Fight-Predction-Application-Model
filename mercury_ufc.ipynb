{
 "cells": [
  {
   "cell_type": "raw",
   "metadata": {},
   "source": [
    "--- \n",
    "title: UFC Predictions Blue vs Red Corner\n",
    "author: Noah Ruiz\n",
    "description: Hello I hope you enjoy using this application. Enter the information for the blue and red corner as prompted by the sliders and boxes on the left of this screen. After inputing the data, click run and it will compute the probability of the red or blue fighter winning.\n",
    "show-code: False\n",
    "params: \n",
    "    Blue_Reach:\n",
    "        label: Enter the blue corners reach in centimeters\n",
    "        input: numeric \n",
    "        value: 0 \n",
    "        min: 0 \n",
    "        max: 1000\n",
    "    Red_Reach:\n",
    "        label: Enter the red corners reach in centimeters\n",
    "        input: numeric \n",
    "        value: 0 \n",
    "        min: 0 \n",
    "        max: 1000\n",
    "    Blue_age:\n",
    "        label: Enter the blue corners age\n",
    "        input: numeric \n",
    "        value: 0 \n",
    "        min: 0 \n",
    "        max: 100\n",
    "    Red_age:\n",
    "        label: Enter the red corners age\n",
    "        input: numeric \n",
    "        value: 0 \n",
    "        min: 0 \n",
    "        max: 100\n",
    "    Blue_fighter_name:\n",
    "        input: text \n",
    "        label: Enter the blue corners name  \n",
    "    Red_fighter_name:\n",
    "        input: text \n",
    "        label: Enter the red corners name      \n",
    "    Red_losses:\n",
    "        label: Enter the number of fights the red corner has lost\n",
    "        input: numeric \n",
    "        value: 0 \n",
    "        min: 0 \n",
    "        max: 100\n",
    "    Blue_losses:\n",
    "        label: Enter the number of fights the blue corner has lost\n",
    "        input: numeric \n",
    "        value: 0 \n",
    "        min: 0 \n",
    "        max: 100\n",
    "---"
   ]
  },
  {
   "cell_type": "code",
   "execution_count": 54,
   "metadata": {
    "id": "ogmPv9O7iQSm"
   },
   "outputs": [],
   "source": [
    "import pickle\n",
    "import shap\n",
    "import pandas as pd"
   ]
  },
  {
   "cell_type": "code",
   "execution_count": 55,
   "metadata": {
    "id": "txMRs9HiiYmF"
   },
   "outputs": [],
   "source": [
    "#getting the model \n",
    "pickled_model = pickle.load(open('catBoost_final.pkl', 'rb'))"
   ]
  },
  {
   "cell_type": "code",
   "execution_count": 56,
   "metadata": {
    "id": "f8EuuH_kgwyc"
   },
   "outputs": [],
   "source": [
    "def make_prediction(classifier, input_data):\n",
    "    blue_prediction = round(classifier.predict_proba(input_data)[0][0],4)\n",
    "    red_prediction = round(classifier.predict_proba(input_data)[0][1],4)\n",
    "    response = f\"This model predicts, {input_data['B_fighter'][0]} has a {round(blue_prediction * 100, 2)}% chance of winning and {input_data['R_fighter'][0]} has a {round(red_prediction * 100, 2)}% chance of winning\"\n",
    "    return response "
   ]
  },
  {
   "cell_type": "code",
   "execution_count": 57,
   "metadata": {},
   "outputs": [],
   "source": [
    "#variables to be chosen by the user and then run\n",
    "Blue_Reach = 0 \n",
    "Red_Reach = 0 \n",
    "Blue_age = 0 \n",
    "Red_age = 0 \n",
    "Blue_fighter_name = \"Tai Tuivasa\"\n",
    "Red_fighter_name = \"Ciryl Gane\"\n",
    "Red_losses = 0\n",
    "Blue_losses = 0\n"
   ]
  },
  {
   "cell_type": "code",
   "execution_count": 58,
   "metadata": {},
   "outputs": [],
   "source": [
    "def create_dict(b_r, r_r, b_age, r_age, b_name, r_name, r_l, b_l):\n",
    "    fighter_data = {'B_Reach_cms': b_r,\n",
    "                'R_Reach_cms': r_r,\n",
    "                 'B_age': b_age,\n",
    "                 'R_age': r_age,\n",
    "                 'B_fighter': b_name,\n",
    "                 'R_fighter': r_name,\n",
    "                 'R_losses': r_l,\n",
    "                 'B_losses': b_l}\n",
    "    return fighter_data"
   ]
  },
  {
   "cell_type": "code",
   "execution_count": 59,
   "metadata": {},
   "outputs": [],
   "source": [
    "fight_dict = create_dict(Blue_Reach, Red_Reach, Blue_age, Red_age, Blue_fighter_name, Red_fighter_name, Red_losses, Blue_losses)"
   ]
  },
  {
   "cell_type": "code",
   "execution_count": 60,
   "metadata": {},
   "outputs": [],
   "source": [
    "X = pd.DataFrame.from_dict(fight_dict, orient = 'index').T"
   ]
  },
  {
   "cell_type": "code",
   "execution_count": 61,
   "metadata": {},
   "outputs": [],
   "source": [
    "prediction = make_prediction(pickled_model, X)"
   ]
  },
  {
   "cell_type": "code",
   "execution_count": 62,
   "metadata": {},
   "outputs": [
    {
     "name": "stdout",
     "output_type": "stream",
     "text": [
      "This model predicts, Tai Tuivasa has a 2.99% chance of winning and Ciryl Gane has a 97.01% chance of winning\n"
     ]
    }
   ],
   "source": [
    "print(prediction)"
   ]
  },
  {
   "cell_type": "code",
   "execution_count": 63,
   "metadata": {},
   "outputs": [],
   "source": [
    "explainer = shap.TreeExplainer(pickled_model)\n",
    "shap_values = explainer.shap_values(X)\n"
   ]
  },
  {
   "cell_type": "code",
   "execution_count": 64,
   "metadata": {
    "scrolled": true
   },
   "outputs": [
    {
     "data": {
      "image/png": "[encoded data removed]",
      "text/plain": [
       "<Figure size 576x338.4 with 2 Axes>"
      ]
     },
     "metadata": {
      "needs_background": "light"
     },
     "output_type": "display_data"
    }
   ],
   "source": [
    "shap.summary_plot(shap_values, X)"
   ]
  }
 ],
 "metadata": {
  "colab": {
   "collapsed_sections": [],
   "name": "mercury_ufc.ipynb",
   "provenance": []
  },
  "kernelspec": {
   "display_name": "Python 3 (ipykernel)",
   "language": "python",
   "name": "python3"
  },
  "language_info": {
   "codemirror_mode": {
    "name": "ipython",
    "version": 3
   },
   "file_extension": ".py",
   "mimetype": "text/x-python",
   "name": "python",
   "nbconvert_exporter": "python",
   "pygments_lexer": "ipython3",
   "version": "3.9.12"
  }
 },
 "nbformat": 4,
 "nbformat_minor": 1
}
