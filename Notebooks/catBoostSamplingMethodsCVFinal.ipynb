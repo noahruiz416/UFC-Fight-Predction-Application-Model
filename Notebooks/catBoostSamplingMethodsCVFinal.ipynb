{
  "nbformat": 4,
  "nbformat_minor": 0,
  "metadata": {
    "colab": {
      "provenance": [],
      "collapsed_sections": [],
      "authorship_tag": "ABX9TyOmP9gCEL65XlFrpe1MF4W2",
      "include_colab_link": true
    },
    "kernelspec": {
      "name": "python3",
      "display_name": "Python 3"
    },
    "language_info": {
      "name": "python"
    }
  },
  "cells": [
    {
      "cell_type": "markdown",
      "metadata": {
        "id": "view-in-github",
        "colab_type": "text"
      },
      "source": [
        "<a href=\"https://colab.research.google.com/github/noahruiz416/UFC-Fight-Prediction-Application-Model/blob/main/Notebooks/catBoostSamplingMethodsCVFinal.ipynb\" target=\"_parent\"><img src=\"https://colab.research.google.com/assets/colab-badge.svg\" alt=\"Open In Colab\"/></a>"
      ]
    },
    {
      "cell_type": "markdown",
      "source": [
        "# In this notebook we will continue with buidling our model and will build on the work done in the feature selection notebook. For reference: \n",
        "\n",
        "##### https://github.com/noahruiz416/UFC-Fight-Prediction-Application-Model/blob/main/Notebooks/catBoostFeatureSelection.ipynb\n",
        "\n",
        "In particular this notebook will try a few different approaches: \n",
        "1. Random Undersampling -> Train -> Test\n",
        "2. Oversampling -> Train -> Test\n",
        "3. Scaling Model Weights -> Train -> Test\n",
        "4. Baseline Model for Comparing\n",
        "\n",
        "Though the nature of UFC fights does tend to favor the red corner (since the 'red' corner usually has the higher ranked fighter). I wanted to see if addressing the class imbalance would alter our model performance"
      ],
      "metadata": {
        "id": "vF_f2DgJMoUy"
      }
    },
    {
      "cell_type": "markdown",
      "source": [
        "## Dependencies"
      ],
      "metadata": {
        "id": "FiisTT29NOX5"
      }
    },
    {
      "cell_type": "code",
      "source": [
        "#installing shap, catboost and imbalanced-learn, only need to run once, if you have not comment out the #\n",
        "!pip install shap\n",
        "!pip install catboost\n",
        "!pip install imbalanced-learn"
      ],
      "metadata": {
        "id": "FrVL-U2EN3w5"
      },
      "execution_count": null,
      "outputs": []
    },
    {
      "cell_type": "code",
      "source": [
        "#ML Libraries\n",
        "from xgboost import XGBClassifier\n",
        "\n",
        "#Preprocessing \n",
        "from sklearn import preprocessing\n",
        "\n",
        "#Essential for Data Loading \n",
        "import pandas as pd \n",
        "\n",
        "#Shapley for feature importance \n",
        "import shap\n",
        "\n",
        "#metrics \n",
        "from sklearn.metrics import classification_report\n",
        "from sklearn.metrics import plot_confusion_matrix\n",
        "from sklearn.metrics import matthews_corrcoef\n",
        "\n",
        "#imbalanced learn methods \n",
        "from imblearn.under_sampling import RandomUnderSampler\n",
        "from imblearn.over_sampling import SMOTENC"
      ],
      "metadata": {
        "id": "iN1AlpljN3gL"
      },
      "execution_count": null,
      "outputs": []
    },
    {
      "cell_type": "markdown",
      "source": [
        "## Training Data Loads for Model 1, 2 and 3"
      ],
      "metadata": {
        "id": "GWXe6CjQOfRx"
      }
    },
    {
      "cell_type": "code",
      "source": [
        "#loading in our dataframes\n",
        "model1_x_train = pd.read_csv('X_processed_train.csv', index_col = 0)\n",
        "model1_y_train = pd.read_csv('y_processed_train.csv', index_col = 0)\n",
        "\n",
        "model2_x_train = pd.read_csv('X_processed_train.csv', index_col = 0)\n",
        "model2_y_train = pd.read_csv('y_processed_train.csv', index_col = 0)\n",
        "\n",
        "model3_x_train = pd.read_csv('X_processed_train.csv', index_col = 0)\n",
        "model3_y_train = pd.read_csv('y_processed_train.csv', index_col = 0)\n",
        "\n",
        "model4_x_train = pd.read_csv('X_processed_train.csv', index_col = 0)\n",
        "model4_y_train = pd.read_csv('y_processed_train.csv', index_col = 0)\n",
        "\n",
        "\n",
        "#binarizing the y train labels from red, blue -> red = 1, blue = 0\n",
        "model1_y_train = preprocessing.LabelBinarizer().fit_transform(model1_y_train['Winner'])\n",
        "model2_y_train = preprocessing.LabelBinarizer().fit_transform(model2_y_train['Winner'])\n",
        "model3_y_train = preprocessing.LabelBinarizer().fit_transform(model3_y_train['Winner'])\n",
        "model4_y_train = preprocessing.LabelBinarizer().fit_transform(model4_y_train['Winner'])\n",
        "\n",
        "\n",
        "#using only the subset of features we selected from our previous notebook \n",
        "model1_x_train = model1_x_train[['B_Reach_cms', 'R_Reach_cms', 'B_age', 'R_age',\n",
        "                                'B_fighter', 'R_fighter', 'R_losses', 'B_losses']]\n",
        "\n",
        "model2_x_train = model2_x_train[['B_Reach_cms', 'R_Reach_cms', 'B_age', 'R_age',\n",
        "                                'B_fighter', 'R_fighter', 'R_losses', 'B_losses']]\n",
        "\n",
        "model3_x_train = model3_x_train[['B_Reach_cms', 'R_Reach_cms', 'B_age', 'R_age',\n",
        "                                'B_fighter', 'R_fighter', 'R_losses', 'B_losses']]\n",
        "\n",
        "model4_x_train = model4_x_train[['B_Reach_cms', 'R_Reach_cms', 'B_age', 'R_age',\n",
        "                                'B_fighter', 'R_fighter', 'R_losses', 'B_losses']]\n",
        "\n",
        "\n",
        "#we will use these cat features for each model we run\n",
        "cats = [\"R_fighter\", \"B_fighter\"]\n"
      ],
      "metadata": {
        "id": "dQ-LnBo7OiVF"
      },
      "execution_count": null,
      "outputs": []
    },
    {
      "cell_type": "markdown",
      "source": [
        "## Model 1\n",
        "\n",
        "This approach will follow the following idea, Random Undersampling -> Train -> Test"
      ],
      "metadata": {
        "id": "Wzv9ME5ZNRAr"
      }
    },
    {
      "cell_type": "code",
      "execution_count": null,
      "metadata": {
        "colab": {
          "base_uri": "https://localhost:8080/"
        },
        "id": "s9KEDZIvMW2n",
        "outputId": "b632c9da-99c2-4f1a-ebea-6cdbede51a2f"
      },
      "outputs": [
        {
          "output_type": "execute_result",
          "data": {
            "text/plain": [
              "<catboost.core.CatBoostClassifier at 0x7ff743b38f90>"
            ]
          },
          "metadata": {},
          "execution_count": 4
        }
      ],
      "source": [
        "#undersampling our dataset and then fitting the model\n",
        "ros = RandomUnderSampler()\n",
        "X_res_model1, y_res_model1 = ros.fit_resample(model1_x_train, model1_y_train)\n",
        "\n",
        "model1 = CatBoostClassifier(cat_features = cats)\n",
        "\n",
        "model1.fit(X_res_model1, y_res_model1, verbose = False)"
      ]
    },
    {
      "cell_type": "markdown",
      "source": [
        "## Model 2\n",
        "This approach will follow the following idea, Oversampling -> Train -> Test"
      ],
      "metadata": {
        "id": "XGzHRoWmNWA4"
      }
    },
    {
      "cell_type": "code",
      "source": [
        "#utilizing the SMOTE oversampling method\n",
        "sm = SMOTENC(categorical_features=[4,5])\n",
        "X_res_model2, y_res_model2 = sm.fit_resample(model2_x_train, model2_y_train)\n",
        "\n",
        "model2 = CatBoostClassifier(cat_features = cats)\n",
        "\n",
        "model2.fit(X_res_model2, y_res_model2, verbose = False)"
      ],
      "metadata": {
        "colab": {
          "base_uri": "https://localhost:8080/"
        },
        "id": "yMibBcR9NW9F",
        "outputId": "9a937587-765a-43b3-dac0-c8be39da5d02"
      },
      "execution_count": null,
      "outputs": [
        {
          "output_type": "execute_result",
          "data": {
            "text/plain": [
              "<catboost.core.CatBoostClassifier at 0x7ff7ecbe4190>"
            ]
          },
          "metadata": {},
          "execution_count": 5
        }
      ]
    },
    {
      "cell_type": "markdown",
      "source": [
        "## Model 3\n",
        "This approach will follow the following idea, Scaling Model Weights -> Train -> Test\n",
        "\n",
        "We will determine the pos_weight scale as follows: \n",
        "\n",
        "Count(negative examples)/ Count(Positive examples)"
      ],
      "metadata": {
        "id": "QuBhz7YoNYC1"
      }
    },
    {
      "cell_type": "code",
      "source": [
        "pos_scale = abs(((model3_y_train.sum() - len(model3_y_train))/len(model3_y_train)))\n",
        "\n",
        "model3 = CatBoostClassifier(cat_features = cats, scale_pos_weight = pos_scale)\n",
        "\n",
        "model3.fit(model3_x_train, model3_y_train, verbose = False)"
      ],
      "metadata": {
        "colab": {
          "base_uri": "https://localhost:8080/"
        },
        "id": "KUl4w4SANY3B",
        "outputId": "577ec319-f0df-4df1-804c-711296f9aefd"
      },
      "execution_count": null,
      "outputs": [
        {
          "output_type": "execute_result",
          "data": {
            "text/plain": [
              "<catboost.core.CatBoostClassifier at 0x7ff743b31690>"
            ]
          },
          "metadata": {},
          "execution_count": 6
        }
      ]
    },
    {
      "cell_type": "markdown",
      "source": [
        "## Model 4\n",
        "In this approach we will simply use the same model in the past notebook to see how performance has changed"
      ],
      "metadata": {
        "id": "b0ZXbOpzU-Sg"
      }
    },
    {
      "cell_type": "code",
      "source": [
        "model4 = CatBoostClassifier(cat_features = cats)\n",
        "\n",
        "model4.fit(model4_x_train, model4_y_train, verbose = False)"
      ],
      "metadata": {
        "colab": {
          "base_uri": "https://localhost:8080/"
        },
        "id": "PrN5blpxVHpG",
        "outputId": "1907423d-36de-4847-e8e7-a9b859735af4"
      },
      "execution_count": null,
      "outputs": [
        {
          "output_type": "execute_result",
          "data": {
            "text/plain": [
              "<catboost.core.CatBoostClassifier at 0x7ff743b13950>"
            ]
          },
          "metadata": {},
          "execution_count": 7
        }
      ]
    },
    {
      "cell_type": "markdown",
      "source": [
        "## Prepping Our Testing Data "
      ],
      "metadata": {
        "id": "5FcoeSW3QGvp"
      }
    },
    {
      "cell_type": "code",
      "source": [
        "#loading in our dataframes\n",
        "model1_x_test = pd.read_csv('X_processed_test.csv', index_col = 0)\n",
        "model1_y_test = pd.read_csv('y_processed_test.csv', index_col = 0)\n",
        "\n",
        "model2_x_test = pd.read_csv('X_processed_test.csv', index_col = 0)\n",
        "model2_y_test = pd.read_csv('y_processed_test.csv', index_col = 0)\n",
        "\n",
        "model3_x_test = pd.read_csv('X_processed_test.csv', index_col = 0)\n",
        "model3_y_test = pd.read_csv('y_processed_test.csv', index_col = 0)\n",
        "\n",
        "model4_x_test = pd.read_csv('X_processed_test.csv', index_col = 0)\n",
        "model4_y_test = pd.read_csv('y_processed_test.csv', index_col = 0)\n",
        "\n",
        "#binarizing the y train labels from red, blue -> red = 1, blue = 0\n",
        "model1_y_test = preprocessing.LabelBinarizer().fit_transform(model1_y_test['Winner'])\n",
        "model2_y_test = preprocessing.LabelBinarizer().fit_transform(model2_y_test['Winner'])\n",
        "model3_y_test = preprocessing.LabelBinarizer().fit_transform(model3_y_test['Winner'])\n",
        "model4_y_test = preprocessing.LabelBinarizer().fit_transform(model4_y_test['Winner'])\n",
        "\n",
        "\n",
        "#using only the subset of features we selected from our previous notebook \n",
        "model1_x_test = model1_x_test[['B_Reach_cms', 'R_Reach_cms', 'B_age', 'R_age',\n",
        "                                'B_fighter', 'R_fighter', 'R_losses', 'B_losses']]\n",
        "\n",
        "model2_x_test = model2_x_test[['B_Reach_cms', 'R_Reach_cms', 'B_age', 'R_age',\n",
        "                                'B_fighter', 'R_fighter', 'R_losses', 'B_losses']]\n",
        "\n",
        "model3_x_test = model3_x_test[['B_Reach_cms', 'R_Reach_cms', 'B_age', 'R_age',\n",
        "                                'B_fighter', 'R_fighter', 'R_losses', 'B_losses']]\n",
        "\n",
        "model4_x_test = model4_x_test[['B_Reach_cms', 'R_Reach_cms', 'B_age', 'R_age',\n",
        "                                'B_fighter', 'R_fighter', 'R_losses', 'B_losses']]                      "
      ],
      "metadata": {
        "id": "2Vfn3d1jQIqz"
      },
      "execution_count": null,
      "outputs": []
    },
    {
      "cell_type": "markdown",
      "source": [
        "## Evaluation Methods "
      ],
      "metadata": {
        "id": "6nJpoPQ5QJBP"
      }
    },
    {
      "cell_type": "code",
      "source": [
        "from sklearn.metrics import f1_score"
      ],
      "metadata": {
        "id": "v-yAFSULWolZ"
      },
      "execution_count": null,
      "outputs": []
    },
    {
      "cell_type": "code",
      "source": [
        "#getting predictions \n",
        "\n",
        "model1_preds = model1.predict(model1_x_test)\n",
        "model2_preds = model2.predict(model2_x_test)\n",
        "model3_preds = model3.predict(model3_x_test)\n",
        "model4_preds = model4.predict(model4_x_test)"
      ],
      "metadata": {
        "id": "IDwbmT0dQKGO"
      },
      "execution_count": null,
      "outputs": []
    },
    {
      "cell_type": "code",
      "source": [
        "#model 1 report, rand undersampling\n",
        "print(classification_report(model1_y_test, model1_preds))\n",
        "print(f1_score(model1_y_test, model1_preds))\n",
        "print(matthews_corrcoef(model1_y_test, model1_preds))"
      ],
      "metadata": {
        "colab": {
          "base_uri": "https://localhost:8080/"
        },
        "id": "2uu7tDnuUNlR",
        "outputId": "c2b6fc39-c49b-4431-8fb5-00d178278eff"
      },
      "execution_count": null,
      "outputs": [
        {
          "output_type": "stream",
          "name": "stdout",
          "text": [
            "              precision    recall  f1-score   support\n",
            "\n",
            "           0       0.50      0.78      0.61       430\n",
            "           1       0.84      0.60      0.70       818\n",
            "\n",
            "    accuracy                           0.66      1248\n",
            "   macro avg       0.67      0.69      0.65      1248\n",
            "weighted avg       0.72      0.66      0.67      1248\n",
            "\n",
            "0.698005698005698\n",
            "0.35780860382293755\n"
          ]
        }
      ]
    },
    {
      "cell_type": "code",
      "source": [
        "#model 2 report, SMOTE Oversampling\n",
        "print(classification_report(model2_y_test, model2_preds))\n",
        "print(f1_score(model2_y_test, model2_preds))\n",
        "print(matthews_corrcoef(model2_y_test, model2_preds))"
      ],
      "metadata": {
        "colab": {
          "base_uri": "https://localhost:8080/"
        },
        "id": "mnVy3jSZUOwt",
        "outputId": "fb4097c9-7f39-4b0e-d91c-e3278b27f576"
      },
      "execution_count": null,
      "outputs": [
        {
          "output_type": "stream",
          "name": "stdout",
          "text": [
            "              precision    recall  f1-score   support\n",
            "\n",
            "           0       0.62      0.38      0.47       430\n",
            "           1       0.73      0.88      0.80       818\n",
            "\n",
            "    accuracy                           0.71      1248\n",
            "   macro avg       0.68      0.63      0.63      1248\n",
            "weighted avg       0.69      0.71      0.69      1248\n",
            "\n",
            "0.7977839335180055\n",
            "0.30295390565427033\n"
          ]
        }
      ]
    },
    {
      "cell_type": "code",
      "source": [
        "#model 3 report, Scaling Pos Class\n",
        "print(classification_report(model3_y_test, model3_preds))\n",
        "print(f1_score(model3_y_test, model3_preds))\n",
        "print(matthews_corrcoef(model3_y_test, model3_preds))"
      ],
      "metadata": {
        "colab": {
          "base_uri": "https://localhost:8080/"
        },
        "id": "LEsUhOPAUPm3",
        "outputId": "f7cad7a6-6816-4d68-e0e0-f0d3edf27715"
      },
      "execution_count": null,
      "outputs": [
        {
          "output_type": "stream",
          "name": "stdout",
          "text": [
            "              precision    recall  f1-score   support\n",
            "\n",
            "           0       0.51      0.82      0.63       430\n",
            "           1       0.86      0.59      0.70       818\n",
            "\n",
            "    accuracy                           0.67      1248\n",
            "   macro avg       0.69      0.71      0.67      1248\n",
            "weighted avg       0.74      0.67      0.68      1248\n",
            "\n",
            "0.7028985507246377\n",
            "0.3952873223986405\n"
          ]
        }
      ]
    },
    {
      "cell_type": "code",
      "source": [
        "print(classification_report(model4_y_test, model4_preds))\n",
        "print(f1_score(model4_y_test, model4_preds))\n",
        "print(matthews_corrcoef(model4_y_test, model4_preds))"
      ],
      "metadata": {
        "colab": {
          "base_uri": "https://localhost:8080/"
        },
        "id": "992fBfhNVbtX",
        "outputId": "b8f1f1b9-1481-46db-ae8f-eef9acdea180"
      },
      "execution_count": null,
      "outputs": [
        {
          "output_type": "stream",
          "name": "stdout",
          "text": [
            "              precision    recall  f1-score   support\n",
            "\n",
            "           0       0.63      0.40      0.49       430\n",
            "           1       0.74      0.87      0.80       818\n",
            "\n",
            "    accuracy                           0.71      1248\n",
            "   macro avg       0.68      0.64      0.64      1248\n",
            "weighted avg       0.70      0.71      0.69      1248\n",
            "\n",
            "0.7988826815642458\n",
            "0.316500887218655\n"
          ]
        }
      ]
    },
    {
      "cell_type": "markdown",
      "source": [
        "## Visualizing Classification With Confusion Matrix"
      ],
      "metadata": {
        "id": "a5gnXWC-VnM0"
      }
    },
    {
      "cell_type": "code",
      "source": [
        "plot_confusion_matrix(model1, model1_x_test, model1_y_test)"
      ],
      "metadata": {
        "colab": {
          "base_uri": "https://localhost:8080/",
          "height": 333
        },
        "id": "76Tr4s0xVrTc",
        "outputId": "d10e599a-a1fe-4f95-c196-629880600873"
      },
      "execution_count": null,
      "outputs": [
        {
          "output_type": "stream",
          "name": "stderr",
          "text": [
            "Function plot_confusion_matrix is deprecated; Function `plot_confusion_matrix` is deprecated in 1.0 and will be removed in 1.2. Use one of the class methods: ConfusionMatrixDisplay.from_predictions or ConfusionMatrixDisplay.from_estimator.\n"
          ]
        },
        {
          "output_type": "execute_result",
          "data": {
            "text/plain": [
              "<sklearn.metrics._plot.confusion_matrix.ConfusionMatrixDisplay at 0x7ff742de31d0>"
            ]
          },
          "metadata": {},
          "execution_count": 15
        },
        {
          "output_type": "display_data",
          "data": {
            "text/plain": [
              "<Figure size 432x288 with 2 Axes>"
            ],
            "image/png": "[encoded data removed]"
          },
          "metadata": {
            "needs_background": "light"
          }
        }
      ]
    },
    {
      "cell_type": "code",
      "source": [
        "plot_confusion_matrix(model2, model2_x_test, model2_y_test)"
      ],
      "metadata": {
        "colab": {
          "base_uri": "https://localhost:8080/",
          "height": 333
        },
        "id": "dMyLQC8tWBCJ",
        "outputId": "d04a4e35-a1ce-47dd-d0e5-7ff852bebd33"
      },
      "execution_count": null,
      "outputs": [
        {
          "output_type": "stream",
          "name": "stderr",
          "text": [
            "Function plot_confusion_matrix is deprecated; Function `plot_confusion_matrix` is deprecated in 1.0 and will be removed in 1.2. Use one of the class methods: ConfusionMatrixDisplay.from_predictions or ConfusionMatrixDisplay.from_estimator.\n"
          ]
        },
        {
          "output_type": "execute_result",
          "data": {
            "text/plain": [
              "<sklearn.metrics._plot.confusion_matrix.ConfusionMatrixDisplay at 0x7ff742d13c10>"
            ]
          },
          "metadata": {},
          "execution_count": 16
        },
        {
          "output_type": "display_data",
          "data": {
            "text/plain": [
              "<Figure size 432x288 with 2 Axes>"
            ],
            "image/png": "[encoded data removed]"
          },
          "metadata": {
            "needs_background": "light"
          }
        }
      ]
    },
    {
      "cell_type": "code",
      "source": [
        "plot_confusion_matrix(model3, model3_x_test, model3_y_test)"
      ],
      "metadata": {
        "colab": {
          "base_uri": "https://localhost:8080/",
          "height": 333
        },
        "id": "XVYpj1n2WExg",
        "outputId": "55e16614-49d2-4b85-a37d-fbfb7c828153"
      },
      "execution_count": null,
      "outputs": [
        {
          "output_type": "stream",
          "name": "stderr",
          "text": [
            "Function plot_confusion_matrix is deprecated; Function `plot_confusion_matrix` is deprecated in 1.0 and will be removed in 1.2. Use one of the class methods: ConfusionMatrixDisplay.from_predictions or ConfusionMatrixDisplay.from_estimator.\n"
          ]
        },
        {
          "output_type": "execute_result",
          "data": {
            "text/plain": [
              "<sklearn.metrics._plot.confusion_matrix.ConfusionMatrixDisplay at 0x7ff743b35210>"
            ]
          },
          "metadata": {},
          "execution_count": 17
        },
        {
          "output_type": "display_data",
          "data": {
            "text/plain": [
              "<Figure size 432x288 with 2 Axes>"
            ],
            "image/png": "[encoded data removed]"
          },
          "metadata": {
            "needs_background": "light"
          }
        }
      ]
    },
    {
      "cell_type": "code",
      "source": [
        "plot_confusion_matrix(model4, model4_x_test, model4_y_test)"
      ],
      "metadata": {
        "colab": {
          "base_uri": "https://localhost:8080/",
          "height": 333
        },
        "id": "6rRr7yaZWH0s",
        "outputId": "414b75f7-a11d-4fad-abbf-1ee40cfee35e"
      },
      "execution_count": null,
      "outputs": [
        {
          "output_type": "stream",
          "name": "stderr",
          "text": [
            "Function plot_confusion_matrix is deprecated; Function `plot_confusion_matrix` is deprecated in 1.0 and will be removed in 1.2. Use one of the class methods: ConfusionMatrixDisplay.from_predictions or ConfusionMatrixDisplay.from_estimator.\n"
          ]
        },
        {
          "output_type": "execute_result",
          "data": {
            "text/plain": [
              "<sklearn.metrics._plot.confusion_matrix.ConfusionMatrixDisplay at 0x7ff7427d1150>"
            ]
          },
          "metadata": {},
          "execution_count": 18
        },
        {
          "output_type": "display_data",
          "data": {
            "text/plain": [
              "<Figure size 432x288 with 2 Axes>"
            ],
            "image/png": "[encoded data removed]"
          },
          "metadata": {
            "needs_background": "light"
          }
        }
      ]
    },
    {
      "cell_type": "code",
      "source": [
        "#testing model on a recent fight\n",
        "model3_x_test"
      ],
      "metadata": {
        "colab": {
          "base_uri": "https://localhost:8080/",
          "height": 419
        },
        "id": "lejLyF5SagMl",
        "outputId": "5e7b504f-c451-4d03-c90d-e6bc06eda4a7"
      },
      "execution_count": null,
      "outputs": [
        {
          "output_type": "execute_result",
          "data": {
            "text/plain": [
              "      B_Reach_cms  R_Reach_cms  B_age  R_age              B_fighter  \\\n",
              "3368       182.88       190.50   35.0   35.0         Joshua Burkman   \n",
              "6125       180.34       177.80   26.0   23.0             Jason Dent   \n",
              "5542       180.34       195.58   34.0   29.0            Jason Brilz   \n",
              "1439       200.66       200.66   29.0   35.0  Antonio Carlos Junior   \n",
              "5950       182.88       177.80   27.0   34.0            Paul Taylor   \n",
              "...           ...          ...    ...    ...                    ...   \n",
              "3019       180.34       180.34   25.0   29.0        Lukasz Sajewski   \n",
              "741        172.72       172.72   29.0   35.0           Casey Kenney   \n",
              "4991       182.88       185.42   29.0   28.0            George Roop   \n",
              "3984       170.18       180.34   23.0   30.0       Michinori Tanaka   \n",
              "380        180.34       177.80   35.0   32.0       Michael Chandler   \n",
              "\n",
              "           R_fighter  R_losses  B_losses  \n",
              "3368    Patrick Cote         9         7  \n",
              "6125    Roger Huerta         0         0  \n",
              "5542  Eliot Marshall         0         0  \n",
              "1439      Uriah Hall         7         4  \n",
              "5950    Marcus Davis         1         0  \n",
              "...              ...       ...       ...  \n",
              "3019   Gilbert Burns         1         1  \n",
              "741    Dominick Cruz         2         1  \n",
              "4991     Hatsu Hioki         0         3  \n",
              "3984  Roland Delorme         2         0  \n",
              "380   Justin Gaethje         3         1  \n",
              "\n",
              "[1248 rows x 8 columns]"
            ],
            "text/html": [
              "\n",
              "  <div id=\"df-16c0d49a-b2be-41cf-8d47-5bc7db5fc315\">\n",
              "    <div class=\"colab-df-container\">\n",
              "      <div>\n",
              "<style scoped>\n",
              "    .dataframe tbody tr th:only-of-type {\n",
              "        vertical-align: middle;\n",
              "    }\n",
              "\n",
              "    .dataframe tbody tr th {\n",
              "        vertical-align: top;\n",
              "    }\n",
              "\n",
              "    .dataframe thead th {\n",
              "        text-align: right;\n",
              "    }\n",
              "</style>\n",
              "<table border=\"1\" class=\"dataframe\">\n",
              "  <thead>\n",
              "    <tr style=\"text-align: right;\">\n",
              "      <th></th>\n",
              "      <th>B_Reach_cms</th>\n",
              "      <th>R_Reach_cms</th>\n",
              "      <th>B_age</th>\n",
              "      <th>R_age</th>\n",
              "      <th>B_fighter</th>\n",
              "      <th>R_fighter</th>\n",
              "      <th>R_losses</th>\n",
              "      <th>B_losses</th>\n",
              "    </tr>\n",
              "  </thead>\n",
              "  <tbody>\n",
              "    <tr>\n",
              "      <th>3368</th>\n",
              "      <td>182.88</td>\n",
              "      <td>190.50</td>\n",
              "      <td>35.0</td>\n",
              "      <td>35.0</td>\n",
              "      <td>Joshua Burkman</td>\n",
              "      <td>Patrick Cote</td>\n",
              "      <td>9</td>\n",
              "      <td>7</td>\n",
              "    </tr>\n",
              "    <tr>\n",
              "      <th>6125</th>\n",
              "      <td>180.34</td>\n",
              "      <td>177.80</td>\n",
              "      <td>26.0</td>\n",
              "      <td>23.0</td>\n",
              "      <td>Jason Dent</td>\n",
              "      <td>Roger Huerta</td>\n",
              "      <td>0</td>\n",
              "      <td>0</td>\n",
              "    </tr>\n",
              "    <tr>\n",
              "      <th>5542</th>\n",
              "      <td>180.34</td>\n",
              "      <td>195.58</td>\n",
              "      <td>34.0</td>\n",
              "      <td>29.0</td>\n",
              "      <td>Jason Brilz</td>\n",
              "      <td>Eliot Marshall</td>\n",
              "      <td>0</td>\n",
              "      <td>0</td>\n",
              "    </tr>\n",
              "    <tr>\n",
              "      <th>1439</th>\n",
              "      <td>200.66</td>\n",
              "      <td>200.66</td>\n",
              "      <td>29.0</td>\n",
              "      <td>35.0</td>\n",
              "      <td>Antonio Carlos Junior</td>\n",
              "      <td>Uriah Hall</td>\n",
              "      <td>7</td>\n",
              "      <td>4</td>\n",
              "    </tr>\n",
              "    <tr>\n",
              "      <th>5950</th>\n",
              "      <td>182.88</td>\n",
              "      <td>177.80</td>\n",
              "      <td>27.0</td>\n",
              "      <td>34.0</td>\n",
              "      <td>Paul Taylor</td>\n",
              "      <td>Marcus Davis</td>\n",
              "      <td>1</td>\n",
              "      <td>0</td>\n",
              "    </tr>\n",
              "    <tr>\n",
              "      <th>...</th>\n",
              "      <td>...</td>\n",
              "      <td>...</td>\n",
              "      <td>...</td>\n",
              "      <td>...</td>\n",
              "      <td>...</td>\n",
              "      <td>...</td>\n",
              "      <td>...</td>\n",
              "      <td>...</td>\n",
              "    </tr>\n",
              "    <tr>\n",
              "      <th>3019</th>\n",
              "      <td>180.34</td>\n",
              "      <td>180.34</td>\n",
              "      <td>25.0</td>\n",
              "      <td>29.0</td>\n",
              "      <td>Lukasz Sajewski</td>\n",
              "      <td>Gilbert Burns</td>\n",
              "      <td>1</td>\n",
              "      <td>1</td>\n",
              "    </tr>\n",
              "    <tr>\n",
              "      <th>741</th>\n",
              "      <td>172.72</td>\n",
              "      <td>172.72</td>\n",
              "      <td>29.0</td>\n",
              "      <td>35.0</td>\n",
              "      <td>Casey Kenney</td>\n",
              "      <td>Dominick Cruz</td>\n",
              "      <td>2</td>\n",
              "      <td>1</td>\n",
              "    </tr>\n",
              "    <tr>\n",
              "      <th>4991</th>\n",
              "      <td>182.88</td>\n",
              "      <td>185.42</td>\n",
              "      <td>29.0</td>\n",
              "      <td>28.0</td>\n",
              "      <td>George Roop</td>\n",
              "      <td>Hatsu Hioki</td>\n",
              "      <td>0</td>\n",
              "      <td>3</td>\n",
              "    </tr>\n",
              "    <tr>\n",
              "      <th>3984</th>\n",
              "      <td>170.18</td>\n",
              "      <td>180.34</td>\n",
              "      <td>23.0</td>\n",
              "      <td>30.0</td>\n",
              "      <td>Michinori Tanaka</td>\n",
              "      <td>Roland Delorme</td>\n",
              "      <td>2</td>\n",
              "      <td>0</td>\n",
              "    </tr>\n",
              "    <tr>\n",
              "      <th>380</th>\n",
              "      <td>180.34</td>\n",
              "      <td>177.80</td>\n",
              "      <td>35.0</td>\n",
              "      <td>32.0</td>\n",
              "      <td>Michael Chandler</td>\n",
              "      <td>Justin Gaethje</td>\n",
              "      <td>3</td>\n",
              "      <td>1</td>\n",
              "    </tr>\n",
              "  </tbody>\n",
              "</table>\n",
              "<p>1248 rows × 8 columns</p>\n",
              "</div>\n",
              "      <button class=\"colab-df-convert\" onclick=\"convertToInteractive('df-16c0d49a-b2be-41cf-8d47-5bc7db5fc315')\"\n",
              "              title=\"Convert this dataframe to an interactive table.\"\n",
              "              style=\"display:none;\">\n",
              "        \n",
              "  <svg xmlns=\"http://www.w3.org/2000/svg\" height=\"24px\"viewBox=\"0 0 24 24\"\n",
              "       width=\"24px\">\n",
              "    <path d=\"M0 0h24v24H0V0z\" fill=\"none\"/>\n",
              "    <path d=\"M18.56 5.44l.94 2.06.94-2.06 2.06-.94-2.06-.94-.94-2.06-.94 2.06-2.06.94zm-11 1L8.5 8.5l.94-2.06 2.06-.94-2.06-.94L8.5 2.5l-.94 2.06-2.06.94zm10 10l.94 2.06.94-2.06 2.06-.94-2.06-.94-.94-2.06-.94 2.06-2.06.94z\"/><path d=\"M17.41 7.96l-1.37-1.37c-.4-.4-.92-.59-1.43-.59-.52 0-1.04.2-1.43.59L10.3 9.45l-7.72 7.72c-.78.78-.78 2.05 0 2.83L4 21.41c.39.39.9.59 1.41.59.51 0 1.02-.2 1.41-.59l7.78-7.78 2.81-2.81c.8-.78.8-2.07 0-2.86zM5.41 20L4 18.59l7.72-7.72 1.47 1.35L5.41 20z\"/>\n",
              "  </svg>\n",
              "      </button>\n",
              "      \n",
              "  <style>\n",
              "    .colab-df-container {\n",
              "      display:flex;\n",
              "      flex-wrap:wrap;\n",
              "      gap: 12px;\n",
              "    }\n",
              "\n",
              "    .colab-df-convert {\n",
              "      background-color: #E8F0FE;\n",
              "      border: none;\n",
              "      border-radius: 50%;\n",
              "      cursor: pointer;\n",
              "      display: none;\n",
              "      fill: #1967D2;\n",
              "      height: 32px;\n",
              "      padding: 0 0 0 0;\n",
              "      width: 32px;\n",
              "    }\n",
              "\n",
              "    .colab-df-convert:hover {\n",
              "      background-color: #E2EBFA;\n",
              "      box-shadow: 0px 1px 2px rgba(60, 64, 67, 0.3), 0px 1px 3px 1px rgba(60, 64, 67, 0.15);\n",
              "      fill: #174EA6;\n",
              "    }\n",
              "\n",
              "    [theme=dark] .colab-df-convert {\n",
              "      background-color: #3B4455;\n",
              "      fill: #D2E3FC;\n",
              "    }\n",
              "\n",
              "    [theme=dark] .colab-df-convert:hover {\n",
              "      background-color: #434B5C;\n",
              "      box-shadow: 0px 1px 3px 1px rgba(0, 0, 0, 0.15);\n",
              "      filter: drop-shadow(0px 1px 2px rgba(0, 0, 0, 0.3));\n",
              "      fill: #FFFFFF;\n",
              "    }\n",
              "  </style>\n",
              "\n",
              "      <script>\n",
              "        const buttonEl =\n",
              "          document.querySelector('#df-16c0d49a-b2be-41cf-8d47-5bc7db5fc315 button.colab-df-convert');\n",
              "        buttonEl.style.display =\n",
              "          google.colab.kernel.accessAllowed ? 'block' : 'none';\n",
              "\n",
              "        async function convertToInteractive(key) {\n",
              "          const element = document.querySelector('#df-16c0d49a-b2be-41cf-8d47-5bc7db5fc315');\n",
              "          const dataTable =\n",
              "            await google.colab.kernel.invokeFunction('convertToInteractive',\n",
              "                                                     [key], {});\n",
              "          if (!dataTable) return;\n",
              "\n",
              "          const docLinkHtml = 'Like what you see? Visit the ' +\n",
              "            '<a target=\"_blank\" href=https://colab.research.google.com/notebooks/data_table.ipynb>data table notebook</a>'\n",
              "            + ' to learn more about interactive tables.';\n",
              "          element.innerHTML = '';\n",
              "          dataTable['output_type'] = 'display_data';\n",
              "          await google.colab.output.renderOutput(dataTable, element);\n",
              "          const docLink = document.createElement('div');\n",
              "          docLink.innerHTML = docLinkHtml;\n",
              "          element.appendChild(docLink);\n",
              "        }\n",
              "      </script>\n",
              "    </div>\n",
              "  </div>\n",
              "  "
            ]
          },
          "metadata": {},
          "execution_count": 19
        }
      ]
    },
    {
      "cell_type": "code",
      "source": [
        "model3.predict([201 ,193, 31,38,'Jamahal Hill', 'Thiago Santos', 11, 1])"
      ],
      "metadata": {
        "colab": {
          "base_uri": "https://localhost:8080/"
        },
        "id": "wielcK9vcThD",
        "outputId": "8fe84c15-00ab-4788-db14-7d1f56a8d0bd"
      },
      "execution_count": null,
      "outputs": [
        {
          "output_type": "execute_result",
          "data": {
            "text/plain": [
              "0"
            ]
          },
          "metadata": {},
          "execution_count": 20
        }
      ]
    },
    {
      "cell_type": "code",
      "source": [
        "model3.predict_proba([201 ,193, 31,38,'Jamahal Hill', 'Thiago Santos', 11, 1])"
      ],
      "metadata": {
        "colab": {
          "base_uri": "https://localhost:8080/"
        },
        "id": "eqwqAQ58aqdk",
        "outputId": "226603ae-00cb-4eba-e9c9-fb10a51e9c39"
      },
      "execution_count": null,
      "outputs": [
        {
          "output_type": "execute_result",
          "data": {
            "text/plain": [
              "array([0.87984287, 0.12015713])"
            ]
          },
          "metadata": {},
          "execution_count": 21
        }
      ]
    },
    {
      "cell_type": "code",
      "source": [
        "model3.predict([173 ,179, 37,29,'Dominick Cruz', 'Marlon Vera', 7, 4])"
      ],
      "metadata": {
        "colab": {
          "base_uri": "https://localhost:8080/"
        },
        "id": "wAqe_ZmQcYND",
        "outputId": "ca3f6266-159d-44db-fb4e-2cf01d63f289"
      },
      "execution_count": null,
      "outputs": [
        {
          "output_type": "execute_result",
          "data": {
            "text/plain": [
              "1"
            ]
          },
          "metadata": {},
          "execution_count": 22
        }
      ]
    },
    {
      "cell_type": "code",
      "source": [
        "model3.predict_proba([173 ,179, 37,29,'Dominick Cruz', 'Marlon Vera', 7, 4])"
      ],
      "metadata": {
        "colab": {
          "base_uri": "https://localhost:8080/"
        },
        "id": "XZKP07_fcZn6",
        "outputId": "f4660ac3-7319-446a-d2fe-df4cdc7dadc9"
      },
      "execution_count": null,
      "outputs": [
        {
          "output_type": "execute_result",
          "data": {
            "text/plain": [
              "array([0.48388538, 0.51611462])"
            ]
          },
          "metadata": {},
          "execution_count": 23
        }
      ]
    },
    {
      "cell_type": "code",
      "source": [
        "model2.predict_proba([173 ,179, 37,29,'Dominick Cruz', 'Marlon Vera', 7, 4])"
      ],
      "metadata": {
        "colab": {
          "base_uri": "https://localhost:8080/"
        },
        "id": "4OiZZHQTgD8C",
        "outputId": "61398eb4-0487-46fe-e383-49be9bff9f58"
      },
      "execution_count": null,
      "outputs": [
        {
          "output_type": "execute_result",
          "data": {
            "text/plain": [
              "array([0.26134688, 0.73865312])"
            ]
          },
          "metadata": {},
          "execution_count": 24
        }
      ]
    },
    {
      "cell_type": "markdown",
      "source": [
        "## Cross Validating On Train Set All Models, we perform cv to check for generalized model performance across our 4 model assumptions/forms.\n",
        "\n",
        "1. After 5 Cross Fold Validation, it is clear that assumpitons 2 and 4 did the best.\n",
        "2. Because A4. had the most stable results we will use it as our main model to further optimize.\n",
        "\n"
      ],
      "metadata": {
        "id": "-mCDbQjFQKjD"
      }
    },
    {
      "cell_type": "code",
      "source": [
        "#from catboost import Pool, cv\n",
        "\n",
        "#cv_dataset = Pool(data=model3_x_train,\n",
        "    #              label=model3_y_train,\n",
        "     #             cat_features=cats)\n",
        "\n",
        "#params = {\n",
        "     #     \"verbose\": False,\n",
        "     #     \"scale_pos_weight\": pos_scale}\n",
        "\n",
        "from sklearn.model_selection import cross_validate\n",
        "\n",
        "scoring = ['precision', 'recall', 'f1', 'accuracy']"
      ],
      "metadata": {
        "id": "3VNnvQNWBsrA"
      },
      "execution_count": null,
      "outputs": []
    },
    {
      "cell_type": "code",
      "source": [
        "#getting the classifiers ready, we will need to create new classifiers since we are using CV"
      ],
      "metadata": {
        "id": "zEZxcLe4NkMP"
      },
      "execution_count": null,
      "outputs": []
    },
    {
      "cell_type": "code",
      "source": [
        "scores1 = cross_validate(model1, X_res_model1,y_res_model1, cv=5,\n",
        "                        scoring=scoring, return_train_score=False, verbose = False)"
      ],
      "metadata": {
        "id": "horz0AimGNrS"
      },
      "execution_count": null,
      "outputs": []
    },
    {
      "cell_type": "code",
      "source": [
        "scores2 = cross_validate(model2, X_res_model2, y_res_model2, cv=5,\n",
        "                        scoring=scoring, return_train_score=False, verbose = False)"
      ],
      "metadata": {
        "id": "OceS970eCUOh"
      },
      "execution_count": null,
      "outputs": []
    },
    {
      "cell_type": "code",
      "source": [
        "scores3 = cross_validate(model3, model3_x_train, model3_y_train, cv=5,\n",
        "                        scoring=scoring, return_train_score=False, verbose = False)"
      ],
      "metadata": {
        "id": "DRZZdQHEEiM_"
      },
      "execution_count": null,
      "outputs": []
    },
    {
      "cell_type": "code",
      "source": [
        "scores4 = cross_validate(model4, model4_x_train, model4_y_train, cv=5,\n",
        "                        scoring=scoring, return_train_score=False, verbose = False)"
      ],
      "metadata": {
        "id": "47YKySq_FL-x"
      },
      "execution_count": null,
      "outputs": []
    },
    {
      "cell_type": "code",
      "source": [
        "scores1"
      ],
      "metadata": {
        "colab": {
          "base_uri": "https://localhost:8080/"
        },
        "id": "ZCiIqNqqFzBz",
        "outputId": "b502ebd6-4f59-4dba-eadd-469924d0e464"
      },
      "execution_count": null,
      "outputs": [
        {
          "output_type": "execute_result",
          "data": {
            "text/plain": [
              "{'fit_time': array([4.55028224, 4.56460166, 4.52839828, 4.59038281, 4.54551125]),\n",
              " 'score_time': array([0.00823593, 0.00761676, 0.00793004, 0.00812411, 0.00782681]),\n",
              " 'test_precision': array([0.68111455, 0.69491525, 0.665625  , 0.67465753, 0.6978852 ]),\n",
              " 'test_recall': array([0.62857143, 0.58571429, 0.60683761, 0.56125356, 0.66      ]),\n",
              " 'test_f1': array([0.653789  , 0.63565891, 0.63487332, 0.61275272, 0.6784141 ]),\n",
              " 'test_accuracy': array([0.66761769, 0.66476462, 0.65049929, 0.64479315, 0.68714286])}"
            ]
          },
          "metadata": {},
          "execution_count": 31
        }
      ]
    },
    {
      "cell_type": "code",
      "source": [
        "scores2"
      ],
      "metadata": {
        "colab": {
          "base_uri": "https://localhost:8080/"
        },
        "id": "LB1z2CgAG2z_",
        "outputId": "ec3259ef-5506-4032-fbc1-974d7a3440ff"
      },
      "execution_count": null,
      "outputs": [
        {
          "output_type": "execute_result",
          "data": {
            "text/plain": [
              "{'fit_time': array([7.9552269 , 7.66910124, 7.65212035, 9.10584259, 7.73821378]),\n",
              " 'score_time': array([0.01408601, 0.01274371, 0.01264906, 0.01269007, 0.01232719]),\n",
              " 'test_precision': array([0.67710843, 0.64876957, 0.72243839, 0.9352518 , 0.92508711]),\n",
              " 'test_recall': array([0.87267081, 0.90062112, 0.86490683, 0.80745342, 0.82581649]),\n",
              " 'test_f1': array([0.76255088, 0.75422627, 0.78727915, 0.86666667, 0.87263763]),\n",
              " 'test_accuracy': array([0.72826087, 0.70652174, 0.76630435, 0.87567988, 0.87956488])}"
            ]
          },
          "metadata": {},
          "execution_count": 32
        }
      ]
    },
    {
      "cell_type": "code",
      "source": [
        "scores3"
      ],
      "metadata": {
        "colab": {
          "base_uri": "https://localhost:8080/"
        },
        "id": "ndVpqPxfG45H",
        "outputId": "f68569a7-9fd0-4e0e-b54b-7aa2b039cccc"
      },
      "execution_count": null,
      "outputs": [
        {
          "output_type": "execute_result",
          "data": {
            "text/plain": [
              "{'fit_time': array([5.73106599, 5.72944593, 5.78777051, 5.84098268, 6.3632791 ]),\n",
              " 'score_time': array([0.01033378, 0.01029372, 0.01094699, 0.01011729, 0.01191664]),\n",
              " 'test_precision': array([0.82897862, 0.83014354, 0.82909931, 0.8488665 , 0.85678392]),\n",
              " 'test_recall': array([0.54192547, 0.53881988, 0.55745342, 0.52329193, 0.53032659]),\n",
              " 'test_f1': array([0.65539906, 0.65348399, 0.66666667, 0.64745437, 0.65513929]),\n",
              " 'test_accuracy': array([0.63115578, 0.62977867, 0.638833  , 0.63078471, 0.638833  ])}"
            ]
          },
          "metadata": {},
          "execution_count": 33
        }
      ]
    },
    {
      "cell_type": "code",
      "source": [
        "scores4"
      ],
      "metadata": {
        "colab": {
          "base_uri": "https://localhost:8080/"
        },
        "id": "-rtdX6xsG5si",
        "outputId": "8fff9f37-c8e4-4896-baeb-175f9c8d389a"
      },
      "execution_count": null,
      "outputs": [
        {
          "output_type": "execute_result",
          "data": {
            "text/plain": [
              "{'fit_time': array([5.51372409, 5.50849557, 5.59427333, 6.06485891, 5.63997293]),\n",
              " 'score_time': array([0.01126409, 0.01093006, 0.01081681, 0.01150179, 0.01115608]),\n",
              " 'test_precision': array([0.71834625, 0.74390244, 0.72301691, 0.73655914, 0.74054054]),\n",
              " 'test_recall': array([0.86335404, 0.85248447, 0.86335404, 0.85093168, 0.85225505]),\n",
              " 'test_f1': array([0.7842031 , 0.79450072, 0.78697806, 0.78962536, 0.79248012]),\n",
              " 'test_accuracy': array([0.69246231, 0.71428571, 0.6971831 , 0.70623742, 0.71126761])}"
            ]
          },
          "metadata": {},
          "execution_count": 34
        }
      ]
    },
    {
      "cell_type": "code",
      "source": [
        "X_res_model2.to_csv(\"X_resampled_train.csv\")\n",
        "\n",
        "pd.DataFrame(y_res_model2).to_csv('y_resampled_train.csv')"
      ],
      "metadata": {
        "id": "p9ChelU6SG_s"
      },
      "execution_count": null,
      "outputs": []
    },
    {
      "cell_type": "code",
      "source": [
        "y = pd.read_csv(\"y_resampled_train.csv\", index_col = 0)"
      ],
      "metadata": {
        "id": "pzMXqC3FSc3I"
      },
      "execution_count": null,
      "outputs": []
    },
    {
      "cell_type": "code",
      "source": [
        "y = y.rename(columns={'0': 'Winner'})"
      ],
      "metadata": {
        "id": "W1Qr81xzSwK0"
      },
      "execution_count": null,
      "outputs": []
    },
    {
      "cell_type": "code",
      "source": [
        "y.to_csv(\"y_resampled_train.csv\")"
      ],
      "metadata": {
        "id": "45zFUsiUSwhK"
      },
      "execution_count": null,
      "outputs": []
    },
    {
      "cell_type": "code",
      "source": [
        "#saving the best model \n",
        "import pickle\n",
        "\n",
        "pickle.dump(model2, open('catBoost.pkl', 'wb'))"
      ],
      "metadata": {
        "id": "6AFnMvsGUEhm"
      },
      "execution_count": null,
      "outputs": []
    },
    {
      "cell_type": "code",
      "source": [
        "#hyperparameter tuning \n",
        "\n",
        "grid = {'learning_rate': [0.03, 0.1],\n",
        "        'depth': [4, 6, 10],\n",
        "        'l2_leaf_reg': [1, 3, 5, 7, 9]}\n",
        "\n",
        "model2_tuned = CatBoostClassifier(cat_features = cats)\n",
        "\n",
        "\n",
        "grid_search_results = model2_tuned.grid_search(grid,\n",
        "                                       X=X_res_model2,\n",
        "                                       y=y_res_model2,\n",
        "                                       plot=False)\n",
        "\n",
        "#optimal parameters\n",
        "#{'params': {'depth': 4, 'l2_leaf_reg': 9, 'learning_rate': 0.1}"
      ],
      "metadata": {
        "id": "6wvEsBZAUFgy"
      },
      "execution_count": null,
      "outputs": []
    },
    {
      "cell_type": "code",
      "source": [
        "model2_tuned = CatBoostClassifier(cat_features = cats, depth = 4, l2_leaf_reg = 9, learning_rate = 0.1)\n",
        "model2_tuned.fit(X_res_model2, y_res_model2)"
      ],
      "metadata": {
        "id": "4_ZD5F5oiaSc"
      },
      "execution_count": null,
      "outputs": []
    },
    {
      "cell_type": "code",
      "source": [
        "pickle.dump(model2_tuned, open('catBoost_final.pkl', 'wb'))"
      ],
      "metadata": {
        "id": "QlYdZEH_i00V"
      },
      "execution_count": null,
      "outputs": []
    },
    {
      "cell_type": "code",
      "source": [
        "scores4 = cross_validate(model2_tuned, X_res_model2, y_res_model2, cv=5,\n",
        "                        scoring=scoring, return_train_score=False, verbose = False)"
      ],
      "metadata": {
        "id": "DVVU9FGojBjZ"
      },
      "execution_count": null,
      "outputs": []
    },
    {
      "cell_type": "markdown",
      "source": [],
      "metadata": {
        "id": "4u7GEgimF8d-"
      }
    },
    {
      "cell_type": "code",
      "source": [
        "#fixing the issue with fighter names"
      ],
      "metadata": {
        "id": "0lR_tRfekTZX"
      },
      "execution_count": null,
      "outputs": []
    },
    {
      "cell_type": "code",
      "source": [
        "cats"
      ],
      "metadata": {
        "id": "QxxgTblwHUlt"
      },
      "execution_count": null,
      "outputs": []
    },
    {
      "cell_type": "code",
      "source": [
        "#X_res_model2 = X_res_model2.drop(columns = ['B_fighter', 'R_fighter'])\n",
        "\n",
        "model2_tuned_v2 = CatBoostClassifier(depth = 4, l2_leaf_reg = 9, learning_rate = 0.1)\n"
      ],
      "metadata": {
        "id": "7AjGvl9EEy0C"
      },
      "execution_count": null,
      "outputs": []
    },
    {
      "cell_type": "code",
      "source": [
        "#model2_x_test = model2_x_test.drop(columns = ['B_fighter', 'R_fighter'])"
      ],
      "metadata": {
        "id": "H9nHWF96GfEl"
      },
      "execution_count": null,
      "outputs": []
    },
    {
      "cell_type": "code",
      "source": [
        "model2_tuned_v2.fit(X_res_model2, y_res_model2)"
      ],
      "metadata": {
        "id": "Kl05AIAhGz6q"
      },
      "execution_count": null,
      "outputs": []
    },
    {
      "cell_type": "code",
      "source": [
        "scores5 = cross_validate(model2_tuned_v2, X_res_model2, y_res_model2, cv=5,\n",
        "                        scoring=scoring, return_train_score=False, verbose = False)"
      ],
      "metadata": {
        "id": "zpd-LWKIG0oq"
      },
      "execution_count": null,
      "outputs": []
    },
    {
      "cell_type": "code",
      "source": [
        "scores5"
      ],
      "metadata": {
        "id": "L4WUFafcHk1G"
      },
      "execution_count": null,
      "outputs": []
    },
    {
      "cell_type": "code",
      "source": [
        "X_res_model2"
      ],
      "metadata": {
        "colab": {
          "base_uri": "https://localhost:8080/",
          "height": 419
        },
        "id": "mV9nIFHWukGv",
        "outputId": "1f986116-f1eb-4b06-b9af-c362940ffb9e"
      },
      "execution_count": null,
      "outputs": [
        {
          "output_type": "execute_result",
          "data": {
            "text/plain": [
              "      B_Reach_cms  R_Reach_cms      B_age      R_age              B_fighter  \\\n",
              "0      177.800000   180.340000  25.000000  27.000000  Olivier Aubin-Mercier   \n",
              "1      190.500000   180.340000  27.000000  35.000000        Khamzat Chimaev   \n",
              "2      190.500000   172.720000  28.000000  30.000000         Yancy Medeiros   \n",
              "3      182.880000   185.420000  32.000000  28.000000        Adriano Martins   \n",
              "4      180.340000   180.340000  31.000000  29.000000            Bobby Green   \n",
              "...           ...          ...        ...        ...                    ...   \n",
              "6433   181.152438   162.560000  28.000000  25.599287            Ji Yeon Kim   \n",
              "6434   160.020000   157.984777  30.198731  27.794924             Nina Nunes   \n",
              "6435   172.682151   172.720000  30.985099  28.985099        Poliana Botelho   \n",
              "6436   198.500553   203.961106  32.449472  34.149824          Derrick Lewis   \n",
              "6437   180.340000   180.340000  28.602313  34.198843  Alexander Volkanovski   \n",
              "\n",
              "            R_fighter  R_losses  B_losses  \n",
              "0        Chad Laprise         0         0  \n",
              "1       Gilbert Burns         4         0  \n",
              "2       John Makdessi         4         4  \n",
              "3     Rustam Khabilov         1         1  \n",
              "4           Erik Koch         4         4  \n",
              "...               ...       ...       ...  \n",
              "6433     Justine Kish         0         1  \n",
              "6434  Jessica Andrade         4         0  \n",
              "6435  Talita Bernardo         0         1  \n",
              "6436   Curtis Blaydes         2         3  \n",
              "6437    Darren Elkins         3         0  \n",
              "\n",
              "[6438 rows x 8 columns]"
            ],
            "text/html": [
              "\n",
              "  <div id=\"df-1c3ac1d0-75bd-4216-a931-d31ea8038e71\">\n",
              "    <div class=\"colab-df-container\">\n",
              "      <div>\n",
              "<style scoped>\n",
              "    .dataframe tbody tr th:only-of-type {\n",
              "        vertical-align: middle;\n",
              "    }\n",
              "\n",
              "    .dataframe tbody tr th {\n",
              "        vertical-align: top;\n",
              "    }\n",
              "\n",
              "    .dataframe thead th {\n",
              "        text-align: right;\n",
              "    }\n",
              "</style>\n",
              "<table border=\"1\" class=\"dataframe\">\n",
              "  <thead>\n",
              "    <tr style=\"text-align: right;\">\n",
              "      <th></th>\n",
              "      <th>B_Reach_cms</th>\n",
              "      <th>R_Reach_cms</th>\n",
              "      <th>B_age</th>\n",
              "      <th>R_age</th>\n",
              "      <th>B_fighter</th>\n",
              "      <th>R_fighter</th>\n",
              "      <th>R_losses</th>\n",
              "      <th>B_losses</th>\n",
              "    </tr>\n",
              "  </thead>\n",
              "  <tbody>\n",
              "    <tr>\n",
              "      <th>0</th>\n",
              "      <td>177.800000</td>\n",
              "      <td>180.340000</td>\n",
              "      <td>25.000000</td>\n",
              "      <td>27.000000</td>\n",
              "      <td>Olivier Aubin-Mercier</td>\n",
              "      <td>Chad Laprise</td>\n",
              "      <td>0</td>\n",
              "      <td>0</td>\n",
              "    </tr>\n",
              "    <tr>\n",
              "      <th>1</th>\n",
              "      <td>190.500000</td>\n",
              "      <td>180.340000</td>\n",
              "      <td>27.000000</td>\n",
              "      <td>35.000000</td>\n",
              "      <td>Khamzat Chimaev</td>\n",
              "      <td>Gilbert Burns</td>\n",
              "      <td>4</td>\n",
              "      <td>0</td>\n",
              "    </tr>\n",
              "    <tr>\n",
              "      <th>2</th>\n",
              "      <td>190.500000</td>\n",
              "      <td>172.720000</td>\n",
              "      <td>28.000000</td>\n",
              "      <td>30.000000</td>\n",
              "      <td>Yancy Medeiros</td>\n",
              "      <td>John Makdessi</td>\n",
              "      <td>4</td>\n",
              "      <td>4</td>\n",
              "    </tr>\n",
              "    <tr>\n",
              "      <th>3</th>\n",
              "      <td>182.880000</td>\n",
              "      <td>185.420000</td>\n",
              "      <td>32.000000</td>\n",
              "      <td>28.000000</td>\n",
              "      <td>Adriano Martins</td>\n",
              "      <td>Rustam Khabilov</td>\n",
              "      <td>1</td>\n",
              "      <td>1</td>\n",
              "    </tr>\n",
              "    <tr>\n",
              "      <th>4</th>\n",
              "      <td>180.340000</td>\n",
              "      <td>180.340000</td>\n",
              "      <td>31.000000</td>\n",
              "      <td>29.000000</td>\n",
              "      <td>Bobby Green</td>\n",
              "      <td>Erik Koch</td>\n",
              "      <td>4</td>\n",
              "      <td>4</td>\n",
              "    </tr>\n",
              "    <tr>\n",
              "      <th>...</th>\n",
              "      <td>...</td>\n",
              "      <td>...</td>\n",
              "      <td>...</td>\n",
              "      <td>...</td>\n",
              "      <td>...</td>\n",
              "      <td>...</td>\n",
              "      <td>...</td>\n",
              "      <td>...</td>\n",
              "    </tr>\n",
              "    <tr>\n",
              "      <th>6433</th>\n",
              "      <td>181.152438</td>\n",
              "      <td>162.560000</td>\n",
              "      <td>28.000000</td>\n",
              "      <td>25.599287</td>\n",
              "      <td>Ji Yeon Kim</td>\n",
              "      <td>Justine Kish</td>\n",
              "      <td>0</td>\n",
              "      <td>1</td>\n",
              "    </tr>\n",
              "    <tr>\n",
              "      <th>6434</th>\n",
              "      <td>160.020000</td>\n",
              "      <td>157.984777</td>\n",
              "      <td>30.198731</td>\n",
              "      <td>27.794924</td>\n",
              "      <td>Nina Nunes</td>\n",
              "      <td>Jessica Andrade</td>\n",
              "      <td>4</td>\n",
              "      <td>0</td>\n",
              "    </tr>\n",
              "    <tr>\n",
              "      <th>6435</th>\n",
              "      <td>172.682151</td>\n",
              "      <td>172.720000</td>\n",
              "      <td>30.985099</td>\n",
              "      <td>28.985099</td>\n",
              "      <td>Poliana Botelho</td>\n",
              "      <td>Talita Bernardo</td>\n",
              "      <td>0</td>\n",
              "      <td>1</td>\n",
              "    </tr>\n",
              "    <tr>\n",
              "      <th>6436</th>\n",
              "      <td>198.500553</td>\n",
              "      <td>203.961106</td>\n",
              "      <td>32.449472</td>\n",
              "      <td>34.149824</td>\n",
              "      <td>Derrick Lewis</td>\n",
              "      <td>Curtis Blaydes</td>\n",
              "      <td>2</td>\n",
              "      <td>3</td>\n",
              "    </tr>\n",
              "    <tr>\n",
              "      <th>6437</th>\n",
              "      <td>180.340000</td>\n",
              "      <td>180.340000</td>\n",
              "      <td>28.602313</td>\n",
              "      <td>34.198843</td>\n",
              "      <td>Alexander Volkanovski</td>\n",
              "      <td>Darren Elkins</td>\n",
              "      <td>3</td>\n",
              "      <td>0</td>\n",
              "    </tr>\n",
              "  </tbody>\n",
              "</table>\n",
              "<p>6438 rows × 8 columns</p>\n",
              "</div>\n",
              "      <button class=\"colab-df-convert\" onclick=\"convertToInteractive('df-1c3ac1d0-75bd-4216-a931-d31ea8038e71')\"\n",
              "              title=\"Convert this dataframe to an interactive table.\"\n",
              "              style=\"display:none;\">\n",
              "        \n",
              "  <svg xmlns=\"http://www.w3.org/2000/svg\" height=\"24px\"viewBox=\"0 0 24 24\"\n",
              "       width=\"24px\">\n",
              "    <path d=\"M0 0h24v24H0V0z\" fill=\"none\"/>\n",
              "    <path d=\"M18.56 5.44l.94 2.06.94-2.06 2.06-.94-2.06-.94-.94-2.06-.94 2.06-2.06.94zm-11 1L8.5 8.5l.94-2.06 2.06-.94-2.06-.94L8.5 2.5l-.94 2.06-2.06.94zm10 10l.94 2.06.94-2.06 2.06-.94-2.06-.94-.94-2.06-.94 2.06-2.06.94z\"/><path d=\"M17.41 7.96l-1.37-1.37c-.4-.4-.92-.59-1.43-.59-.52 0-1.04.2-1.43.59L10.3 9.45l-7.72 7.72c-.78.78-.78 2.05 0 2.83L4 21.41c.39.39.9.59 1.41.59.51 0 1.02-.2 1.41-.59l7.78-7.78 2.81-2.81c.8-.78.8-2.07 0-2.86zM5.41 20L4 18.59l7.72-7.72 1.47 1.35L5.41 20z\"/>\n",
              "  </svg>\n",
              "      </button>\n",
              "      \n",
              "  <style>\n",
              "    .colab-df-container {\n",
              "      display:flex;\n",
              "      flex-wrap:wrap;\n",
              "      gap: 12px;\n",
              "    }\n",
              "\n",
              "    .colab-df-convert {\n",
              "      background-color: #E8F0FE;\n",
              "      border: none;\n",
              "      border-radius: 50%;\n",
              "      cursor: pointer;\n",
              "      display: none;\n",
              "      fill: #1967D2;\n",
              "      height: 32px;\n",
              "      padding: 0 0 0 0;\n",
              "      width: 32px;\n",
              "    }\n",
              "\n",
              "    .colab-df-convert:hover {\n",
              "      background-color: #E2EBFA;\n",
              "      box-shadow: 0px 1px 2px rgba(60, 64, 67, 0.3), 0px 1px 3px 1px rgba(60, 64, 67, 0.15);\n",
              "      fill: #174EA6;\n",
              "    }\n",
              "\n",
              "    [theme=dark] .colab-df-convert {\n",
              "      background-color: #3B4455;\n",
              "      fill: #D2E3FC;\n",
              "    }\n",
              "\n",
              "    [theme=dark] .colab-df-convert:hover {\n",
              "      background-color: #434B5C;\n",
              "      box-shadow: 0px 1px 3px 1px rgba(0, 0, 0, 0.15);\n",
              "      filter: drop-shadow(0px 1px 2px rgba(0, 0, 0, 0.3));\n",
              "      fill: #FFFFFF;\n",
              "    }\n",
              "  </style>\n",
              "\n",
              "      <script>\n",
              "        const buttonEl =\n",
              "          document.querySelector('#df-1c3ac1d0-75bd-4216-a931-d31ea8038e71 button.colab-df-convert');\n",
              "        buttonEl.style.display =\n",
              "          google.colab.kernel.accessAllowed ? 'block' : 'none';\n",
              "\n",
              "        async function convertToInteractive(key) {\n",
              "          const element = document.querySelector('#df-1c3ac1d0-75bd-4216-a931-d31ea8038e71');\n",
              "          const dataTable =\n",
              "            await google.colab.kernel.invokeFunction('convertToInteractive',\n",
              "                                                     [key], {});\n",
              "          if (!dataTable) return;\n",
              "\n",
              "          const docLinkHtml = 'Like what you see? Visit the ' +\n",
              "            '<a target=\"_blank\" href=https://colab.research.google.com/notebooks/data_table.ipynb>data table notebook</a>'\n",
              "            + ' to learn more about interactive tables.';\n",
              "          element.innerHTML = '';\n",
              "          dataTable['output_type'] = 'display_data';\n",
              "          await google.colab.output.renderOutput(dataTable, element);\n",
              "          const docLink = document.createElement('div');\n",
              "          docLink.innerHTML = docLinkHtml;\n",
              "          element.appendChild(docLink);\n",
              "        }\n",
              "      </script>\n",
              "    </div>\n",
              "  </div>\n",
              "  "
            ]
          },
          "metadata": {},
          "execution_count": 64
        }
      ]
    },
    {
      "cell_type": "code",
      "source": [
        "model2_tuned.predict_proba([188, 193, 30, 35, 'Leon Edwards', 'Kamaru Usman', 1, 3])"
      ],
      "metadata": {
        "colab": {
          "base_uri": "https://localhost:8080/"
        },
        "id": "rHL1W_rIIDE8",
        "outputId": "25012851-7079-40d2-87ea-75bcb9b0df54"
      },
      "execution_count": null,
      "outputs": [
        {
          "output_type": "execute_result",
          "data": {
            "text/plain": [
              "array([0.20592606, 0.79407394])"
            ]
          },
          "metadata": {},
          "execution_count": 67
        }
      ]
    },
    {
      "cell_type": "code",
      "source": [
        "model2_tuned.predict_proba([188, 193, 30, 35, 'Leon Edwards', 'Kamaru Usman', 1, 3])"
      ],
      "metadata": {
        "id": "e_gMaK50vdDd"
      },
      "execution_count": null,
      "outputs": []
    },
    {
      "cell_type": "code",
      "source": [
        "def make_prediction(classifier, B_Reach, R_Reach, B_age, R_age, B_fighter_name, R_fighter_name, R_Losses, B_Losses):\n",
        "  prediction = classifier.predict_proba([B_Reach, R_Reach, B_age, R_age, B_fighter_name, R_fighter_name, R_Losses, B_Losses])\n",
        "  response = f\"This model predicts, {B_fighter_name} has a {round(prediction[0] * 100, 2)}% chance of winning and {R_fighter_name} has a {round(prediction[1] * 100, 2)}% chance of winning\"\n",
        "  return response "
      ],
      "metadata": {
        "id": "iMTCDd52t4C_"
      },
      "execution_count": null,
      "outputs": []
    },
    {
      "cell_type": "code",
      "source": [
        "make_prediction(model2_tuned, 188, 193, 30, 35, 'Leon Edwards', 'Kamaru Usman', 1, 3)"
      ],
      "metadata": {
        "colab": {
          "base_uri": "https://localhost:8080/",
          "height": 38
        },
        "id": "wA8aUPJqvmmO",
        "outputId": "4641fcf7-897e-450f-ba40-a5dd533773ca"
      },
      "execution_count": null,
      "outputs": [
        {
          "output_type": "execute_result",
          "data": {
            "text/plain": [
              "'This model predicts, Leon Edwards has a 20.59% chance of winning and Kamaru Usman has a 79.41% chance of winning'"
            ],
            "application/vnd.google.colaboratory.intrinsic+json": {
              "type": "string"
            }
          },
          "metadata": {},
          "execution_count": 84
        }
      ]
    },
    {
      "cell_type": "code",
      "source": [
        "make_prediction(model2_tuned, 196, 183, 37, 31, 'Luke Rockhold', 'Paulo Costa', 2, 5)"
      ],
      "metadata": {
        "colab": {
          "base_uri": "https://localhost:8080/",
          "height": 38
        },
        "id": "VYt20933w0aE",
        "outputId": "d2c8e728-78c4-48e6-c4d7-bfbf109ba860"
      },
      "execution_count": null,
      "outputs": [
        {
          "output_type": "execute_result",
          "data": {
            "text/plain": [
              "'This model predicts, Luke Rockhold has a 10.68% chance of winning and Paulo Costa has a 89.32% chance of winning'"
            ],
            "application/vnd.google.colaboratory.intrinsic+json": {
              "type": "string"
            }
          },
          "metadata": {},
          "execution_count": 85
        }
      ]
    },
    {
      "cell_type": "code",
      "source": [
        "make_prediction(model2_tuned, 173, 178, 31, 35, 'Merab Dvalishvili', 'Jose Aldo', 7, 4)"
      ],
      "metadata": {
        "colab": {
          "base_uri": "https://localhost:8080/",
          "height": 38
        },
        "id": "EWMy7YsRxaFo",
        "outputId": "a8dc6b4b-effd-4bca-9597-91be20cca2f1"
      },
      "execution_count": null,
      "outputs": [
        {
          "output_type": "execute_result",
          "data": {
            "text/plain": [
              "'This model predicts, Merab Dvalishvili has a 65.92% chance of winning and Jose Aldo has a 34.08% chance of winning'"
            ],
            "application/vnd.google.colaboratory.intrinsic+json": {
              "type": "string"
            }
          },
          "metadata": {},
          "execution_count": 86
        }
      ]
    }
  ]
}