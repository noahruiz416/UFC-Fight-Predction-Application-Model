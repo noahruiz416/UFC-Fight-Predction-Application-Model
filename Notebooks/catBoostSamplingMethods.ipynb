{
  "nbformat": 4,
  "nbformat_minor": 0,
  "metadata": {
    "colab": {
      "name": "catBoostSamplingMethods.ipynb",
      "provenance": [],
      "collapsed_sections": [
        "Wzv9ME5ZNRAr",
        "XGzHRoWmNWA4"
      ],
      "authorship_tag": "ABX9TyOZDA1B0FVv9AJALTEJYm8S",
      "include_colab_link": true
    },
    "kernelspec": {
      "name": "python3",
      "display_name": "Python 3"
    },
    "language_info": {
      "name": "python"
    }
  },
  "cells": [
    {
      "cell_type": "markdown",
      "metadata": {
        "id": "view-in-github",
        "colab_type": "text"
      },
      "source": [
        "<a href=\"https://colab.research.google.com/github/noahruiz416/UFC-Fight-Prediction-Application-Model/blob/main/Notebooks/catBoostSamplingMethods.ipynb\" target=\"_parent\"><img src=\"https://colab.research.google.com/assets/colab-badge.svg\" alt=\"Open In Colab\"/></a>"
      ]
    },
    {
      "cell_type": "markdown",
      "source": [
        "# In this notebook we will continue with buidling our model and will build on the work done in the feature selection notebook. For reference: \n",
        "\n",
        "##### https://github.com/noahruiz416/UFC-Fight-Prediction-Application-Model/blob/main/Notebooks/catBoostFeatureSelection.ipynb\n",
        "\n",
        "In particular this notebook will try a few different approaches: \n",
        "1. Random Undersampling -> Train -> Test\n",
        "2. Oversampling -> Train -> Test\n",
        "3. Scaling Model Weights -> Train -> Test\n",
        "4. Baseline Model for Comparing\n",
        "\n",
        "Though the nature of UFC fights does tend to favor the red corner (since the 'red' corner usually has the higher ranked fighter). I wanted to see if addressing the class imbalance would alter our model performance"
      ],
      "metadata": {
        "id": "vF_f2DgJMoUy"
      }
    },
    {
      "cell_type": "markdown",
      "source": [
        "## Dependencies"
      ],
      "metadata": {
        "id": "FiisTT29NOX5"
      }
    },
    {
      "cell_type": "code",
      "source": [
        "#installing shap, catboost and imbalanced-learn, only need to run once, if you have not comment out the #\n",
        "!pip install shap\n",
        "!pip install catboost\n",
        "!pip install imbalanced-learn"
      ],
      "metadata": {
        "id": "FrVL-U2EN3w5"
      },
      "execution_count": null,
      "outputs": []
    },
    {
      "cell_type": "code",
      "source": [
        "#ML Libraries\n",
        "from catboost import CatBoostClassifier\n",
        "\n",
        "#Preprocessing \n",
        "from sklearn import preprocessing\n",
        "\n",
        "#Essential for Data Loading \n",
        "import pandas as pd \n",
        "\n",
        "#Shapley for feature importance \n",
        "import shap\n",
        "\n",
        "#metrics \n",
        "from sklearn.metrics import classification_report\n",
        "from sklearn.metrics import plot_confusion_matrix\n",
        "from sklearn.metrics import matthews_corrcoef\n",
        "\n",
        "#imbalanced learn methods \n",
        "from imblearn.under_sampling import RandomUnderSampler\n",
        "from imblearn.over_sampling import SMOTENC"
      ],
      "metadata": {
        "id": "iN1AlpljN3gL"
      },
      "execution_count": 66,
      "outputs": []
    },
    {
      "cell_type": "markdown",
      "source": [
        "## Training Data Loads for Model 1, 2 and 3"
      ],
      "metadata": {
        "id": "GWXe6CjQOfRx"
      }
    },
    {
      "cell_type": "code",
      "source": [
        "#loading in our dataframes\n",
        "model1_x_train = pd.read_csv('X_processed_train.csv', index_col = 0)\n",
        "model1_y_train = pd.read_csv('y_processed_train.csv', index_col = 0)\n",
        "\n",
        "model2_x_train = pd.read_csv('X_processed_train.csv', index_col = 0)\n",
        "model2_y_train = pd.read_csv('y_processed_train.csv', index_col = 0)\n",
        "\n",
        "model3_x_train = pd.read_csv('X_processed_train.csv', index_col = 0)\n",
        "model3_y_train = pd.read_csv('y_processed_train.csv', index_col = 0)\n",
        "\n",
        "model4_x_train = pd.read_csv('X_processed_train.csv', index_col = 0)\n",
        "model4_y_train = pd.read_csv('y_processed_train.csv', index_col = 0)\n",
        "\n",
        "\n",
        "#binarizing the y train labels from red, blue -> red = 1, blue = 0\n",
        "model1_y_train = preprocessing.LabelBinarizer().fit_transform(model1_y_train['Winner'])\n",
        "model2_y_train = preprocessing.LabelBinarizer().fit_transform(model2_y_train['Winner'])\n",
        "model3_y_train = preprocessing.LabelBinarizer().fit_transform(model3_y_train['Winner'])\n",
        "model4_y_train = preprocessing.LabelBinarizer().fit_transform(model4_y_train['Winner'])\n",
        "\n",
        "\n",
        "#using only the subset of features we selected from our previous notebook \n",
        "model1_x_train = model1_x_train[['B_Reach_cms', 'R_Reach_cms', 'B_age', 'R_age',\n",
        "                                'B_fighter', 'R_fighter', 'R_losses', 'B_losses']]\n",
        "\n",
        "model2_x_train = model2_x_train[['B_Reach_cms', 'R_Reach_cms', 'B_age', 'R_age',\n",
        "                                'B_fighter', 'R_fighter', 'R_losses', 'B_losses']]\n",
        "\n",
        "model3_x_train = model3_x_train[['B_Reach_cms', 'R_Reach_cms', 'B_age', 'R_age',\n",
        "                                'B_fighter', 'R_fighter', 'R_losses', 'B_losses']]\n",
        "\n",
        "model4_x_train = model4_x_train[['B_Reach_cms', 'R_Reach_cms', 'B_age', 'R_age',\n",
        "                                'B_fighter', 'R_fighter', 'R_losses', 'B_losses']]\n",
        "\n",
        "\n",
        "#we will use these cat features for each model we run\n",
        "cats = [\"R_fighter\", \"B_fighter\"]\n"
      ],
      "metadata": {
        "id": "dQ-LnBo7OiVF"
      },
      "execution_count": 51,
      "outputs": []
    },
    {
      "cell_type": "markdown",
      "source": [
        "## Model 1\n",
        "\n",
        "This approach will follow the following idea, Random Undersampling -> Train -> Test"
      ],
      "metadata": {
        "id": "Wzv9ME5ZNRAr"
      }
    },
    {
      "cell_type": "code",
      "execution_count": 14,
      "metadata": {
        "colab": {
          "base_uri": "https://localhost:8080/"
        },
        "id": "s9KEDZIvMW2n",
        "outputId": "a1019b0d-31fd-4d59-b6d2-880e96682275"
      },
      "outputs": [
        {
          "output_type": "execute_result",
          "data": {
            "text/plain": [
              "<catboost.core.CatBoostClassifier at 0x7fdcc7074d50>"
            ]
          },
          "metadata": {},
          "execution_count": 14
        }
      ],
      "source": [
        "#undersampling our dataset and then fitting the model\n",
        "ros = RandomUnderSampler()\n",
        "X_res_model1, y_res_model1 = ros.fit_resample(model1_x_train, model1_y_train)\n",
        "\n",
        "model1 = CatBoostClassifier(cat_features = cats)\n",
        "\n",
        "model1.fit(X_res_model1, y_res_model1, verbose = False)"
      ]
    },
    {
      "cell_type": "markdown",
      "source": [
        "## Model 2\n",
        "This approach will follow the following idea, Oversampling -> Train -> Test"
      ],
      "metadata": {
        "id": "XGzHRoWmNWA4"
      }
    },
    {
      "cell_type": "code",
      "source": [
        "#utilizing the SMOTE oversampling method\n",
        "sm = SMOTENC(categorical_features=[4,5])\n",
        "X_res_model2, y_res_model2 = sm.fit_resample(model2_x_train, model2_y_train)\n",
        "\n",
        "model2 = CatBoostClassifier(cat_features = cats)\n",
        "\n",
        "model2.fit(X_res_model2, y_res_model2, verbose = False)"
      ],
      "metadata": {
        "colab": {
          "base_uri": "https://localhost:8080/"
        },
        "id": "yMibBcR9NW9F",
        "outputId": "b228a258-0ded-427f-a715-fc5bce792746"
      },
      "execution_count": 28,
      "outputs": [
        {
          "output_type": "execute_result",
          "data": {
            "text/plain": [
              "<catboost.core.CatBoostClassifier at 0x7fdcc6e9b350>"
            ]
          },
          "metadata": {},
          "execution_count": 28
        }
      ]
    },
    {
      "cell_type": "markdown",
      "source": [
        "## Model 3\n",
        "This approach will follow the following idea, Scaling Model Weights -> Train -> Test\n",
        "\n",
        "We will determine the pos_weight scale as follows: \n",
        "\n",
        "Count(negative examples)/ Count(Positive examples)"
      ],
      "metadata": {
        "id": "QuBhz7YoNYC1"
      }
    },
    {
      "cell_type": "code",
      "source": [
        "pos_scale = abs(((model3_y_train.sum() - len(model3_y_train))/len(model3_y_train)))\n",
        "\n",
        "model3 = CatBoostClassifier(cat_features = cats, scale_pos_weight = pos_scale)\n",
        "\n",
        "model3.fit(model3_x_train, model3_y_train, verbose = False)"
      ],
      "metadata": {
        "colab": {
          "base_uri": "https://localhost:8080/"
        },
        "id": "KUl4w4SANY3B",
        "outputId": "ba7df5ff-e340-4d65-afe2-f67bee9a988b"
      },
      "execution_count": 42,
      "outputs": [
        {
          "output_type": "execute_result",
          "data": {
            "text/plain": [
              "<catboost.core.CatBoostClassifier at 0x7fdcc6eac650>"
            ]
          },
          "metadata": {},
          "execution_count": 42
        }
      ]
    },
    {
      "cell_type": "markdown",
      "source": [
        "## Model 4\n",
        "In this approach we will simply use the same model in the past notebook to see how performance has changed"
      ],
      "metadata": {
        "id": "b0ZXbOpzU-Sg"
      }
    },
    {
      "cell_type": "code",
      "source": [
        "model4 = CatBoostClassifier(cat_features = cats)\n",
        "\n",
        "model4.fit(model4_x_train, model4_y_train, verbose = False)"
      ],
      "metadata": {
        "colab": {
          "base_uri": "https://localhost:8080/"
        },
        "id": "PrN5blpxVHpG",
        "outputId": "a452f8e3-c0d0-4dea-e21f-8b693f529143"
      },
      "execution_count": 50,
      "outputs": [
        {
          "output_type": "execute_result",
          "data": {
            "text/plain": [
              "<catboost.core.CatBoostClassifier at 0x7fdcc5f28d50>"
            ]
          },
          "metadata": {},
          "execution_count": 50
        }
      ]
    },
    {
      "cell_type": "markdown",
      "source": [
        "## Prepping Our Testing Data "
      ],
      "metadata": {
        "id": "5FcoeSW3QGvp"
      }
    },
    {
      "cell_type": "code",
      "source": [
        "#loading in our dataframes\n",
        "model1_x_test = pd.read_csv('X_processed_test.csv', index_col = 0)\n",
        "model1_y_test = pd.read_csv('y_processed_test.csv', index_col = 0)\n",
        "\n",
        "model2_x_test = pd.read_csv('X_processed_test.csv', index_col = 0)\n",
        "model2_y_test = pd.read_csv('y_processed_test.csv', index_col = 0)\n",
        "\n",
        "model3_x_test = pd.read_csv('X_processed_test.csv', index_col = 0)\n",
        "model3_y_test = pd.read_csv('y_processed_test.csv', index_col = 0)\n",
        "\n",
        "model4_x_test = pd.read_csv('X_processed_test.csv', index_col = 0)\n",
        "model4_y_test = pd.read_csv('y_processed_test.csv', index_col = 0)\n",
        "\n",
        "#binarizing the y train labels from red, blue -> red = 1, blue = 0\n",
        "model1_y_test = preprocessing.LabelBinarizer().fit_transform(model1_y_test['Winner'])\n",
        "model2_y_test = preprocessing.LabelBinarizer().fit_transform(model2_y_test['Winner'])\n",
        "model3_y_test = preprocessing.LabelBinarizer().fit_transform(model3_y_test['Winner'])\n",
        "model4_y_test = preprocessing.LabelBinarizer().fit_transform(model4_y_test['Winner'])\n",
        "\n",
        "\n",
        "#using only the subset of features we selected from our previous notebook \n",
        "model1_x_test = model1_x_test[['B_Reach_cms', 'R_Reach_cms', 'B_age', 'R_age',\n",
        "                                'B_fighter', 'R_fighter', 'R_losses', 'B_losses']]\n",
        "\n",
        "model2_x_test = model2_x_test[['B_Reach_cms', 'R_Reach_cms', 'B_age', 'R_age',\n",
        "                                'B_fighter', 'R_fighter', 'R_losses', 'B_losses']]\n",
        "\n",
        "model3_x_test = model3_x_test[['B_Reach_cms', 'R_Reach_cms', 'B_age', 'R_age',\n",
        "                                'B_fighter', 'R_fighter', 'R_losses', 'B_losses']]\n",
        "\n",
        "model4_x_test = model4_x_test[['B_Reach_cms', 'R_Reach_cms', 'B_age', 'R_age',\n",
        "                                'B_fighter', 'R_fighter', 'R_losses', 'B_losses']]                      "
      ],
      "metadata": {
        "id": "2Vfn3d1jQIqz"
      },
      "execution_count": 52,
      "outputs": []
    },
    {
      "cell_type": "markdown",
      "source": [
        "## Evaluation Methods "
      ],
      "metadata": {
        "id": "6nJpoPQ5QJBP"
      }
    },
    {
      "cell_type": "code",
      "source": [
        "from sklearn.metrics import f1_score"
      ],
      "metadata": {
        "id": "v-yAFSULWolZ"
      },
      "execution_count": 60,
      "outputs": []
    },
    {
      "cell_type": "code",
      "source": [
        "#getting predictions \n",
        "\n",
        "model1_preds = model1.predict(model1_x_test)\n",
        "model2_preds = model2.predict(model2_x_test)\n",
        "model3_preds = model3.predict(model3_x_test)\n",
        "model4_preds = model4.predict(model4_x_test)"
      ],
      "metadata": {
        "id": "IDwbmT0dQKGO"
      },
      "execution_count": 53,
      "outputs": []
    },
    {
      "cell_type": "code",
      "source": [
        "#model 1 report, rand undersampling\n",
        "print(classification_report(model1_y_test, model1_preds))\n",
        "print(f1_score(model1_y_test, model1_preds))\n",
        "print(matthews_corrcoef(model1_y_test, model1_preds))"
      ],
      "metadata": {
        "colab": {
          "base_uri": "https://localhost:8080/"
        },
        "id": "2uu7tDnuUNlR",
        "outputId": "b7e20ffb-7ce0-4dec-ed86-076bee02a055"
      },
      "execution_count": 67,
      "outputs": [
        {
          "output_type": "stream",
          "name": "stdout",
          "text": [
            "              precision    recall  f1-score   support\n",
            "\n",
            "           0       0.52      0.75      0.61       430\n",
            "           1       0.83      0.63      0.71       818\n",
            "\n",
            "    accuracy                           0.67      1248\n",
            "   macro avg       0.67      0.69      0.66      1248\n",
            "weighted avg       0.72      0.67      0.68      1248\n",
            "\n",
            "0.7148817802503477\n",
            "0.3629345136417715\n"
          ]
        }
      ]
    },
    {
      "cell_type": "code",
      "source": [
        "#model 2 report, SMOTE Oversampling\n",
        "print(classification_report(model2_y_test, model2_preds))\n",
        "print(f1_score(model2_y_test, model2_preds))\n",
        "print(matthews_corrcoef(model2_y_test, model2_preds))"
      ],
      "metadata": {
        "colab": {
          "base_uri": "https://localhost:8080/"
        },
        "id": "mnVy3jSZUOwt",
        "outputId": "547ea263-a027-4068-a19d-977b0e3cd510"
      },
      "execution_count": 68,
      "outputs": [
        {
          "output_type": "stream",
          "name": "stdout",
          "text": [
            "              precision    recall  f1-score   support\n",
            "\n",
            "           0       0.62      0.39      0.48       430\n",
            "           1       0.73      0.87      0.80       818\n",
            "\n",
            "    accuracy                           0.71      1248\n",
            "   macro avg       0.67      0.63      0.64      1248\n",
            "weighted avg       0.69      0.71      0.69      1248\n",
            "\n",
            "0.7953151143335193\n",
            "0.30156770874714656\n"
          ]
        }
      ]
    },
    {
      "cell_type": "code",
      "source": [
        "#model 3 report, Scaling Pos Class\n",
        "print(classification_report(model3_y_test, model3_preds))\n",
        "print(f1_score(model3_y_test, model3_preds))\n",
        "print(matthews_corrcoef(model3_y_test, model3_preds))"
      ],
      "metadata": {
        "colab": {
          "base_uri": "https://localhost:8080/"
        },
        "id": "LEsUhOPAUPm3",
        "outputId": "0a563f4a-4434-4ffd-f8ff-201334f2ba42"
      },
      "execution_count": 69,
      "outputs": [
        {
          "output_type": "stream",
          "name": "stdout",
          "text": [
            "              precision    recall  f1-score   support\n",
            "\n",
            "           0       0.51      0.82      0.63       430\n",
            "           1       0.86      0.59      0.70       818\n",
            "\n",
            "    accuracy                           0.67      1248\n",
            "   macro avg       0.69      0.71      0.67      1248\n",
            "weighted avg       0.74      0.67      0.68      1248\n",
            "\n",
            "0.7028985507246377\n",
            "0.3952873223986405\n"
          ]
        }
      ]
    },
    {
      "cell_type": "code",
      "source": [
        "print(classification_report(model4_y_test, model4_preds))\n",
        "print(f1_score(model4_y_test, model4_preds))\n",
        "print(matthews_corrcoef(model4_y_test, model4_preds))"
      ],
      "metadata": {
        "colab": {
          "base_uri": "https://localhost:8080/"
        },
        "id": "992fBfhNVbtX",
        "outputId": "ecbf6040-0b94-4e37-db7e-26926aa0958c"
      },
      "execution_count": 70,
      "outputs": [
        {
          "output_type": "stream",
          "name": "stdout",
          "text": [
            "              precision    recall  f1-score   support\n",
            "\n",
            "           0       0.63      0.40      0.49       430\n",
            "           1       0.74      0.87      0.80       818\n",
            "\n",
            "    accuracy                           0.71      1248\n",
            "   macro avg       0.68      0.64      0.64      1248\n",
            "weighted avg       0.70      0.71      0.69      1248\n",
            "\n",
            "0.7988826815642458\n",
            "0.316500887218655\n"
          ]
        }
      ]
    },
    {
      "cell_type": "markdown",
      "source": [
        "## Visualizing Classification With Confusion Matrix"
      ],
      "metadata": {
        "id": "a5gnXWC-VnM0"
      }
    },
    {
      "cell_type": "code",
      "source": [
        "plot_confusion_matrix(model1, model1_x_test, model1_y_test)"
      ],
      "metadata": {
        "colab": {
          "base_uri": "https://localhost:8080/",
          "height": 333
        },
        "id": "76Tr4s0xVrTc",
        "outputId": "6a7f50f6-e0ef-4eca-ceec-03dc21ec408e"
      },
      "execution_count": 56,
      "outputs": [
        {
          "output_type": "stream",
          "name": "stderr",
          "text": [
            "Function plot_confusion_matrix is deprecated; Function `plot_confusion_matrix` is deprecated in 1.0 and will be removed in 1.2. Use one of the class methods: ConfusionMatrixDisplay.from_predictions or ConfusionMatrixDisplay.from_estimator.\n"
          ]
        },
        {
          "output_type": "execute_result",
          "data": {
            "text/plain": [
              "<sklearn.metrics._plot.confusion_matrix.ConfusionMatrixDisplay at 0x7fdcc6d11ed0>"
            ]
          },
          "metadata": {},
          "execution_count": 56
        },
        {
          "output_type": "display_data",
          "data": {
            "text/plain": [
              "<Figure size 432x288 with 2 Axes>"
            ],
            "image/png": "[encoded data removed]"
          },
          "metadata": {
            "needs_background": "light"
          }
        }
      ]
    },
    {
      "cell_type": "code",
      "source": [
        "plot_confusion_matrix(model2, model2_x_test, model2_y_test)"
      ],
      "metadata": {
        "colab": {
          "base_uri": "https://localhost:8080/",
          "height": 333
        },
        "id": "dMyLQC8tWBCJ",
        "outputId": "fe0c2c8e-9dc5-4a33-b0df-c77ce4b8cbc0"
      },
      "execution_count": 57,
      "outputs": [
        {
          "output_type": "stream",
          "name": "stderr",
          "text": [
            "Function plot_confusion_matrix is deprecated; Function `plot_confusion_matrix` is deprecated in 1.0 and will be removed in 1.2. Use one of the class methods: ConfusionMatrixDisplay.from_predictions or ConfusionMatrixDisplay.from_estimator.\n"
          ]
        },
        {
          "output_type": "execute_result",
          "data": {
            "text/plain": [
              "<sklearn.metrics._plot.confusion_matrix.ConfusionMatrixDisplay at 0x7fdcc5d20d90>"
            ]
          },
          "metadata": {},
          "execution_count": 57
        },
        {
          "output_type": "display_data",
          "data": {
            "text/plain": [
              "<Figure size 432x288 with 2 Axes>"
            ],
            "image/png": "[encoded data removed]"
          },
          "metadata": {
            "needs_background": "light"
          }
        }
      ]
    },
    {
      "cell_type": "code",
      "source": [
        "plot_confusion_matrix(model3, model3_x_test, model3_y_test)"
      ],
      "metadata": {
        "colab": {
          "base_uri": "https://localhost:8080/",
          "height": 333
        },
        "id": "XVYpj1n2WExg",
        "outputId": "3a408568-4277-4541-c5f1-41f999e8cdbc"
      },
      "execution_count": 58,
      "outputs": [
        {
          "output_type": "stream",
          "name": "stderr",
          "text": [
            "Function plot_confusion_matrix is deprecated; Function `plot_confusion_matrix` is deprecated in 1.0 and will be removed in 1.2. Use one of the class methods: ConfusionMatrixDisplay.from_predictions or ConfusionMatrixDisplay.from_estimator.\n"
          ]
        },
        {
          "output_type": "execute_result",
          "data": {
            "text/plain": [
              "<sklearn.metrics._plot.confusion_matrix.ConfusionMatrixDisplay at 0x7fdcc6cd1190>"
            ]
          },
          "metadata": {},
          "execution_count": 58
        },
        {
          "output_type": "display_data",
          "data": {
            "text/plain": [
              "<Figure size 432x288 with 2 Axes>"
            ],
            "image/png": "[encoded data removed]"
          },
          "metadata": {
            "needs_background": "light"
          }
        }
      ]
    },
    {
      "cell_type": "code",
      "source": [
        "plot_confusion_matrix(model4, model4_x_test, model4_y_test)"
      ],
      "metadata": {
        "colab": {
          "base_uri": "https://localhost:8080/",
          "height": 333
        },
        "id": "6rRr7yaZWH0s",
        "outputId": "1f968a60-7413-491f-9416-871dab5ff3c1"
      },
      "execution_count": 59,
      "outputs": [
        {
          "output_type": "stream",
          "name": "stderr",
          "text": [
            "Function plot_confusion_matrix is deprecated; Function `plot_confusion_matrix` is deprecated in 1.0 and will be removed in 1.2. Use one of the class methods: ConfusionMatrixDisplay.from_predictions or ConfusionMatrixDisplay.from_estimator.\n"
          ]
        },
        {
          "output_type": "execute_result",
          "data": {
            "text/plain": [
              "<sklearn.metrics._plot.confusion_matrix.ConfusionMatrixDisplay at 0x7fdcc6c568d0>"
            ]
          },
          "metadata": {},
          "execution_count": 59
        },
        {
          "output_type": "display_data",
          "data": {
            "text/plain": [
              "<Figure size 432x288 with 2 Axes>"
            ],
            "image/png": "[encoded data removed]"
          },
          "metadata": {
            "needs_background": "light"
          }
        }
      ]
    },
    {
      "cell_type": "code",
      "source": [
        "#testing model on a recent fight\n",
        "model3_x_test"
      ],
      "metadata": {
        "colab": {
          "base_uri": "https://localhost:8080/",
          "height": 419
        },
        "id": "lejLyF5SagMl",
        "outputId": "0f90d5b8-82e6-489c-c71a-2611778410ca"
      },
      "execution_count": 71,
      "outputs": [
        {
          "output_type": "execute_result",
          "data": {
            "text/plain": [
              "      B_Reach_cms  R_Reach_cms  B_age  R_age              B_fighter  \\\n",
              "3368       182.88       190.50   35.0   35.0         Joshua Burkman   \n",
              "6125       180.34       177.80   26.0   23.0             Jason Dent   \n",
              "5542       180.34       195.58   34.0   29.0            Jason Brilz   \n",
              "1439       200.66       200.66   29.0   35.0  Antonio Carlos Junior   \n",
              "5950       182.88       177.80   27.0   34.0            Paul Taylor   \n",
              "...           ...          ...    ...    ...                    ...   \n",
              "3019       180.34       180.34   25.0   29.0        Lukasz Sajewski   \n",
              "741        172.72       172.72   29.0   35.0           Casey Kenney   \n",
              "4991       182.88       185.42   29.0   28.0            George Roop   \n",
              "3984       170.18       180.34   23.0   30.0       Michinori Tanaka   \n",
              "380        180.34       177.80   35.0   32.0       Michael Chandler   \n",
              "\n",
              "           R_fighter  R_losses  B_losses  \n",
              "3368    Patrick Cote         9         7  \n",
              "6125    Roger Huerta         0         0  \n",
              "5542  Eliot Marshall         0         0  \n",
              "1439      Uriah Hall         7         4  \n",
              "5950    Marcus Davis         1         0  \n",
              "...              ...       ...       ...  \n",
              "3019   Gilbert Burns         1         1  \n",
              "741    Dominick Cruz         2         1  \n",
              "4991     Hatsu Hioki         0         3  \n",
              "3984  Roland Delorme         2         0  \n",
              "380   Justin Gaethje         3         1  \n",
              "\n",
              "[1248 rows x 8 columns]"
            ],
            "text/html": [
              "\n",
              "  <div id=\"df-0d3bb139-1d93-4bd5-a1f5-7eebe41ce4de\">\n",
              "    <div class=\"colab-df-container\">\n",
              "      <div>\n",
              "<style scoped>\n",
              "    .dataframe tbody tr th:only-of-type {\n",
              "        vertical-align: middle;\n",
              "    }\n",
              "\n",
              "    .dataframe tbody tr th {\n",
              "        vertical-align: top;\n",
              "    }\n",
              "\n",
              "    .dataframe thead th {\n",
              "        text-align: right;\n",
              "    }\n",
              "</style>\n",
              "<table border=\"1\" class=\"dataframe\">\n",
              "  <thead>\n",
              "    <tr style=\"text-align: right;\">\n",
              "      <th></th>\n",
              "      <th>B_Reach_cms</th>\n",
              "      <th>R_Reach_cms</th>\n",
              "      <th>B_age</th>\n",
              "      <th>R_age</th>\n",
              "      <th>B_fighter</th>\n",
              "      <th>R_fighter</th>\n",
              "      <th>R_losses</th>\n",
              "      <th>B_losses</th>\n",
              "    </tr>\n",
              "  </thead>\n",
              "  <tbody>\n",
              "    <tr>\n",
              "      <th>3368</th>\n",
              "      <td>182.88</td>\n",
              "      <td>190.50</td>\n",
              "      <td>35.0</td>\n",
              "      <td>35.0</td>\n",
              "      <td>Joshua Burkman</td>\n",
              "      <td>Patrick Cote</td>\n",
              "      <td>9</td>\n",
              "      <td>7</td>\n",
              "    </tr>\n",
              "    <tr>\n",
              "      <th>6125</th>\n",
              "      <td>180.34</td>\n",
              "      <td>177.80</td>\n",
              "      <td>26.0</td>\n",
              "      <td>23.0</td>\n",
              "      <td>Jason Dent</td>\n",
              "      <td>Roger Huerta</td>\n",
              "      <td>0</td>\n",
              "      <td>0</td>\n",
              "    </tr>\n",
              "    <tr>\n",
              "      <th>5542</th>\n",
              "      <td>180.34</td>\n",
              "      <td>195.58</td>\n",
              "      <td>34.0</td>\n",
              "      <td>29.0</td>\n",
              "      <td>Jason Brilz</td>\n",
              "      <td>Eliot Marshall</td>\n",
              "      <td>0</td>\n",
              "      <td>0</td>\n",
              "    </tr>\n",
              "    <tr>\n",
              "      <th>1439</th>\n",
              "      <td>200.66</td>\n",
              "      <td>200.66</td>\n",
              "      <td>29.0</td>\n",
              "      <td>35.0</td>\n",
              "      <td>Antonio Carlos Junior</td>\n",
              "      <td>Uriah Hall</td>\n",
              "      <td>7</td>\n",
              "      <td>4</td>\n",
              "    </tr>\n",
              "    <tr>\n",
              "      <th>5950</th>\n",
              "      <td>182.88</td>\n",
              "      <td>177.80</td>\n",
              "      <td>27.0</td>\n",
              "      <td>34.0</td>\n",
              "      <td>Paul Taylor</td>\n",
              "      <td>Marcus Davis</td>\n",
              "      <td>1</td>\n",
              "      <td>0</td>\n",
              "    </tr>\n",
              "    <tr>\n",
              "      <th>...</th>\n",
              "      <td>...</td>\n",
              "      <td>...</td>\n",
              "      <td>...</td>\n",
              "      <td>...</td>\n",
              "      <td>...</td>\n",
              "      <td>...</td>\n",
              "      <td>...</td>\n",
              "      <td>...</td>\n",
              "    </tr>\n",
              "    <tr>\n",
              "      <th>3019</th>\n",
              "      <td>180.34</td>\n",
              "      <td>180.34</td>\n",
              "      <td>25.0</td>\n",
              "      <td>29.0</td>\n",
              "      <td>Lukasz Sajewski</td>\n",
              "      <td>Gilbert Burns</td>\n",
              "      <td>1</td>\n",
              "      <td>1</td>\n",
              "    </tr>\n",
              "    <tr>\n",
              "      <th>741</th>\n",
              "      <td>172.72</td>\n",
              "      <td>172.72</td>\n",
              "      <td>29.0</td>\n",
              "      <td>35.0</td>\n",
              "      <td>Casey Kenney</td>\n",
              "      <td>Dominick Cruz</td>\n",
              "      <td>2</td>\n",
              "      <td>1</td>\n",
              "    </tr>\n",
              "    <tr>\n",
              "      <th>4991</th>\n",
              "      <td>182.88</td>\n",
              "      <td>185.42</td>\n",
              "      <td>29.0</td>\n",
              "      <td>28.0</td>\n",
              "      <td>George Roop</td>\n",
              "      <td>Hatsu Hioki</td>\n",
              "      <td>0</td>\n",
              "      <td>3</td>\n",
              "    </tr>\n",
              "    <tr>\n",
              "      <th>3984</th>\n",
              "      <td>170.18</td>\n",
              "      <td>180.34</td>\n",
              "      <td>23.0</td>\n",
              "      <td>30.0</td>\n",
              "      <td>Michinori Tanaka</td>\n",
              "      <td>Roland Delorme</td>\n",
              "      <td>2</td>\n",
              "      <td>0</td>\n",
              "    </tr>\n",
              "    <tr>\n",
              "      <th>380</th>\n",
              "      <td>180.34</td>\n",
              "      <td>177.80</td>\n",
              "      <td>35.0</td>\n",
              "      <td>32.0</td>\n",
              "      <td>Michael Chandler</td>\n",
              "      <td>Justin Gaethje</td>\n",
              "      <td>3</td>\n",
              "      <td>1</td>\n",
              "    </tr>\n",
              "  </tbody>\n",
              "</table>\n",
              "<p>1248 rows × 8 columns</p>\n",
              "</div>\n",
              "      <button class=\"colab-df-convert\" onclick=\"convertToInteractive('df-0d3bb139-1d93-4bd5-a1f5-7eebe41ce4de')\"\n",
              "              title=\"Convert this dataframe to an interactive table.\"\n",
              "              style=\"display:none;\">\n",
              "        \n",
              "  <svg xmlns=\"http://www.w3.org/2000/svg\" height=\"24px\"viewBox=\"0 0 24 24\"\n",
              "       width=\"24px\">\n",
              "    <path d=\"M0 0h24v24H0V0z\" fill=\"none\"/>\n",
              "    <path d=\"M18.56 5.44l.94 2.06.94-2.06 2.06-.94-2.06-.94-.94-2.06-.94 2.06-2.06.94zm-11 1L8.5 8.5l.94-2.06 2.06-.94-2.06-.94L8.5 2.5l-.94 2.06-2.06.94zm10 10l.94 2.06.94-2.06 2.06-.94-2.06-.94-.94-2.06-.94 2.06-2.06.94z\"/><path d=\"M17.41 7.96l-1.37-1.37c-.4-.4-.92-.59-1.43-.59-.52 0-1.04.2-1.43.59L10.3 9.45l-7.72 7.72c-.78.78-.78 2.05 0 2.83L4 21.41c.39.39.9.59 1.41.59.51 0 1.02-.2 1.41-.59l7.78-7.78 2.81-2.81c.8-.78.8-2.07 0-2.86zM5.41 20L4 18.59l7.72-7.72 1.47 1.35L5.41 20z\"/>\n",
              "  </svg>\n",
              "      </button>\n",
              "      \n",
              "  <style>\n",
              "    .colab-df-container {\n",
              "      display:flex;\n",
              "      flex-wrap:wrap;\n",
              "      gap: 12px;\n",
              "    }\n",
              "\n",
              "    .colab-df-convert {\n",
              "      background-color: #E8F0FE;\n",
              "      border: none;\n",
              "      border-radius: 50%;\n",
              "      cursor: pointer;\n",
              "      display: none;\n",
              "      fill: #1967D2;\n",
              "      height: 32px;\n",
              "      padding: 0 0 0 0;\n",
              "      width: 32px;\n",
              "    }\n",
              "\n",
              "    .colab-df-convert:hover {\n",
              "      background-color: #E2EBFA;\n",
              "      box-shadow: 0px 1px 2px rgba(60, 64, 67, 0.3), 0px 1px 3px 1px rgba(60, 64, 67, 0.15);\n",
              "      fill: #174EA6;\n",
              "    }\n",
              "\n",
              "    [theme=dark] .colab-df-convert {\n",
              "      background-color: #3B4455;\n",
              "      fill: #D2E3FC;\n",
              "    }\n",
              "\n",
              "    [theme=dark] .colab-df-convert:hover {\n",
              "      background-color: #434B5C;\n",
              "      box-shadow: 0px 1px 3px 1px rgba(0, 0, 0, 0.15);\n",
              "      filter: drop-shadow(0px 1px 2px rgba(0, 0, 0, 0.3));\n",
              "      fill: #FFFFFF;\n",
              "    }\n",
              "  </style>\n",
              "\n",
              "      <script>\n",
              "        const buttonEl =\n",
              "          document.querySelector('#df-0d3bb139-1d93-4bd5-a1f5-7eebe41ce4de button.colab-df-convert');\n",
              "        buttonEl.style.display =\n",
              "          google.colab.kernel.accessAllowed ? 'block' : 'none';\n",
              "\n",
              "        async function convertToInteractive(key) {\n",
              "          const element = document.querySelector('#df-0d3bb139-1d93-4bd5-a1f5-7eebe41ce4de');\n",
              "          const dataTable =\n",
              "            await google.colab.kernel.invokeFunction('convertToInteractive',\n",
              "                                                     [key], {});\n",
              "          if (!dataTable) return;\n",
              "\n",
              "          const docLinkHtml = 'Like what you see? Visit the ' +\n",
              "            '<a target=\"_blank\" href=https://colab.research.google.com/notebooks/data_table.ipynb>data table notebook</a>'\n",
              "            + ' to learn more about interactive tables.';\n",
              "          element.innerHTML = '';\n",
              "          dataTable['output_type'] = 'display_data';\n",
              "          await google.colab.output.renderOutput(dataTable, element);\n",
              "          const docLink = document.createElement('div');\n",
              "          docLink.innerHTML = docLinkHtml;\n",
              "          element.appendChild(docLink);\n",
              "        }\n",
              "      </script>\n",
              "    </div>\n",
              "  </div>\n",
              "  "
            ]
          },
          "metadata": {},
          "execution_count": 71
        }
      ]
    },
    {
      "cell_type": "code",
      "source": [
        "model3.predict([201 ,193, 31,38,'Jamahal Hill', 'Thiago Santos', 11, 1])"
      ],
      "metadata": {
        "colab": {
          "base_uri": "https://localhost:8080/"
        },
        "id": "wielcK9vcThD",
        "outputId": "616dcad5-145b-477c-a037-37b61c8dec16"
      },
      "execution_count": 76,
      "outputs": [
        {
          "output_type": "execute_result",
          "data": {
            "text/plain": [
              "0"
            ]
          },
          "metadata": {},
          "execution_count": 76
        }
      ]
    },
    {
      "cell_type": "code",
      "source": [
        "model3.predict_proba([201 ,193, 31,38,'Jamahal Hill', 'Thiago Santos', 11, 1])"
      ],
      "metadata": {
        "colab": {
          "base_uri": "https://localhost:8080/"
        },
        "id": "eqwqAQ58aqdk",
        "outputId": "f30d5c32-e7fb-4cf7-d237-078116232289"
      },
      "execution_count": 75,
      "outputs": [
        {
          "output_type": "execute_result",
          "data": {
            "text/plain": [
              "array([0.87984287, 0.12015713])"
            ]
          },
          "metadata": {},
          "execution_count": 75
        }
      ]
    },
    {
      "cell_type": "code",
      "source": [
        "model3.predict([173 ,179, 37,29,'Dominick Cruz', 'Marlon Vera', 7, 4])"
      ],
      "metadata": {
        "colab": {
          "base_uri": "https://localhost:8080/"
        },
        "id": "wAqe_ZmQcYND",
        "outputId": "4e091d2d-f4fb-4ede-bdb4-35a99669edac"
      },
      "execution_count": 77,
      "outputs": [
        {
          "output_type": "execute_result",
          "data": {
            "text/plain": [
              "1"
            ]
          },
          "metadata": {},
          "execution_count": 77
        }
      ]
    },
    {
      "cell_type": "code",
      "source": [
        "model3.predict_proba([173 ,179, 37,29,'Dominick Cruz', 'Marlon Vera', 7, 4])"
      ],
      "metadata": {
        "colab": {
          "base_uri": "https://localhost:8080/"
        },
        "id": "XZKP07_fcZn6",
        "outputId": "a12f584a-5de2-4a65-ab8f-c1ef7507fd93"
      },
      "execution_count": 78,
      "outputs": [
        {
          "output_type": "execute_result",
          "data": {
            "text/plain": [
              "array([0.48388538, 0.51611462])"
            ]
          },
          "metadata": {},
          "execution_count": 78
        }
      ]
    },
    {
      "cell_type": "markdown",
      "source": [
        "## Shapley"
      ],
      "metadata": {
        "id": "-mCDbQjFQKjD"
      }
    }
  ]
}