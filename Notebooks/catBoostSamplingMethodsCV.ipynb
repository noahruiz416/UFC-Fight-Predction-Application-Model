{
  "nbformat": 4,
  "nbformat_minor": 0,
  "metadata": {
    "colab": {
      "name": "catBoostSamplingMethodsCV.ipynb",
      "provenance": [],
      "collapsed_sections": [],
      "authorship_tag": "ABX9TyM5yXeImWZ9gcOYKDedoQCS",
      "include_colab_link": true
    },
    "kernelspec": {
      "name": "python3",
      "display_name": "Python 3"
    },
    "language_info": {
      "name": "python"
    }
  },
  "cells": [
    {
      "cell_type": "markdown",
      "metadata": {
        "id": "view-in-github",
        "colab_type": "text"
      },
      "source": [
        "<a href=\"https://colab.research.google.com/github/noahruiz416/UFC-Fight-Prediction-Application-Model/blob/main/Notebooks/catBoostSamplingMethodsCV.ipynb\" target=\"_parent\"><img src=\"https://colab.research.google.com/assets/colab-badge.svg\" alt=\"Open In Colab\"/></a>"
      ]
    },
    {
      "cell_type": "markdown",
      "source": [
        "# In this notebook we will continue with buidling our model and will build on the work done in the feature selection notebook. For reference: \n",
        "\n",
        "##### https://github.com/noahruiz416/UFC-Fight-Prediction-Application-Model/blob/main/Notebooks/catBoostFeatureSelection.ipynb\n",
        "\n",
        "In particular this notebook will try a few different approaches: \n",
        "1. Random Undersampling -> Train -> Test\n",
        "2. Oversampling -> Train -> Test\n",
        "3. Scaling Model Weights -> Train -> Test\n",
        "4. Baseline Model for Comparing\n",
        "\n",
        "Though the nature of UFC fights does tend to favor the red corner (since the 'red' corner usually has the higher ranked fighter). I wanted to see if addressing the class imbalance would alter our model performance"
      ],
      "metadata": {
        "id": "vF_f2DgJMoUy"
      }
    },
    {
      "cell_type": "markdown",
      "source": [
        "## Dependencies"
      ],
      "metadata": {
        "id": "FiisTT29NOX5"
      }
    },
    {
      "cell_type": "code",
      "source": [
        "#installing shap, catboost and imbalanced-learn, only need to run once, if you have not comment out the #\n",
        "#!pip install shap\n",
        "#!pip install catboost\n",
        "#!pip install imbalanced-learn"
      ],
      "metadata": {
        "id": "FrVL-U2EN3w5"
      },
      "execution_count": 61,
      "outputs": []
    },
    {
      "cell_type": "code",
      "source": [
        "#ML Libraries\n",
        "from catboost import CatBoostClassifier\n",
        "\n",
        "#Preprocessing \n",
        "from sklearn import preprocessing\n",
        "\n",
        "#Essential for Data Loading \n",
        "import pandas as pd \n",
        "\n",
        "#Shapley for feature importance \n",
        "import shap\n",
        "\n",
        "#metrics \n",
        "from sklearn.metrics import classification_report\n",
        "from sklearn.metrics import plot_confusion_matrix\n",
        "from sklearn.metrics import matthews_corrcoef\n",
        "\n",
        "#imbalanced learn methods \n",
        "from imblearn.under_sampling import RandomUnderSampler\n",
        "from imblearn.over_sampling import SMOTENC"
      ],
      "metadata": {
        "id": "iN1AlpljN3gL"
      },
      "execution_count": 62,
      "outputs": []
    },
    {
      "cell_type": "markdown",
      "source": [
        "## Training Data Loads for Model 1, 2 and 3"
      ],
      "metadata": {
        "id": "GWXe6CjQOfRx"
      }
    },
    {
      "cell_type": "code",
      "source": [
        "#loading in our dataframes\n",
        "model1_x_train = pd.read_csv('X_processed_train.csv', index_col = 0)\n",
        "model1_y_train = pd.read_csv('y_processed_train.csv', index_col = 0)\n",
        "\n",
        "model2_x_train = pd.read_csv('X_processed_train.csv', index_col = 0)\n",
        "model2_y_train = pd.read_csv('y_processed_train.csv', index_col = 0)\n",
        "\n",
        "model3_x_train = pd.read_csv('X_processed_train.csv', index_col = 0)\n",
        "model3_y_train = pd.read_csv('y_processed_train.csv', index_col = 0)\n",
        "\n",
        "model4_x_train = pd.read_csv('X_processed_train.csv', index_col = 0)\n",
        "model4_y_train = pd.read_csv('y_processed_train.csv', index_col = 0)\n",
        "\n",
        "\n",
        "#binarizing the y train labels from red, blue -> red = 1, blue = 0\n",
        "model1_y_train = preprocessing.LabelBinarizer().fit_transform(model1_y_train['Winner'])\n",
        "model2_y_train = preprocessing.LabelBinarizer().fit_transform(model2_y_train['Winner'])\n",
        "model3_y_train = preprocessing.LabelBinarizer().fit_transform(model3_y_train['Winner'])\n",
        "model4_y_train = preprocessing.LabelBinarizer().fit_transform(model4_y_train['Winner'])\n",
        "\n",
        "\n",
        "#using only the subset of features we selected from our previous notebook \n",
        "model1_x_train = model1_x_train[['B_Reach_cms', 'R_Reach_cms', 'B_age', 'R_age',\n",
        "                                'B_fighter', 'R_fighter', 'R_losses', 'B_losses']]\n",
        "\n",
        "model2_x_train = model2_x_train[['B_Reach_cms', 'R_Reach_cms', 'B_age', 'R_age',\n",
        "                                'B_fighter', 'R_fighter', 'R_losses', 'B_losses']]\n",
        "\n",
        "model3_x_train = model3_x_train[['B_Reach_cms', 'R_Reach_cms', 'B_age', 'R_age',\n",
        "                                'B_fighter', 'R_fighter', 'R_losses', 'B_losses']]\n",
        "\n",
        "model4_x_train = model4_x_train[['B_Reach_cms', 'R_Reach_cms', 'B_age', 'R_age',\n",
        "                                'B_fighter', 'R_fighter', 'R_losses', 'B_losses']]\n",
        "\n",
        "\n",
        "#we will use these cat features for each model we run\n",
        "cats = [\"R_fighter\", \"B_fighter\"]\n"
      ],
      "metadata": {
        "id": "dQ-LnBo7OiVF"
      },
      "execution_count": 63,
      "outputs": []
    },
    {
      "cell_type": "markdown",
      "source": [
        "## Model 1\n",
        "\n",
        "This approach will follow the following idea, Random Undersampling -> Train -> Test"
      ],
      "metadata": {
        "id": "Wzv9ME5ZNRAr"
      }
    },
    {
      "cell_type": "code",
      "execution_count": 64,
      "metadata": {
        "colab": {
          "base_uri": "https://localhost:8080/"
        },
        "id": "s9KEDZIvMW2n",
        "outputId": "504fca56-e8cd-44e5-d50b-0a475baa3786"
      },
      "outputs": [
        {
          "output_type": "execute_result",
          "data": {
            "text/plain": [
              "<catboost.core.CatBoostClassifier at 0x7f0985dbe190>"
            ]
          },
          "metadata": {},
          "execution_count": 64
        }
      ],
      "source": [
        "#undersampling our dataset and then fitting the model\n",
        "ros = RandomUnderSampler()\n",
        "X_res_model1, y_res_model1 = ros.fit_resample(model1_x_train, model1_y_train)\n",
        "\n",
        "model1 = CatBoostClassifier(cat_features = cats)\n",
        "\n",
        "model1.fit(X_res_model1, y_res_model1, verbose = False)"
      ]
    },
    {
      "cell_type": "markdown",
      "source": [
        "## Model 2\n",
        "This approach will follow the following idea, Oversampling -> Train -> Test"
      ],
      "metadata": {
        "id": "XGzHRoWmNWA4"
      }
    },
    {
      "cell_type": "code",
      "source": [
        "#utilizing the SMOTE oversampling method\n",
        "sm = SMOTENC(categorical_features=[4,5])\n",
        "X_res_model2, y_res_model2 = sm.fit_resample(model2_x_train, model2_y_train)\n",
        "\n",
        "model2 = CatBoostClassifier(cat_features = cats)\n",
        "\n",
        "model2.fit(X_res_model2, y_res_model2, verbose = False)"
      ],
      "metadata": {
        "colab": {
          "base_uri": "https://localhost:8080/"
        },
        "id": "yMibBcR9NW9F",
        "outputId": "e31bad6b-3b89-480f-8f9d-a0acaf992b77"
      },
      "execution_count": 65,
      "outputs": [
        {
          "output_type": "execute_result",
          "data": {
            "text/plain": [
              "<catboost.core.CatBoostClassifier at 0x7f09874c5f90>"
            ]
          },
          "metadata": {},
          "execution_count": 65
        }
      ]
    },
    {
      "cell_type": "markdown",
      "source": [
        "## Model 3\n",
        "This approach will follow the following idea, Scaling Model Weights -> Train -> Test\n",
        "\n",
        "We will determine the pos_weight scale as follows: \n",
        "\n",
        "Count(negative examples)/ Count(Positive examples)"
      ],
      "metadata": {
        "id": "QuBhz7YoNYC1"
      }
    },
    {
      "cell_type": "code",
      "source": [
        "pos_scale = abs(((model3_y_train.sum() - len(model3_y_train))/len(model3_y_train)))\n",
        "\n",
        "model3 = CatBoostClassifier(cat_features = cats, scale_pos_weight = pos_scale)\n",
        "\n",
        "model3.fit(model3_x_train, model3_y_train, verbose = False)"
      ],
      "metadata": {
        "colab": {
          "base_uri": "https://localhost:8080/"
        },
        "id": "KUl4w4SANY3B",
        "outputId": "2ba92fcc-9301-4fd5-faa9-9f72855179a4"
      },
      "execution_count": 66,
      "outputs": [
        {
          "output_type": "execute_result",
          "data": {
            "text/plain": [
              "<catboost.core.CatBoostClassifier at 0x7f098752eb90>"
            ]
          },
          "metadata": {},
          "execution_count": 66
        }
      ]
    },
    {
      "cell_type": "markdown",
      "source": [
        "## Model 4\n",
        "In this approach we will simply use the same model in the past notebook to see how performance has changed"
      ],
      "metadata": {
        "id": "b0ZXbOpzU-Sg"
      }
    },
    {
      "cell_type": "code",
      "source": [
        "model4 = CatBoostClassifier(cat_features = cats)\n",
        "\n",
        "model4.fit(model4_x_train, model4_y_train, verbose = False)"
      ],
      "metadata": {
        "colab": {
          "base_uri": "https://localhost:8080/"
        },
        "id": "PrN5blpxVHpG",
        "outputId": "315ba5be-bc9e-4b10-99c7-3e2c04719d65"
      },
      "execution_count": 67,
      "outputs": [
        {
          "output_type": "execute_result",
          "data": {
            "text/plain": [
              "<catboost.core.CatBoostClassifier at 0x7f09875c0a10>"
            ]
          },
          "metadata": {},
          "execution_count": 67
        }
      ]
    },
    {
      "cell_type": "markdown",
      "source": [
        "## Prepping Our Testing Data "
      ],
      "metadata": {
        "id": "5FcoeSW3QGvp"
      }
    },
    {
      "cell_type": "code",
      "source": [
        "#loading in our dataframes\n",
        "model1_x_test = pd.read_csv('X_processed_test.csv', index_col = 0)\n",
        "model1_y_test = pd.read_csv('y_processed_test.csv', index_col = 0)\n",
        "\n",
        "model2_x_test = pd.read_csv('X_processed_test.csv', index_col = 0)\n",
        "model2_y_test = pd.read_csv('y_processed_test.csv', index_col = 0)\n",
        "\n",
        "model3_x_test = pd.read_csv('X_processed_test.csv', index_col = 0)\n",
        "model3_y_test = pd.read_csv('y_processed_test.csv', index_col = 0)\n",
        "\n",
        "model4_x_test = pd.read_csv('X_processed_test.csv', index_col = 0)\n",
        "model4_y_test = pd.read_csv('y_processed_test.csv', index_col = 0)\n",
        "\n",
        "#binarizing the y train labels from red, blue -> red = 1, blue = 0\n",
        "model1_y_test = preprocessing.LabelBinarizer().fit_transform(model1_y_test['Winner'])\n",
        "model2_y_test = preprocessing.LabelBinarizer().fit_transform(model2_y_test['Winner'])\n",
        "model3_y_test = preprocessing.LabelBinarizer().fit_transform(model3_y_test['Winner'])\n",
        "model4_y_test = preprocessing.LabelBinarizer().fit_transform(model4_y_test['Winner'])\n",
        "\n",
        "\n",
        "#using only the subset of features we selected from our previous notebook \n",
        "model1_x_test = model1_x_test[['B_Reach_cms', 'R_Reach_cms', 'B_age', 'R_age',\n",
        "                                'B_fighter', 'R_fighter', 'R_losses', 'B_losses']]\n",
        "\n",
        "model2_x_test = model2_x_test[['B_Reach_cms', 'R_Reach_cms', 'B_age', 'R_age',\n",
        "                                'B_fighter', 'R_fighter', 'R_losses', 'B_losses']]\n",
        "\n",
        "model3_x_test = model3_x_test[['B_Reach_cms', 'R_Reach_cms', 'B_age', 'R_age',\n",
        "                                'B_fighter', 'R_fighter', 'R_losses', 'B_losses']]\n",
        "\n",
        "model4_x_test = model4_x_test[['B_Reach_cms', 'R_Reach_cms', 'B_age', 'R_age',\n",
        "                                'B_fighter', 'R_fighter', 'R_losses', 'B_losses']]                      "
      ],
      "metadata": {
        "id": "2Vfn3d1jQIqz"
      },
      "execution_count": 68,
      "outputs": []
    },
    {
      "cell_type": "markdown",
      "source": [
        "## Evaluation Methods "
      ],
      "metadata": {
        "id": "6nJpoPQ5QJBP"
      }
    },
    {
      "cell_type": "code",
      "source": [
        "from sklearn.metrics import f1_score"
      ],
      "metadata": {
        "id": "v-yAFSULWolZ"
      },
      "execution_count": 69,
      "outputs": []
    },
    {
      "cell_type": "code",
      "source": [
        "#getting predictions \n",
        "\n",
        "model1_preds = model1.predict(model1_x_test)\n",
        "model2_preds = model2.predict(model2_x_test)\n",
        "model3_preds = model3.predict(model3_x_test)\n",
        "model4_preds = model4.predict(model4_x_test)"
      ],
      "metadata": {
        "id": "IDwbmT0dQKGO"
      },
      "execution_count": 70,
      "outputs": []
    },
    {
      "cell_type": "code",
      "source": [
        "#model 1 report, rand undersampling\n",
        "print(classification_report(model1_y_test, model1_preds))\n",
        "print(f1_score(model1_y_test, model1_preds))\n",
        "print(matthews_corrcoef(model1_y_test, model1_preds))"
      ],
      "metadata": {
        "colab": {
          "base_uri": "https://localhost:8080/"
        },
        "id": "2uu7tDnuUNlR",
        "outputId": "a74613a0-fceb-4e3b-9026-a42bda8d34c4"
      },
      "execution_count": 71,
      "outputs": [
        {
          "output_type": "stream",
          "name": "stdout",
          "text": [
            "              precision    recall  f1-score   support\n",
            "\n",
            "           0       0.50      0.74      0.59       430\n",
            "           1       0.82      0.61      0.70       818\n",
            "\n",
            "    accuracy                           0.65      1248\n",
            "   macro avg       0.66      0.67      0.65      1248\n",
            "weighted avg       0.71      0.65      0.66      1248\n",
            "\n",
            "0.6969909027291813\n",
            "0.3289355313717396\n"
          ]
        }
      ]
    },
    {
      "cell_type": "code",
      "source": [
        "#model 2 report, SMOTE Oversampling\n",
        "print(classification_report(model2_y_test, model2_preds))\n",
        "print(f1_score(model2_y_test, model2_preds))\n",
        "print(matthews_corrcoef(model2_y_test, model2_preds))"
      ],
      "metadata": {
        "colab": {
          "base_uri": "https://localhost:8080/"
        },
        "id": "mnVy3jSZUOwt",
        "outputId": "85dba972-034b-4125-ff38-ead73b3d74bf"
      },
      "execution_count": 72,
      "outputs": [
        {
          "output_type": "stream",
          "name": "stdout",
          "text": [
            "              precision    recall  f1-score   support\n",
            "\n",
            "           0       0.61      0.39      0.48       430\n",
            "           1       0.73      0.87      0.79       818\n",
            "\n",
            "    accuracy                           0.70      1248\n",
            "   macro avg       0.67      0.63      0.63      1248\n",
            "weighted avg       0.69      0.70      0.68      1248\n",
            "\n",
            "0.7926215762996087\n",
            "0.29440640888338676\n"
          ]
        }
      ]
    },
    {
      "cell_type": "code",
      "source": [
        "#model 3 report, Scaling Pos Class\n",
        "print(classification_report(model3_y_test, model3_preds))\n",
        "print(f1_score(model3_y_test, model3_preds))\n",
        "print(matthews_corrcoef(model3_y_test, model3_preds))"
      ],
      "metadata": {
        "colab": {
          "base_uri": "https://localhost:8080/"
        },
        "id": "LEsUhOPAUPm3",
        "outputId": "16cc7512-69c4-44c0-bd96-6e758c24ea03"
      },
      "execution_count": 73,
      "outputs": [
        {
          "output_type": "stream",
          "name": "stdout",
          "text": [
            "              precision    recall  f1-score   support\n",
            "\n",
            "           0       0.51      0.82      0.63       430\n",
            "           1       0.86      0.59      0.70       818\n",
            "\n",
            "    accuracy                           0.67      1248\n",
            "   macro avg       0.69      0.71      0.67      1248\n",
            "weighted avg       0.74      0.67      0.68      1248\n",
            "\n",
            "0.7028985507246377\n",
            "0.3952873223986405\n"
          ]
        }
      ]
    },
    {
      "cell_type": "code",
      "source": [
        "print(classification_report(model4_y_test, model4_preds))\n",
        "print(f1_score(model4_y_test, model4_preds))\n",
        "print(matthews_corrcoef(model4_y_test, model4_preds))"
      ],
      "metadata": {
        "colab": {
          "base_uri": "https://localhost:8080/"
        },
        "id": "992fBfhNVbtX",
        "outputId": "6e6ca97f-48e3-46a7-ed3b-db6d3a1b2856"
      },
      "execution_count": 74,
      "outputs": [
        {
          "output_type": "stream",
          "name": "stdout",
          "text": [
            "              precision    recall  f1-score   support\n",
            "\n",
            "           0       0.63      0.40      0.49       430\n",
            "           1       0.74      0.87      0.80       818\n",
            "\n",
            "    accuracy                           0.71      1248\n",
            "   macro avg       0.68      0.64      0.64      1248\n",
            "weighted avg       0.70      0.71      0.69      1248\n",
            "\n",
            "0.7988826815642458\n",
            "0.316500887218655\n"
          ]
        }
      ]
    },
    {
      "cell_type": "markdown",
      "source": [
        "## Visualizing Classification With Confusion Matrix"
      ],
      "metadata": {
        "id": "a5gnXWC-VnM0"
      }
    },
    {
      "cell_type": "code",
      "source": [
        "plot_confusion_matrix(model1, model1_x_test, model1_y_test)"
      ],
      "metadata": {
        "colab": {
          "base_uri": "https://localhost:8080/",
          "height": 333
        },
        "id": "76Tr4s0xVrTc",
        "outputId": "3129e92a-8124-46a8-8d46-d6306a9518b8"
      },
      "execution_count": 75,
      "outputs": [
        {
          "output_type": "stream",
          "name": "stderr",
          "text": [
            "Function plot_confusion_matrix is deprecated; Function `plot_confusion_matrix` is deprecated in 1.0 and will be removed in 1.2. Use one of the class methods: ConfusionMatrixDisplay.from_predictions or ConfusionMatrixDisplay.from_estimator.\n"
          ]
        },
        {
          "output_type": "execute_result",
          "data": {
            "text/plain": [
              "<sklearn.metrics._plot.confusion_matrix.ConfusionMatrixDisplay at 0x7f0986729f50>"
            ]
          },
          "metadata": {},
          "execution_count": 75
        },
        {
          "output_type": "display_data",
          "data": {
            "text/plain": [
              "<Figure size 432x288 with 2 Axes>"
            ],
            "image/png": "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\n"
          },
          "metadata": {
            "needs_background": "light"
          }
        }
      ]
    },
    {
      "cell_type": "code",
      "source": [
        "plot_confusion_matrix(model2, model2_x_test, model2_y_test)"
      ],
      "metadata": {
        "colab": {
          "base_uri": "https://localhost:8080/",
          "height": 334
        },
        "id": "dMyLQC8tWBCJ",
        "outputId": "52969c29-c4fd-45a0-c59a-295854a029a3"
      },
      "execution_count": 76,
      "outputs": [
        {
          "output_type": "stream",
          "name": "stderr",
          "text": [
            "Function plot_confusion_matrix is deprecated; Function `plot_confusion_matrix` is deprecated in 1.0 and will be removed in 1.2. Use one of the class methods: ConfusionMatrixDisplay.from_predictions or ConfusionMatrixDisplay.from_estimator.\n"
          ]
        },
        {
          "output_type": "execute_result",
          "data": {
            "text/plain": [
              "<sklearn.metrics._plot.confusion_matrix.ConfusionMatrixDisplay at 0x7f09874af9d0>"
            ]
          },
          "metadata": {},
          "execution_count": 76
        },
        {
          "output_type": "display_data",
          "data": {
            "text/plain": [
              "<Figure size 432x288 with 2 Axes>"
            ],
            "image/png": "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\n"
          },
          "metadata": {
            "needs_background": "light"
          }
        }
      ]
    },
    {
      "cell_type": "code",
      "source": [
        "plot_confusion_matrix(model3, model3_x_test, model3_y_test)"
      ],
      "metadata": {
        "colab": {
          "base_uri": "https://localhost:8080/",
          "height": 333
        },
        "id": "XVYpj1n2WExg",
        "outputId": "58d6f55a-be2c-4459-e627-fbf26034fdfe"
      },
      "execution_count": 77,
      "outputs": [
        {
          "output_type": "stream",
          "name": "stderr",
          "text": [
            "Function plot_confusion_matrix is deprecated; Function `plot_confusion_matrix` is deprecated in 1.0 and will be removed in 1.2. Use one of the class methods: ConfusionMatrixDisplay.from_predictions or ConfusionMatrixDisplay.from_estimator.\n"
          ]
        },
        {
          "output_type": "execute_result",
          "data": {
            "text/plain": [
              "<sklearn.metrics._plot.confusion_matrix.ConfusionMatrixDisplay at 0x7f0985c65690>"
            ]
          },
          "metadata": {},
          "execution_count": 77
        },
        {
          "output_type": "display_data",
          "data": {
            "text/plain": [
              "<Figure size 432x288 with 2 Axes>"
            ],
            "image/png": "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\n"
          },
          "metadata": {
            "needs_background": "light"
          }
        }
      ]
    },
    {
      "cell_type": "code",
      "source": [
        "plot_confusion_matrix(model4, model4_x_test, model4_y_test)"
      ],
      "metadata": {
        "colab": {
          "base_uri": "https://localhost:8080/",
          "height": 333
        },
        "id": "6rRr7yaZWH0s",
        "outputId": "a988ea43-c1fd-44db-d45c-2a4c067c5907"
      },
      "execution_count": 78,
      "outputs": [
        {
          "output_type": "stream",
          "name": "stderr",
          "text": [
            "Function plot_confusion_matrix is deprecated; Function `plot_confusion_matrix` is deprecated in 1.0 and will be removed in 1.2. Use one of the class methods: ConfusionMatrixDisplay.from_predictions or ConfusionMatrixDisplay.from_estimator.\n"
          ]
        },
        {
          "output_type": "execute_result",
          "data": {
            "text/plain": [
              "<sklearn.metrics._plot.confusion_matrix.ConfusionMatrixDisplay at 0x7f0985b81890>"
            ]
          },
          "metadata": {},
          "execution_count": 78
        },
        {
          "output_type": "display_data",
          "data": {
            "text/plain": [
              "<Figure size 432x288 with 2 Axes>"
            ],
            "image/png": "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\n"
          },
          "metadata": {
            "needs_background": "light"
          }
        }
      ]
    },
    {
      "cell_type": "code",
      "source": [
        "#testing model on a recent fight\n",
        "model3_x_test"
      ],
      "metadata": {
        "colab": {
          "base_uri": "https://localhost:8080/",
          "height": 419
        },
        "id": "lejLyF5SagMl",
        "outputId": "f59d4390-0299-4026-a953-b67d40f7b0f9"
      },
      "execution_count": 79,
      "outputs": [
        {
          "output_type": "execute_result",
          "data": {
            "text/plain": [
              "      B_Reach_cms  R_Reach_cms  B_age  R_age              B_fighter  \\\n",
              "3368       182.88       190.50   35.0   35.0         Joshua Burkman   \n",
              "6125       180.34       177.80   26.0   23.0             Jason Dent   \n",
              "5542       180.34       195.58   34.0   29.0            Jason Brilz   \n",
              "1439       200.66       200.66   29.0   35.0  Antonio Carlos Junior   \n",
              "5950       182.88       177.80   27.0   34.0            Paul Taylor   \n",
              "...           ...          ...    ...    ...                    ...   \n",
              "3019       180.34       180.34   25.0   29.0        Lukasz Sajewski   \n",
              "741        172.72       172.72   29.0   35.0           Casey Kenney   \n",
              "4991       182.88       185.42   29.0   28.0            George Roop   \n",
              "3984       170.18       180.34   23.0   30.0       Michinori Tanaka   \n",
              "380        180.34       177.80   35.0   32.0       Michael Chandler   \n",
              "\n",
              "           R_fighter  R_losses  B_losses  \n",
              "3368    Patrick Cote         9         7  \n",
              "6125    Roger Huerta         0         0  \n",
              "5542  Eliot Marshall         0         0  \n",
              "1439      Uriah Hall         7         4  \n",
              "5950    Marcus Davis         1         0  \n",
              "...              ...       ...       ...  \n",
              "3019   Gilbert Burns         1         1  \n",
              "741    Dominick Cruz         2         1  \n",
              "4991     Hatsu Hioki         0         3  \n",
              "3984  Roland Delorme         2         0  \n",
              "380   Justin Gaethje         3         1  \n",
              "\n",
              "[1248 rows x 8 columns]"
            ],
            "text/html": [
              "\n",
              "  <div id=\"df-4f8ec39c-beb5-4477-b4de-1334e27b1a63\">\n",
              "    <div class=\"colab-df-container\">\n",
              "      <div>\n",
              "<style scoped>\n",
              "    .dataframe tbody tr th:only-of-type {\n",
              "        vertical-align: middle;\n",
              "    }\n",
              "\n",
              "    .dataframe tbody tr th {\n",
              "        vertical-align: top;\n",
              "    }\n",
              "\n",
              "    .dataframe thead th {\n",
              "        text-align: right;\n",
              "    }\n",
              "</style>\n",
              "<table border=\"1\" class=\"dataframe\">\n",
              "  <thead>\n",
              "    <tr style=\"text-align: right;\">\n",
              "      <th></th>\n",
              "      <th>B_Reach_cms</th>\n",
              "      <th>R_Reach_cms</th>\n",
              "      <th>B_age</th>\n",
              "      <th>R_age</th>\n",
              "      <th>B_fighter</th>\n",
              "      <th>R_fighter</th>\n",
              "      <th>R_losses</th>\n",
              "      <th>B_losses</th>\n",
              "    </tr>\n",
              "  </thead>\n",
              "  <tbody>\n",
              "    <tr>\n",
              "      <th>3368</th>\n",
              "      <td>182.88</td>\n",
              "      <td>190.50</td>\n",
              "      <td>35.0</td>\n",
              "      <td>35.0</td>\n",
              "      <td>Joshua Burkman</td>\n",
              "      <td>Patrick Cote</td>\n",
              "      <td>9</td>\n",
              "      <td>7</td>\n",
              "    </tr>\n",
              "    <tr>\n",
              "      <th>6125</th>\n",
              "      <td>180.34</td>\n",
              "      <td>177.80</td>\n",
              "      <td>26.0</td>\n",
              "      <td>23.0</td>\n",
              "      <td>Jason Dent</td>\n",
              "      <td>Roger Huerta</td>\n",
              "      <td>0</td>\n",
              "      <td>0</td>\n",
              "    </tr>\n",
              "    <tr>\n",
              "      <th>5542</th>\n",
              "      <td>180.34</td>\n",
              "      <td>195.58</td>\n",
              "      <td>34.0</td>\n",
              "      <td>29.0</td>\n",
              "      <td>Jason Brilz</td>\n",
              "      <td>Eliot Marshall</td>\n",
              "      <td>0</td>\n",
              "      <td>0</td>\n",
              "    </tr>\n",
              "    <tr>\n",
              "      <th>1439</th>\n",
              "      <td>200.66</td>\n",
              "      <td>200.66</td>\n",
              "      <td>29.0</td>\n",
              "      <td>35.0</td>\n",
              "      <td>Antonio Carlos Junior</td>\n",
              "      <td>Uriah Hall</td>\n",
              "      <td>7</td>\n",
              "      <td>4</td>\n",
              "    </tr>\n",
              "    <tr>\n",
              "      <th>5950</th>\n",
              "      <td>182.88</td>\n",
              "      <td>177.80</td>\n",
              "      <td>27.0</td>\n",
              "      <td>34.0</td>\n",
              "      <td>Paul Taylor</td>\n",
              "      <td>Marcus Davis</td>\n",
              "      <td>1</td>\n",
              "      <td>0</td>\n",
              "    </tr>\n",
              "    <tr>\n",
              "      <th>...</th>\n",
              "      <td>...</td>\n",
              "      <td>...</td>\n",
              "      <td>...</td>\n",
              "      <td>...</td>\n",
              "      <td>...</td>\n",
              "      <td>...</td>\n",
              "      <td>...</td>\n",
              "      <td>...</td>\n",
              "    </tr>\n",
              "    <tr>\n",
              "      <th>3019</th>\n",
              "      <td>180.34</td>\n",
              "      <td>180.34</td>\n",
              "      <td>25.0</td>\n",
              "      <td>29.0</td>\n",
              "      <td>Lukasz Sajewski</td>\n",
              "      <td>Gilbert Burns</td>\n",
              "      <td>1</td>\n",
              "      <td>1</td>\n",
              "    </tr>\n",
              "    <tr>\n",
              "      <th>741</th>\n",
              "      <td>172.72</td>\n",
              "      <td>172.72</td>\n",
              "      <td>29.0</td>\n",
              "      <td>35.0</td>\n",
              "      <td>Casey Kenney</td>\n",
              "      <td>Dominick Cruz</td>\n",
              "      <td>2</td>\n",
              "      <td>1</td>\n",
              "    </tr>\n",
              "    <tr>\n",
              "      <th>4991</th>\n",
              "      <td>182.88</td>\n",
              "      <td>185.42</td>\n",
              "      <td>29.0</td>\n",
              "      <td>28.0</td>\n",
              "      <td>George Roop</td>\n",
              "      <td>Hatsu Hioki</td>\n",
              "      <td>0</td>\n",
              "      <td>3</td>\n",
              "    </tr>\n",
              "    <tr>\n",
              "      <th>3984</th>\n",
              "      <td>170.18</td>\n",
              "      <td>180.34</td>\n",
              "      <td>23.0</td>\n",
              "      <td>30.0</td>\n",
              "      <td>Michinori Tanaka</td>\n",
              "      <td>Roland Delorme</td>\n",
              "      <td>2</td>\n",
              "      <td>0</td>\n",
              "    </tr>\n",
              "    <tr>\n",
              "      <th>380</th>\n",
              "      <td>180.34</td>\n",
              "      <td>177.80</td>\n",
              "      <td>35.0</td>\n",
              "      <td>32.0</td>\n",
              "      <td>Michael Chandler</td>\n",
              "      <td>Justin Gaethje</td>\n",
              "      <td>3</td>\n",
              "      <td>1</td>\n",
              "    </tr>\n",
              "  </tbody>\n",
              "</table>\n",
              "<p>1248 rows × 8 columns</p>\n",
              "</div>\n",
              "      <button class=\"colab-df-convert\" onclick=\"convertToInteractive('df-4f8ec39c-beb5-4477-b4de-1334e27b1a63')\"\n",
              "              title=\"Convert this dataframe to an interactive table.\"\n",
              "              style=\"display:none;\">\n",
              "        \n",
              "  <svg xmlns=\"http://www.w3.org/2000/svg\" height=\"24px\"viewBox=\"0 0 24 24\"\n",
              "       width=\"24px\">\n",
              "    <path d=\"M0 0h24v24H0V0z\" fill=\"none\"/>\n",
              "    <path d=\"M18.56 5.44l.94 2.06.94-2.06 2.06-.94-2.06-.94-.94-2.06-.94 2.06-2.06.94zm-11 1L8.5 8.5l.94-2.06 2.06-.94-2.06-.94L8.5 2.5l-.94 2.06-2.06.94zm10 10l.94 2.06.94-2.06 2.06-.94-2.06-.94-.94-2.06-.94 2.06-2.06.94z\"/><path d=\"M17.41 7.96l-1.37-1.37c-.4-.4-.92-.59-1.43-.59-.52 0-1.04.2-1.43.59L10.3 9.45l-7.72 7.72c-.78.78-.78 2.05 0 2.83L4 21.41c.39.39.9.59 1.41.59.51 0 1.02-.2 1.41-.59l7.78-7.78 2.81-2.81c.8-.78.8-2.07 0-2.86zM5.41 20L4 18.59l7.72-7.72 1.47 1.35L5.41 20z\"/>\n",
              "  </svg>\n",
              "      </button>\n",
              "      \n",
              "  <style>\n",
              "    .colab-df-container {\n",
              "      display:flex;\n",
              "      flex-wrap:wrap;\n",
              "      gap: 12px;\n",
              "    }\n",
              "\n",
              "    .colab-df-convert {\n",
              "      background-color: #E8F0FE;\n",
              "      border: none;\n",
              "      border-radius: 50%;\n",
              "      cursor: pointer;\n",
              "      display: none;\n",
              "      fill: #1967D2;\n",
              "      height: 32px;\n",
              "      padding: 0 0 0 0;\n",
              "      width: 32px;\n",
              "    }\n",
              "\n",
              "    .colab-df-convert:hover {\n",
              "      background-color: #E2EBFA;\n",
              "      box-shadow: 0px 1px 2px rgba(60, 64, 67, 0.3), 0px 1px 3px 1px rgba(60, 64, 67, 0.15);\n",
              "      fill: #174EA6;\n",
              "    }\n",
              "\n",
              "    [theme=dark] .colab-df-convert {\n",
              "      background-color: #3B4455;\n",
              "      fill: #D2E3FC;\n",
              "    }\n",
              "\n",
              "    [theme=dark] .colab-df-convert:hover {\n",
              "      background-color: #434B5C;\n",
              "      box-shadow: 0px 1px 3px 1px rgba(0, 0, 0, 0.15);\n",
              "      filter: drop-shadow(0px 1px 2px rgba(0, 0, 0, 0.3));\n",
              "      fill: #FFFFFF;\n",
              "    }\n",
              "  </style>\n",
              "\n",
              "      <script>\n",
              "        const buttonEl =\n",
              "          document.querySelector('#df-4f8ec39c-beb5-4477-b4de-1334e27b1a63 button.colab-df-convert');\n",
              "        buttonEl.style.display =\n",
              "          google.colab.kernel.accessAllowed ? 'block' : 'none';\n",
              "\n",
              "        async function convertToInteractive(key) {\n",
              "          const element = document.querySelector('#df-4f8ec39c-beb5-4477-b4de-1334e27b1a63');\n",
              "          const dataTable =\n",
              "            await google.colab.kernel.invokeFunction('convertToInteractive',\n",
              "                                                     [key], {});\n",
              "          if (!dataTable) return;\n",
              "\n",
              "          const docLinkHtml = 'Like what you see? Visit the ' +\n",
              "            '<a target=\"_blank\" href=https://colab.research.google.com/notebooks/data_table.ipynb>data table notebook</a>'\n",
              "            + ' to learn more about interactive tables.';\n",
              "          element.innerHTML = '';\n",
              "          dataTable['output_type'] = 'display_data';\n",
              "          await google.colab.output.renderOutput(dataTable, element);\n",
              "          const docLink = document.createElement('div');\n",
              "          docLink.innerHTML = docLinkHtml;\n",
              "          element.appendChild(docLink);\n",
              "        }\n",
              "      </script>\n",
              "    </div>\n",
              "  </div>\n",
              "  "
            ]
          },
          "metadata": {},
          "execution_count": 79
        }
      ]
    },
    {
      "cell_type": "code",
      "source": [
        "model3.predict([201 ,193, 31,38,'Jamahal Hill', 'Thiago Santos', 11, 1])"
      ],
      "metadata": {
        "colab": {
          "base_uri": "https://localhost:8080/"
        },
        "id": "wielcK9vcThD",
        "outputId": "32daa00e-8392-4e19-ccfa-3bc818426ca2"
      },
      "execution_count": 80,
      "outputs": [
        {
          "output_type": "execute_result",
          "data": {
            "text/plain": [
              "0"
            ]
          },
          "metadata": {},
          "execution_count": 80
        }
      ]
    },
    {
      "cell_type": "code",
      "source": [
        "model3.predict_proba([201 ,193, 31,38,'Jamahal Hill', 'Thiago Santos', 11, 1])"
      ],
      "metadata": {
        "colab": {
          "base_uri": "https://localhost:8080/"
        },
        "id": "eqwqAQ58aqdk",
        "outputId": "b4c6d16b-17d3-42b2-be5d-abc2068248a1"
      },
      "execution_count": 81,
      "outputs": [
        {
          "output_type": "execute_result",
          "data": {
            "text/plain": [
              "array([0.87984287, 0.12015713])"
            ]
          },
          "metadata": {},
          "execution_count": 81
        }
      ]
    },
    {
      "cell_type": "code",
      "source": [
        "model3.predict([173 ,179, 37,29,'Dominick Cruz', 'Marlon Vera', 7, 4])"
      ],
      "metadata": {
        "colab": {
          "base_uri": "https://localhost:8080/"
        },
        "id": "wAqe_ZmQcYND",
        "outputId": "31439589-71a4-41ab-d426-e216d35ffbb9"
      },
      "execution_count": 82,
      "outputs": [
        {
          "output_type": "execute_result",
          "data": {
            "text/plain": [
              "1"
            ]
          },
          "metadata": {},
          "execution_count": 82
        }
      ]
    },
    {
      "cell_type": "code",
      "source": [
        "model3.predict_proba([173 ,179, 37,29,'Dominick Cruz', 'Marlon Vera', 7, 4])"
      ],
      "metadata": {
        "colab": {
          "base_uri": "https://localhost:8080/"
        },
        "id": "XZKP07_fcZn6",
        "outputId": "8138bb9c-eadf-4454-8710-a01b0d041008"
      },
      "execution_count": 83,
      "outputs": [
        {
          "output_type": "execute_result",
          "data": {
            "text/plain": [
              "array([0.48388538, 0.51611462])"
            ]
          },
          "metadata": {},
          "execution_count": 83
        }
      ]
    },
    {
      "cell_type": "markdown",
      "source": [
        "## Cross Validating On Train Set All Models, we perform cv to check for generalized model performance across our 4 model assumptions/forms.\n",
        "\n",
        "1. After 5 Cross Fold Validation, it is clear that assumpitons 2 and 4 did the best.\n",
        "2. Because A4. had the most stable results we will use it as our main model to further optimize.\n",
        "\n"
      ],
      "metadata": {
        "id": "-mCDbQjFQKjD"
      }
    },
    {
      "cell_type": "code",
      "source": [
        "#from catboost import Pool, cv\n",
        "\n",
        "#cv_dataset = Pool(data=model3_x_train,\n",
        "    #              label=model3_y_train,\n",
        "     #             cat_features=cats)\n",
        "\n",
        "#params = {\n",
        "     #     \"verbose\": False,\n",
        "     #     \"scale_pos_weight\": pos_scale}\n",
        "\n",
        "from sklearn.model_selection import cross_validate\n",
        "\n",
        "scoring = ['precision', 'recall', 'f1', 'accuracy']"
      ],
      "metadata": {
        "id": "3VNnvQNWBsrA"
      },
      "execution_count": 123,
      "outputs": []
    },
    {
      "cell_type": "code",
      "source": [
        "#getting the classifiers ready, we will need to create new classifiers since we are using CV"
      ],
      "metadata": {
        "id": "zEZxcLe4NkMP"
      },
      "execution_count": null,
      "outputs": []
    },
    {
      "cell_type": "code",
      "source": [
        "scores1 = cross_validate(model1, X_res_model1,y_res_model1, cv=5,\n",
        "                        scoring=scoring, return_train_score=False, verbose = False)"
      ],
      "metadata": {
        "colab": {
          "base_uri": "https://localhost:8080/"
        },
        "id": "horz0AimGNrS",
        "outputId": "0447cf4f-9f73-49c9-fafe-0e73188bbe83"
      },
      "execution_count": 124,
      "outputs": [
        {
          "output_type": "stream",
          "name": "stdout",
          "text": [
            "\u001b[1;30;43mStreaming output truncated to the last 5000 lines.\u001b[0m\n",
            
          ]
        }
      ]
    },
    {
      "cell_type": "code",
      "source": [
        "scores2 = cross_validate(model2, X_res_model2, y_res_model2, cv=5,\n",
        "                        scoring=scoring, return_train_score=False, verbose = False)"
      ],
      "metadata": {
        "id": "OceS970eCUOh"
      },
      "execution_count": null,
      "outputs": []
    },
    {
      "cell_type": "code",
      "source": [
        "scores3 = cross_validate(model3, model3_x_train, model3_y_train, cv=5,\n",
        "                        scoring=scoring, return_train_score=False, verbose = False)"
      ],
      "metadata": {
        "id": "DRZZdQHEEiM_"
      },
      "execution_count": null,
      "outputs": []
    },
    {
      "cell_type": "code",
      "source": [
        "scores4 = cross_validate(model4, model4_x_train, model4_y_train, cv=5,\n",
        "                        scoring=scoring, return_train_score=False, verbose = False)"
      ],
      "metadata": {
        "id": "47YKySq_FL-x"
      },
      "execution_count": null,
      "outputs": []
    },
    {
      "cell_type": "code",
      "source": [
        "scores1"
      ],
      "metadata": {
        "colab": {
          "base_uri": "https://localhost:8080/"
        },
        "id": "ZCiIqNqqFzBz",
        "outputId": "c1d948ae-c6cb-4ef9-bbac-d688a9fc9f29"
      },
      "execution_count": 128,
      "outputs": [
        {
          "output_type": "execute_result",
          "data": {
            "text/plain": [
              "{'fit_time': array([13.10580254,  6.71966195,  6.89532018,  6.98028302,  7.01999521]),\n",
              " 'score_time': array([0.01061583, 0.01010227, 0.01355028, 0.01037908, 0.01021957]),\n",
              " 'test_accuracy': array([0.67617689, 0.66619116, 0.63623395, 0.66761769, 0.65285714]),\n",
              " 'test_f1': array([0.66957787, 0.65384615, 0.60708783, 0.62479871, 0.63013699]),\n",
              " 'test_precision': array([0.68249258, 0.67791411, 0.66107383, 0.71851852, 0.6742671 ]),\n",
              " 'test_recall': array([0.65714286, 0.63142857, 0.56125356, 0.55270655, 0.59142857])}"
            ]
          },
          "metadata": {},
          "execution_count": 128
        }
      ]
    },
    {
      "cell_type": "code",
      "source": [
        "scores2"
      ],
      "metadata": {
        "colab": {
          "base_uri": "https://localhost:8080/"
        },
        "id": "LB1z2CgAG2z_",
        "outputId": "5c06c353-fab5-4264-fbeb-b91dd624b3ae"
      },
      "execution_count": 129,
      "outputs": [
        {
          "output_type": "execute_result",
          "data": {
            "text/plain": [
              "{'fit_time': array([11.4101615 , 11.67601418, 11.74584961, 11.08906198, 11.35679913]),\n",
              " 'score_time': array([0.02031803, 0.01620531, 0.01656127, 0.01673532, 0.01993752]),\n",
              " 'test_accuracy': array([0.69953416, 0.71506211, 0.75465839, 0.87567988, 0.88111888]),\n",
              " 'test_f1': array([0.74522712, 0.76122316, 0.78146611, 0.86863711, 0.87323944]),\n",
              " 'test_precision': array([0.64685714, 0.65509518, 0.70448878, 0.92160279, 0.93439716]),\n",
              " 'test_recall': array([0.87888199, 0.90838509, 0.87732919, 0.82142857, 0.81959565])}"
            ]
          },
          "metadata": {},
          "execution_count": 129
        }
      ]
    },
    {
      "cell_type": "code",
      "source": [
        "scores3"
      ],
      "metadata": {
        "colab": {
          "base_uri": "https://localhost:8080/"
        },
        "id": "ndVpqPxfG45H",
        "outputId": "1cb4591e-3c51-4845-d59c-74ad0445c39b"
      },
      "execution_count": 130,
      "outputs": [
        {
          "output_type": "execute_result",
          "data": {
            "text/plain": [
              "{'fit_time': array([11.1953845 ,  9.1304934 ,  8.92731571,  8.53980064,  9.21600366]),\n",
              " 'score_time': array([0.0134058 , 0.01667929, 0.01683688, 0.01417613, 0.01596975]),\n",
              " 'test_accuracy': array([0.63115578, 0.62977867, 0.638833  , 0.63078471, 0.638833  ]),\n",
              " 'test_f1': array([0.65539906, 0.65348399, 0.66666667, 0.64745437, 0.65513929]),\n",
              " 'test_precision': array([0.82897862, 0.83014354, 0.82909931, 0.8488665 , 0.85678392]),\n",
              " 'test_recall': array([0.54192547, 0.53881988, 0.55745342, 0.52329193, 0.53032659])}"
            ]
          },
          "metadata": {},
          "execution_count": 130
        }
      ]
    },
    {
      "cell_type": "code",
      "source": [
        "scores4"
      ],
      "metadata": {
        "colab": {
          "base_uri": "https://localhost:8080/"
        },
        "id": "-rtdX6xsG5si",
        "outputId": "84a3d0f6-4083-4f1d-9d80-d025e2cfa3d5"
      },
      "execution_count": 131,
      "outputs": [
        {
          "output_type": "execute_result",
          "data": {
            "text/plain": [
              "{'fit_time': array([8.18834591, 8.12828255, 8.10894036, 8.39560699, 8.15902901]),\n",
              " 'score_time': array([0.02686691, 0.01700139, 0.01788139, 0.01483297, 0.01822734]),\n",
              " 'test_accuracy': array([0.69246231, 0.71428571, 0.6971831 , 0.70623742, 0.71126761]),\n",
              " 'test_f1': array([0.7842031 , 0.79450072, 0.78697806, 0.78962536, 0.79248012]),\n",
              " 'test_precision': array([0.71834625, 0.74390244, 0.72301691, 0.73655914, 0.74054054]),\n",
              " 'test_recall': array([0.86335404, 0.85248447, 0.86335404, 0.85093168, 0.85225505])}"
            ]
          },
          "metadata": {},
          "execution_count": 131
        }
      ]
    }
  ]
}
