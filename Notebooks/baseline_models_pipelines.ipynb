{
  "cells": [
    {
      "cell_type": "markdown",
      "metadata": {
        "id": "UrRKpcXsAekU"
      },
      "source": [
        "## Loading in Dependencies and downloading common libraries\n",
        "This will install catboost on your notebook instance\n. I recommend opening in google collab for optimal results. Further if you want to see the model results but not the processing / training steps, scroll down.\n",
        "\n",
        "Dependencies: \n",
        "- CatBoost\n",
        "- Category Encoders \n",
        "- Pandas\n",
        "- Numpy \n",
        "- Sklearn\n",
        "\n",
        "If you do not have Catboost or Category Encoders on your machine use pip install in the notebook\n",
        "\n",
        "Example:\n",
        "- pip install CatBoost\n",
        "- pip install category_encoders"
      ]
    },
    {
      "cell_type": "markdown",
      "source": [
        "## Loading Libraries, Processing, Cleaning and Training"
      ],
      "metadata": {
        "id": "q0_S0uz2FWPX"
      }
    },
    {
      "cell_type": "code",
      "execution_count": 75,
      "metadata": {
        "id": "Ws_IHEtgAekX"
      },
      "outputs": [],
      "source": [
        "import pandas as pd\n",
        "import numpy as np"
      ]
    },
    {
      "cell_type": "code",
      "execution_count": 76,
      "metadata": {
        "id": "yltvPsgGAeka"
      },
      "outputs": [],
      "source": [
        "from sklearn.ensemble import RandomForestClassifier\n",
        "from sklearn.ensemble import GradientBoostingClassifier\n",
        "from sklearn.svm import SVC\n",
        "from sklearn.linear_model import LogisticRegression\n",
        "from catboost import CatBoostClassifier"
      ]
    },
    {
      "cell_type": "code",
      "execution_count": 77,
      "metadata": {
        "id": "eMft74KbAekc"
      },
      "outputs": [],
      "source": [
        "from sklearn.pipeline import Pipeline\n",
        "from sklearn.preprocessing import StandardScaler\n",
        "from sklearn import preprocessing\n",
        "from sklearn.compose import ColumnTransformer\n",
        "from category_encoders.quantile_encoder import QuantileEncoder"
      ]
    },
    {
      "cell_type": "code",
      "execution_count": 78,
      "metadata": {
        "id": "jlv9bNTvAekd"
      },
      "outputs": [],
      "source": [
        "from sklearn.metrics import recall_score\n",
        "from sklearn.metrics import precision_score\n",
        "from sklearn.metrics import accuracy_score\n",
        "from sklearn.metrics import f1_score"
      ]
    },
    {
      "cell_type": "code",
      "execution_count": 79,
      "metadata": {
        "id": "BvUCjFzeAekf"
      },
      "outputs": [],
      "source": [
        "def print_full(x):\n",
        "    pd.set_option('display.max_rows', len(x))\n",
        "    print(x)\n",
        "    pd.reset_option('display.max_rows')"
      ]
    },
    {
      "cell_type": "code",
      "execution_count": 80,
      "metadata": {
        "id": "3U757F8RAekf"
      },
      "outputs": [],
      "source": [
        "def metric_scoring(classifier, x_test_data, y_test_data, model_name):\n",
        "  y_true = y_test_data\n",
        "  y_pred = classifier.predict(x_test_data)\n",
        "  precision = precision_score(y_true, y_pred)\n",
        "  recall = recall_score(y_true, y_pred)\n",
        "  accuracy = accuracy_score(y_true, y_pred)\n",
        "  f1 = f1_score(y_true, y_pred)\n",
        "  metric_data = {\n",
        "    'Model Name': model_name,\n",
        "    'Precision' : round(precision,4),\n",
        "    'Recall' : round(recall,4),\n",
        "    'Accuracy': round(accuracy,4),\n",
        "    'F1 Score': round(f1,4)\n",
        "  }\n",
        "  return metric_data"
      ]
    },
    {
      "cell_type": "markdown",
      "source": [
        "### Data Links (Download and then upload to cloud instance)\n",
        "\n",
        "### Train Data \n",
        "\n",
        "Processed X Train Data: https://github.com/noahruiz416/UFC-Fight-Prediction-Application-Model/blob/main/Data/X_processed_train.csv\n",
        "\n",
        "Processed y Train Data: https://github.com/noahruiz416/UFC-Fight-Prediction-Application-Model/blob/main/Data/y_processed_train.csv\n",
        "\n",
        "### Test Data:\n",
        "\n",
        "Processed X Test Data: https://github.com/noahruiz416/UFC-Fight-Prediction-Application-Model/blob/main/Data/X_processed_test.csv\n",
        "\n",
        "Processed y Test Data: https://github.com/noahruiz416/UFC-Fight-Prediction-Application-Model/blob/main/Data/y_test_data.csv"
      ],
      "metadata": {
        "id": "sVzBJTltBS3E"
      }
    },
    {
      "cell_type": "markdown",
      "metadata": {
        "id": "c0WAO_hzAeki"
      },
      "source": [
        "Loading in Data For Training"
      ]
    },
    {
      "cell_type": "code",
      "execution_count": 81,
      "metadata": {
        "id": "fN_USlMZAeki"
      },
      "outputs": [],
      "source": [
        "X_train = pd.read_csv('X_processed_train.csv', index_col=0)\n",
        "y_train = pd.read_csv('y_processed_train.csv', index_col=0)"
      ]
    },
    {
      "cell_type": "markdown",
      "metadata": {
        "id": "UdHLeyplAekk"
      },
      "source": [
        "Binarizing our target varaible, 1 indicates red winner, 0 indicates blue winner"
      ]
    },
    {
      "cell_type": "code",
      "execution_count": 82,
      "metadata": {
        "id": "hrl1YEdqAekl"
      },
      "outputs": [],
      "source": [
        "y_train = preprocessing.LabelBinarizer().fit_transform(y_train['Winner'])"
      ]
    },
    {
      "cell_type": "markdown",
      "metadata": {
        "id": "l7fShDvZAekm"
      },
      "source": [
        "inarizing our title bout field in the training data, 1 indicates title, 0 non title fight"
      ]
    },
    {
      "cell_type": "code",
      "execution_count": 83,
      "metadata": {
        "id": "p4eaD37KAeko"
      },
      "outputs": [],
      "source": [
        "X_train['title_bout'] = preprocessing.LabelBinarizer().fit_transform(X_train['title_bout'])"
      ]
    },
    {
      "cell_type": "markdown",
      "metadata": {
        "id": "GSKWBhbVAekp"
      },
      "source": [
        "efining our categorical indices for catboost and numeric values for further processing"
      ]
    },
    {
      "cell_type": "code",
      "execution_count": 84,
      "metadata": {
        "id": "NSUo8vEzAekr"
      },
      "outputs": [],
      "source": [
        "categorical_features_indices = [\"R_fighter\", \"B_fighter\", \"Referee\", \"location\", \"weight_class\", \"B_Stance\", \"R_Stance\"]\n",
        "numerics = ['int16', 'int32', 'int64', 'float16', 'float32', 'float64']"
      ]
    },
    {
      "cell_type": "markdown",
      "metadata": {
        "id": "w3vBTE21Aekt"
      },
      "source": [
        "reating the pipelines for each model, for RV, SVM and Logistc we will use Quantile Encoding<br>\n",
        "or catboost, the model inherently handles categorical features"
      ]
    },
    {
      "cell_type": "code",
      "execution_count": 85,
      "metadata": {
        "id": "y3ZI4hTNAeku"
      },
      "outputs": [],
      "source": [
        "X_train_numeric = X_train.select_dtypes(include = numerics)\n",
        "X_train_cat = X_train.select_dtypes(include = 'object')"
      ]
    },
    {
      "cell_type": "code",
      "execution_count": 86,
      "metadata": {
        "id": "-1cJF-BmAekw"
      },
      "outputs": [],
      "source": [
        "scaler = StandardScaler()\n",
        "encoder = QuantileEncoder()"
      ]
    },
    {
      "cell_type": "markdown",
      "metadata": {
        "id": "eKcZkChGAekx"
      },
      "source": [
        "Scaling Numeric Data"
      ]
    },
    {
      "cell_type": "code",
      "execution_count": 87,
      "metadata": {
        "id": "iAFyDpSDAekz"
      },
      "outputs": [],
      "source": [
        "scaled_train = scaler.fit_transform(X_train_numeric.values)\n",
        "scaled_train_df = pd.DataFrame(scaled_train, index=X_train_numeric.index, columns=X_train_numeric.columns)"
      ]
    },
    {
      "cell_type": "markdown",
      "metadata": {
        "id": "p90CiQ41Aek0"
      },
      "source": [
        "Encoding Numeric Data"
      ]
    },
    {
      "cell_type": "code",
      "execution_count": 88,
      "metadata": {
        "id": "Y654HhdGAek1"
      },
      "outputs": [],
      "source": [
        "encoded_cat_data_train = encoder.fit_transform(X_train_cat, y_train)"
      ]
    },
    {
      "cell_type": "markdown",
      "metadata": {
        "id": "NnGjSXkWAek2"
      },
      "source": [
        "We need to keep the X_train non cat data different from the catboost data since catboost deals with categorical variables implicitly<br>\n",
        "R, RF and SVC do not so we scale and process"
      ]
    },
    {
      "cell_type": "code",
      "execution_count": 89,
      "metadata": {
        "id": "lb8POoNsAek2"
      },
      "outputs": [],
      "source": [
        "X_train_non_cat = scaled_train_df.join(encoded_cat_data_train)"
      ]
    },
    {
      "cell_type": "markdown",
      "metadata": {
        "id": "g1iHr8zuAek3"
      },
      "source": [
        "Classifiers"
      ]
    },
    {
      "cell_type": "code",
      "execution_count": 90,
      "metadata": {
        "id": "DcZDx1b7Aek3"
      },
      "outputs": [],
      "source": [
        "logit =  LogisticRegression()\n",
        "RF = RandomForestClassifier()\n",
        "SVC = SVC()\n",
        "Cat = CatBoostClassifier(cat_features = categorical_features_indices)\n",
        "gradient_boosting = GradientBoostingClassifier()"
      ]
    },
    {
      "cell_type": "code",
      "execution_count": 91,
      "metadata": {
        "id": "aIrHqs9jAek4"
      },
      "outputs": [],
      "source": [
        "classifiers_non_cat = [logit, RF, SVC, gradient_boosting]"
      ]
    },
    {
      "cell_type": "markdown",
      "metadata": {
        "id": "Yf6Ncn7LAek5"
      },
      "source": [
        "Fitting Baseline Logistic, RF and SVC"
      ]
    },
    {
      "cell_type": "code",
      "execution_count": 92,
      "metadata": {
        "colab": {
          "base_uri": "https://localhost:8080/"
        },
        "id": "J_QNFkeOAek6",
        "outputId": "748c61e5-aad9-4156-a6ce-df63636c1d00"
      },
      "outputs": [
        {
          "output_type": "stream",
          "name": "stderr",
          "text": [
            "/usr/local/lib/python3.7/dist-packages/sklearn/linear_model/_logistic.py:818: ConvergenceWarning: lbfgs failed to converge (status=1):\n",
            "STOP: TOTAL NO. of ITERATIONS REACHED LIMIT.\n",
            "\n",
            "Increase the number of iterations (max_iter) or scale the data as shown in:\n",
            "    https://scikit-learn.org/stable/modules/preprocessing.html\n",
            "Please also refer to the documentation for alternative solver options:\n",
            "    https://scikit-learn.org/stable/modules/linear_model.html#logistic-regression\n",
            "  extra_warning_msg=_LOGISTIC_SOLVER_CONVERGENCE_MSG,\n"
          ]
        }
      ],
      "source": [
        "for model in classifiers_non_cat:\n",
        "    model.fit(X_train_non_cat, y_train.ravel())"
      ]
    },
    {
      "cell_type": "markdown",
      "metadata": {
        "id": "BDIVdrc3Aek7"
      },
      "source": [
        "Fitting Catboost"
      ]
    },
    {
      "cell_type": "code",
      "execution_count": 93,
      "metadata": {
        "colab": {
          "base_uri": "https://localhost:8080/"
        },
        "id": "SiNs_LSdAek8",
        "outputId": "95dc2d5d-4939-461c-9bf8-f690727eb691"
      },
      "outputs": [
        {
          "output_type": "stream",
          "name": "stdout",
          "text": [
            "Learning rate set to 0.020432\n",
            
            "999:\tlearn: 0.2934448\ttotal: 52.4s\tremaining: 0us\n"
          ]
        },
        {
          "output_type": "execute_result",
          "data": {
            "text/plain": [
              "<catboost.core.CatBoostClassifier at 0x7f3fc12d0790>"
            ]
          },
          "metadata": {},
          "execution_count": 93
        }
      ],
      "source": [
        "Cat.fit(X_train, y_train)"
      ]
    },
    {
      "cell_type": "markdown",
      "metadata": {
        "id": "dShYvBE1Aek9"
      },
      "source": [
        "In order to help prevent data leakage we load our test data after the models are trained"
      ]
    },
    {
      "cell_type": "code",
      "execution_count": 94,
      "metadata": {
        "id": "9Wa-w1DZAek9"
      },
      "outputs": [],
      "source": [
        "X_test = pd.read_csv('X_processed_test.csv', index_col=0)\n",
        "y_test = pd.read_csv('y_processed_test.csv', index_col=0)"
      ]
    },
    {
      "cell_type": "markdown",
      "metadata": {
        "id": "RPtiQCDDAek-"
      },
      "source": [
        "To enable proper modeling, we binarize our winner column 1 indicates red corner wins, 0 indicates blue corner wins"
      ]
    },
    {
      "cell_type": "code",
      "execution_count": 95,
      "metadata": {
        "id": "ZDPV2z4pAek-"
      },
      "outputs": [],
      "source": [
        "y_test = preprocessing.LabelBinarizer().fit_transform(y_test['Winner'])"
      ]
    },
    {
      "cell_type": "markdown",
      "metadata": {
        "id": "XnZABQwbAek_"
      },
      "source": [
        "Binarizing our title bout field in the training data, 1 indicates title, 0 non title fight"
      ]
    },
    {
      "cell_type": "code",
      "execution_count": 96,
      "metadata": {
        "id": "aIh6_NttAek_"
      },
      "outputs": [],
      "source": [
        "X_test['title_bout'] = preprocessing.LabelBinarizer().fit_transform(X_test['title_bout'])"
      ]
    },
    {
      "cell_type": "markdown",
      "metadata": {
        "id": "lf00XrMXAelA"
      },
      "source": [
        "Processing X_test data"
      ]
    },
    {
      "cell_type": "code",
      "execution_count": 97,
      "metadata": {
        "id": "8ItSZTQuAelA"
      },
      "outputs": [],
      "source": [
        "X_test_numeric = X_test.select_dtypes(include = numerics)\n",
        "X_test_cat = X_test.select_dtypes(include = 'object')"
      ]
    },
    {
      "cell_type": "code",
      "execution_count": 98,
      "metadata": {
        "id": "eNXDcRuoAelA"
      },
      "outputs": [],
      "source": [
        "scaler = StandardScaler()"
      ]
    },
    {
      "cell_type": "markdown",
      "metadata": {
        "id": "DqLJtad3AelB"
      },
      "source": [
        "caling our test data"
      ]
    },
    {
      "cell_type": "code",
      "execution_count": 99,
      "metadata": {
        "id": "F62Gs2qZAelB"
      },
      "outputs": [],
      "source": [
        "scaled_test = scaler.fit_transform(X_test_numeric.values)\n",
        "scaled_test_df = pd.DataFrame(scaled_test, index=X_test_numeric.index, columns=X_test_numeric.columns)"
      ]
    },
    {
      "cell_type": "markdown",
      "metadata": {
        "id": "4VHd_zp-AelC"
      },
      "source": [
        "To prevent target leakage fit the old transformer on the test data"
      ]
    },
    {
      "cell_type": "code",
      "execution_count": 100,
      "metadata": {
        "id": "Fy2RvyifAelD"
      },
      "outputs": [],
      "source": [
        "encoded_cat_data = encoder.transform(X_test_cat)"
      ]
    },
    {
      "cell_type": "markdown",
      "metadata": {
        "id": "Sy2wEKnhAelD"
      },
      "source": [
        "Joining encoded and scaled data together"
      ]
    },
    {
      "cell_type": "code",
      "execution_count": 101,
      "metadata": {
        "id": "oWvN-RFBAelD"
      },
      "outputs": [],
      "source": [
        "X_test_numerical = scaled_test_df.join(encoded_cat_data)"
      ]
    },
    {
      "cell_type": "markdown",
      "metadata": {
        "id": "AXR33vSlAelE"
      },
      "source": [
        "Metric scores for baseline models"
      ]
    },
    {
      "cell_type": "code",
      "execution_count": 102,
      "metadata": {
        "id": "_KMXDmwTAelE"
      },
      "outputs": [],
      "source": [
        "lr_base_metric = metric_scoring(classifiers_non_cat[0], X_test_numerical, y_test, 'Logistic Regression')"
      ]
    },
    {
      "cell_type": "code",
      "execution_count": 103,
      "metadata": {
        "id": "EX9i6RgDAelF"
      },
      "outputs": [],
      "source": [
        "rf_base_metric = metric_scoring(classifiers_non_cat[1], X_test_numerical, y_test, 'Random Forest Classifier')"
      ]
    },
    {
      "cell_type": "code",
      "execution_count": 104,
      "metadata": {
        "id": "q7ZNqmJhAelG"
      },
      "outputs": [],
      "source": [
        "svc_base_metric = metric_scoring(classifiers_non_cat[2], X_test_numerical, y_test, 'Support Vector Classifier')"
      ]
    },
    {
      "cell_type": "code",
      "source": [
        "gb_base_metric = metric_scoring(classifiers_non_cat[3], X_test_numerical, y_test, 'Gradient Boosting Classifier')"
      ],
      "metadata": {
        "id": "0h-b38ELD36_"
      },
      "execution_count": 105,
      "outputs": []
    },
    {
      "cell_type": "code",
      "execution_count": 106,
      "metadata": {
        "id": "NzSMP13qAelG"
      },
      "outputs": [],
      "source": [
        "cat_base_metric = metric_scoring(Cat, X_test, y_test, 'CatBoost Classifier')"
      ]
    },
    {
      "cell_type": "code",
      "execution_count": 107,
      "metadata": {
        "id": "iA5ZY5esAelH"
      },
      "outputs": [],
      "source": [
        "metrics = [lr_base_metric,rf_base_metric,svc_base_metric,cat_base_metric,gb_base_metric]"
      ]
    },
    {
      "cell_type": "code",
      "execution_count": 108,
      "metadata": {
        "id": "L6NGGSkxAelH"
      },
      "outputs": [],
      "source": [
        "lr_df = pd.DataFrame.from_dict(metrics[0], orient = 'index').T\n",
        "rf_df = pd.DataFrame.from_dict(metrics[1], orient = 'index').T\n",
        "svc_df = pd.DataFrame.from_dict(metrics[2], orient = 'index').T\n",
        "cat_df = pd.DataFrame.from_dict(metrics[3], orient = 'index').T\n",
        "gb_df = pd.DataFrame.from_dict(metrics[4], orient = 'index').T"
      ]
    },
    {
      "cell_type": "code",
      "execution_count": 109,
      "metadata": {
        "id": "lgJp5JgAAelI"
      },
      "outputs": [],
      "source": [
        "baseline_model_results = pd.concat([lr_df, rf_df, svc_df, cat_df,gb_df]).reset_index().drop(columns = 'index')"
      ]
    },
    {
      "cell_type": "markdown",
      "source": [
        "# Metric Scores and Results, Visuals - go here if you want to see the results of our baseline modeling and do not care about the processing and cleaning"
      ],
      "metadata": {
        "id": "t7L0itMKFmwv"
      }
    },
    {
      "cell_type": "code",
      "execution_count": 110,
      "metadata": {
        "colab": {
          "base_uri": "https://localhost:8080/",
          "height": 421
        },
        "id": "DiQBuDl1AelJ",
        "outputId": "590f7861-7b59-40e2-8324-7c35e52d5dbe"
      },
      "outputs": [
        {
          "output_type": "execute_result",
          "data": {
            "text/plain": [
              "                     Model Name Precision  Recall Accuracy F1 Score\n",
              "0           Logistic Regression    0.7126  0.7971   0.6562   0.7525\n",
              "1      Random Forest Classifier    0.7116  0.8264   0.6667   0.7647\n",
              "2     Support Vector Classifier      0.72  0.8643   0.6907   0.7856\n",
              "3           CatBoost Classifier    0.7484  0.8509   0.7147   0.7963\n",
              "4  Gradient Boosting Classifier    0.7087  0.7494   0.6338   0.7285"
            ],
            "text/html": [
              "\n",
              "  <div id=\"df-9d79ad10-9eda-4d9d-9708-1fdf5495a1dd\">\n",
              "    <div class=\"colab-df-container\">\n",
              "      <div>\n",
              "<style scoped>\n",
              "    .dataframe tbody tr th:only-of-type {\n",
              "        vertical-align: middle;\n",
              "    }\n",
              "\n",
              "    .dataframe tbody tr th {\n",
              "        vertical-align: top;\n",
              "    }\n",
              "\n",
              "    .dataframe thead th {\n",
              "        text-align: right;\n",
              "    }\n",
              "</style>\n",
              "<table border=\"1\" class=\"dataframe\">\n",
              "  <thead>\n",
              "    <tr style=\"text-align: right;\">\n",
              "      <th></th>\n",
              "      <th>Model Name</th>\n",
              "      <th>Precision</th>\n",
              "      <th>Recall</th>\n",
              "      <th>Accuracy</th>\n",
              "      <th>F1 Score</th>\n",
              "    </tr>\n",
              "  </thead>\n",
              "  <tbody>\n",
              "    <tr>\n",
              "      <th>0</th>\n",
              "      <td>Logistic Regression</td>\n",
              "      <td>0.7126</td>\n",
              "      <td>0.7971</td>\n",
              "      <td>0.6562</td>\n",
              "      <td>0.7525</td>\n",
              "    </tr>\n",
              "    <tr>\n",
              "      <th>1</th>\n",
              "      <td>Random Forest Classifier</td>\n",
              "      <td>0.7116</td>\n",
              "      <td>0.8264</td>\n",
              "      <td>0.6667</td>\n",
              "      <td>0.7647</td>\n",
              "    </tr>\n",
              "    <tr>\n",
              "      <th>2</th>\n",
              "      <td>Support Vector Classifier</td>\n",
              "      <td>0.72</td>\n",
              "      <td>0.8643</td>\n",
              "      <td>0.6907</td>\n",
              "      <td>0.7856</td>\n",
              "    </tr>\n",
              "    <tr>\n",
              "      <th>3</th>\n",
              "      <td>CatBoost Classifier</td>\n",
              "      <td>0.7484</td>\n",
              "      <td>0.8509</td>\n",
              "      <td>0.7147</td>\n",
              "      <td>0.7963</td>\n",
              "    </tr>\n",
              "    <tr>\n",
              "      <th>4</th>\n",
              "      <td>Gradient Boosting Classifier</td>\n",
              "      <td>0.7087</td>\n",
              "      <td>0.7494</td>\n",
              "      <td>0.6338</td>\n",
              "      <td>0.7285</td>\n",
              "    </tr>\n",
              "  </tbody>\n",
              "</table>\n",
              "</div>\n",
              "      <button class=\"colab-df-convert\" onclick=\"convertToInteractive('df-9d79ad10-9eda-4d9d-9708-1fdf5495a1dd')\"\n",
              "              title=\"Convert this dataframe to an interactive table.\"\n",
              "              style=\"display:none;\">\n",
              "        \n",
              "  <svg xmlns=\"http://www.w3.org/2000/svg\" height=\"24px\"viewBox=\"0 0 24 24\"\n",
              "       width=\"24px\">\n",
              "    <path d=\"M0 0h24v24H0V0z\" fill=\"none\"/>\n",
              "    <path d=\"M18.56 5.44l.94 2.06.94-2.06 2.06-.94-2.06-.94-.94-2.06-.94 2.06-2.06.94zm-11 1L8.5 8.5l.94-2.06 2.06-.94-2.06-.94L8.5 2.5l-.94 2.06-2.06.94zm10 10l.94 2.06.94-2.06 2.06-.94-2.06-.94-.94-2.06-.94 2.06-2.06.94z\"/><path d=\"M17.41 7.96l-1.37-1.37c-.4-.4-.92-.59-1.43-.59-.52 0-1.04.2-1.43.59L10.3 9.45l-7.72 7.72c-.78.78-.78 2.05 0 2.83L4 21.41c.39.39.9.59 1.41.59.51 0 1.02-.2 1.41-.59l7.78-7.78 2.81-2.81c.8-.78.8-2.07 0-2.86zM5.41 20L4 18.59l7.72-7.72 1.47 1.35L5.41 20z\"/>\n",
              "  </svg>\n",
              "      </button>\n",
              "      \n",
              "  <style>\n",
              "    .colab-df-container {\n",
              "      display:flex;\n",
              "      flex-wrap:wrap;\n",
              "      gap: 12px;\n",
              "    }\n",
              "\n",
              "    .colab-df-convert {\n",
              "      background-color: #E8F0FE;\n",
              "      border: none;\n",
              "      border-radius: 50%;\n",
              "      cursor: pointer;\n",
              "      display: none;\n",
              "      fill: #1967D2;\n",
              "      height: 32px;\n",
              "      padding: 0 0 0 0;\n",
              "      width: 32px;\n",
              "    }\n",
              "\n",
              "    .colab-df-convert:hover {\n",
              "      background-color: #E2EBFA;\n",
              "      box-shadow: 0px 1px 2px rgba(60, 64, 67, 0.3), 0px 1px 3px 1px rgba(60, 64, 67, 0.15);\n",
              "      fill: #174EA6;\n",
              "    }\n",
              "\n",
              "    [theme=dark] .colab-df-convert {\n",
              "      background-color: #3B4455;\n",
              "      fill: #D2E3FC;\n",
              "    }\n",
              "\n",
              "    [theme=dark] .colab-df-convert:hover {\n",
              "      background-color: #434B5C;\n",
              "      box-shadow: 0px 1px 3px 1px rgba(0, 0, 0, 0.15);\n",
              "      filter: drop-shadow(0px 1px 2px rgba(0, 0, 0, 0.3));\n",
              "      fill: #FFFFFF;\n",
              "    }\n",
              "  </style>\n",
              "\n",
              "      <script>\n",
              "        const buttonEl =\n",
              "          document.querySelector('#df-9d79ad10-9eda-4d9d-9708-1fdf5495a1dd button.colab-df-convert');\n",
              "        buttonEl.style.display =\n",
              "          google.colab.kernel.accessAllowed ? 'block' : 'none';\n",
              "\n",
              "        async function convertToInteractive(key) {\n",
              "          const element = document.querySelector('#df-9d79ad10-9eda-4d9d-9708-1fdf5495a1dd');\n",
              "          const dataTable =\n",
              "            await google.colab.kernel.invokeFunction('convertToInteractive',\n",
              "                                                     [key], {});\n",
              "          if (!dataTable) return;\n",
              "\n",
              "          const docLinkHtml = 'Like what you see? Visit the ' +\n",
              "            '<a target=\"_blank\" href=https://colab.research.google.com/notebooks/data_table.ipynb>data table notebook</a>'\n",
              "            + ' to learn more about interactive tables.';\n",
              "          element.innerHTML = '';\n",
              "          dataTable['output_type'] = 'display_data';\n",
              "          await google.colab.output.renderOutput(dataTable, element);\n",
              "          const docLink = document.createElement('div');\n",
              "          docLink.innerHTML = docLinkHtml;\n",
              "          element.appendChild(docLink);\n",
              "        }\n",
              "      </script>\n",
              "    </div>\n",
              "  </div>\n",
              "  "
            ]
          },
          "metadata": {},
          "execution_count": 110
        }
      ],
      "source": [
        "baseline_model_results"
      ]
    },
    {
      "cell_type": "markdown",
      "metadata": {
        "id": "0lDCOodBAelJ"
      },
      "source": [
        "Visualizing our baseline models performance"
      ]
    },
    {
      "cell_type": "code",
      "execution_count": 111,
      "metadata": {
        "id": "a8onAz0uAelK"
      },
      "outputs": [],
      "source": [
        "from sklearn.metrics import ConfusionMatrixDisplay\n",
        "from sklearn.metrics import RocCurveDisplay"
      ]
    },
    {
      "cell_type": "markdown",
      "metadata": {
        "id": "RCawWxh9AelL"
      },
      "source": [
        "Red corner is 1<br>\n",
        "Blue corner is 0"
      ]
    },
    {
      "cell_type": "code",
      "execution_count": 112,
      "metadata": {
        "colab": {
          "base_uri": "https://localhost:8080/",
          "height": 105
        },
        "id": "ebPq3P6LAelM",
        "outputId": "45eda914-683c-4a05-dafe-d0e718c0edf5"
      },
      "outputs": [
        {
          "output_type": "execute_result",
          "data": {
            "text/plain": [
              "<sklearn.metrics._plot.confusion_matrix.ConfusionMatrixDisplay at 0x7f3fbaf28bd0>"
            ]
          },
          "metadata": {},
          "execution_count": 112
        },
        {
          "output_type": "display_data",
          "data": {
            "text/plain": [
              "<Figure size 432x288 with 2 Axes>"
            ],
            "image/png": "[encoded data removed]"
          },
          "metadata": {
            "needs_background": "light"
          }
        }
      ],
      "source": [
        "ConfusionMatrixDisplay.from_estimator(classifiers_non_cat[0], X_test_numerical, y_test)"
      ]
    },
    {
      "cell_type": "code",
      "execution_count": 113,
      "metadata": {
        "colab": {
          "base_uri": "https://localhost:8080/",
          "height": 105
        },
        "id": "uVVUCv8XAelM",
        "outputId": "f6fcebaf-2f11-4869-e5e2-0fe514f07bcb"
      },
      "outputs": [
        {
          "output_type": "execute_result",
          "data": {
            "text/plain": [
              "<sklearn.metrics._plot.confusion_matrix.ConfusionMatrixDisplay at 0x7f3fbb6077d0>"
            ]
          },
          "metadata": {},
          "execution_count": 113
        },
        {
          "output_type": "display_data",
          "data": {
            "text/plain": [
              "<Figure size 432x288 with 2 Axes>"
            ],
            "image/png": "[encoded data removed]"
          },
          "metadata": {
            "needs_background": "light"
          }
        }
      ],
      "source": [
        "ConfusionMatrixDisplay.from_estimator(classifiers_non_cat[1], X_test_numerical, y_test)"
      ]
    },
    {
      "cell_type": "code",
      "execution_count": 114,
      "metadata": {
        "colab": {
          "base_uri": "https://localhost:8080/",
          "height": 105
        },
        "id": "FZVUltSdAelN",
        "outputId": "24ca90f7-63b1-4f43-dbc2-6aebf8f9d2ca"
      },
      "outputs": [
        {
          "output_type": "execute_result",
          "data": {
            "text/plain": [
              "<sklearn.metrics._plot.confusion_matrix.ConfusionMatrixDisplay at 0x7f3fbaebcc50>"
            ]
          },
          "metadata": {},
          "execution_count": 114
        },
        {
          "output_type": "display_data",
          "data": {
            "text/plain": [
              "<Figure size 432x288 with 2 Axes>"
            ],
            "image/png": "[encoded data removed]"
          },
          "metadata": {
            "needs_background": "light"
          }
        }
      ],
      "source": [
        "ConfusionMatrixDisplay.from_estimator(classifiers_non_cat[2], X_test_numerical, y_test)"
      ]
    },
    {
      "cell_type": "code",
      "execution_count": 115,
      "metadata": {
        "colab": {
          "base_uri": "https://localhost:8080/",
          "height": 105
        },
        "id": "2QtdZdJyAelN",
        "outputId": "d351fba1-f845-47e4-d3a5-9dc5cac5fb1b"
      },
      "outputs": [
        {
          "output_type": "execute_result",
          "data": {
            "text/plain": [
              "<sklearn.metrics._plot.confusion_matrix.ConfusionMatrixDisplay at 0x7f3fbad0e450>"
            ]
          },
          "metadata": {},
          "execution_count": 115
        },
        {
          "output_type": "display_data",
          "data": {
            "text/plain": [
              "<Figure size 432x288 with 2 Axes>"
            ],
            "image/png": "[encoded data removed]"
          },
          "metadata": {
            "needs_background": "light"
          }
        }
      ],
      "source": [
        "ConfusionMatrixDisplay.from_estimator(Cat, X_test, y_test)"
      ]
    }
  ],
  "metadata": {
    "kernelspec": {
      "display_name": "Python 3",
      "language": "python",
      "name": "python3"
    },
    "language_info": {
      "codemirror_mode": {
        "name": "ipython",
        "version": 3
      },
      "file_extension": ".py",
      "mimetype": "text/x-python",
      "name": "python",
      "nbconvert_exporter": "python",
      "pygments_lexer": "ipython3",
      "version": "3.6.4"
    },
    "colab": {
      "name": "baseline_models_pipelines.ipynb",
      "provenance": [],
      "collapsed_sections": [
        "q0_S0uz2FWPX",
        "t7L0itMKFmwv"
      ]
    }
  },
  "nbformat": 4,
  "nbformat_minor": 0
}
