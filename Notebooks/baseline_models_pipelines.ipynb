{
  "cells": [
    {
      "cell_type": "markdown",
      "metadata": {
        "id": "UrRKpcXsAekU"
      },
      "source": [
        "## Loading in Dependencies and downloading common libraries\n",
        "This will install catboost on your notebook instance\n",
        "\n",
        "Dependencies: \n",
        "- CatBoost\n",
        "- Category Encoders \n",
        "- Pandas\n",
        "- Numpy \n",
        "- Sklearn\n",
        "\n",
        "If you do not have Catboost or Category Encoders on your machine use pip install in the notebook\n",
        "\n",
        "Example:\n",
        "- pip install CatBoost\n",
        "- pip install category_encoders"
      ]
    },
    {
      "cell_type": "markdown",
      "source": [
        "## Loading Libraries, Processing, Cleaning and Training"
      ],
      "metadata": {
        "id": "q0_S0uz2FWPX"
      }
    },
    {
      "cell_type": "code",
      "execution_count": 75,
      "metadata": {
        "id": "Ws_IHEtgAekX"
      },
      "outputs": [],
      "source": [
        "import pandas as pd\n",
        "import numpy as np"
      ]
    },
    {
      "cell_type": "code",
      "execution_count": 76,
      "metadata": {
        "id": "yltvPsgGAeka"
      },
      "outputs": [],
      "source": [
        "from sklearn.ensemble import RandomForestClassifier\n",
        "from sklearn.ensemble import GradientBoostingClassifier\n",
        "from sklearn.svm import SVC\n",
        "from sklearn.linear_model import LogisticRegression\n",
        "from catboost import CatBoostClassifier"
      ]
    },
    {
      "cell_type": "code",
      "execution_count": 77,
      "metadata": {
        "id": "eMft74KbAekc"
      },
      "outputs": [],
      "source": [
        "from sklearn.pipeline import Pipeline\n",
        "from sklearn.preprocessing import StandardScaler\n",
        "from sklearn import preprocessing\n",
        "from sklearn.compose import ColumnTransformer\n",
        "from category_encoders.quantile_encoder import QuantileEncoder"
      ]
    },
    {
      "cell_type": "code",
      "execution_count": 78,
      "metadata": {
        "id": "jlv9bNTvAekd"
      },
      "outputs": [],
      "source": [
        "from sklearn.metrics import recall_score\n",
        "from sklearn.metrics import precision_score\n",
        "from sklearn.metrics import accuracy_score\n",
        "from sklearn.metrics import f1_score"
      ]
    },
    {
      "cell_type": "code",
      "execution_count": 79,
      "metadata": {
        "id": "BvUCjFzeAekf"
      },
      "outputs": [],
      "source": [
        "def print_full(x):\n",
        "    pd.set_option('display.max_rows', len(x))\n",
        "    print(x)\n",
        "    pd.reset_option('display.max_rows')"
      ]
    },
    {
      "cell_type": "code",
      "execution_count": 80,
      "metadata": {
        "id": "3U757F8RAekf"
      },
      "outputs": [],
      "source": [
        "def metric_scoring(classifier, x_test_data, y_test_data, model_name):\n",
        "  y_true = y_test_data\n",
        "  y_pred = classifier.predict(x_test_data)\n",
        "  precision = precision_score(y_true, y_pred)\n",
        "  recall = recall_score(y_true, y_pred)\n",
        "  accuracy = accuracy_score(y_true, y_pred)\n",
        "  f1 = f1_score(y_true, y_pred)\n",
        "  metric_data = {\n",
        "    'Model Name': model_name,\n",
        "    'Precision' : round(precision,4),\n",
        "    'Recall' : round(recall,4),\n",
        "    'Accuracy': round(accuracy,4),\n",
        "    'F1 Score': round(f1,4)\n",
        "  }\n",
        "  return metric_data"
      ]
    },
    {
      "cell_type": "markdown",
      "source": [
        "### Data Links (Download and then upload to cloud instance)\n",
        "\n",
        "### Train Data \n",
        "\n",
        "Processed X Train Data: https://github.com/noahruiz416/UFC-Fight-Prediction-Application-Model/blob/main/Data/X_processed_train.csv\n",
        "\n",
        "Processed y Train Data: https://github.com/noahruiz416/UFC-Fight-Prediction-Application-Model/blob/main/Data/y_processed_train.csv\n",
        "\n",
        "### Test Data:\n",
        "\n",
        "Processed X Test Data: https://github.com/noahruiz416/UFC-Fight-Prediction-Application-Model/blob/main/Data/X_processed_test.csv\n",
        "\n",
        "Processed y Test Data: https://github.com/noahruiz416/UFC-Fight-Prediction-Application-Model/blob/main/Data/y_test_data.csv"
      ],
      "metadata": {
        "id": "sVzBJTltBS3E"
      }
    },
    {
      "cell_type": "markdown",
      "metadata": {
        "id": "c0WAO_hzAeki"
      },
      "source": [
        "Loading in Data For Training"
      ]
    },
    {
      "cell_type": "code",
      "execution_count": 81,
      "metadata": {
        "id": "fN_USlMZAeki"
      },
      "outputs": [],
      "source": [
        "X_train = pd.read_csv('X_processed_train.csv', index_col=0)\n",
        "y_train = pd.read_csv('y_processed_train.csv', index_col=0)"
      ]
    },
    {
      "cell_type": "markdown",
      "metadata": {
        "id": "UdHLeyplAekk"
      },
      "source": [
        "Binarizing our target varaible, 1 indicates red winner, 0 indicates blue winner"
      ]
    },
    {
      "cell_type": "code",
      "execution_count": 82,
      "metadata": {
        "id": "hrl1YEdqAekl"
      },
      "outputs": [],
      "source": [
        "y_train = preprocessing.LabelBinarizer().fit_transform(y_train['Winner'])"
      ]
    },
    {
      "cell_type": "markdown",
      "metadata": {
        "id": "l7fShDvZAekm"
      },
      "source": [
        "inarizing our title bout field in the training data, 1 indicates title, 0 non title fight"
      ]
    },
    {
      "cell_type": "code",
      "execution_count": 83,
      "metadata": {
        "id": "p4eaD37KAeko"
      },
      "outputs": [],
      "source": [
        "X_train['title_bout'] = preprocessing.LabelBinarizer().fit_transform(X_train['title_bout'])"
      ]
    },
    {
      "cell_type": "markdown",
      "metadata": {
        "id": "GSKWBhbVAekp"
      },
      "source": [
        "efining our categorical indices for catboost and numeric values for further processing"
      ]
    },
    {
      "cell_type": "code",
      "execution_count": 84,
      "metadata": {
        "id": "NSUo8vEzAekr"
      },
      "outputs": [],
      "source": [
        "categorical_features_indices = [\"R_fighter\", \"B_fighter\", \"Referee\", \"location\", \"weight_class\", \"B_Stance\", \"R_Stance\"]\n",
        "numerics = ['int16', 'int32', 'int64', 'float16', 'float32', 'float64']"
      ]
    },
    {
      "cell_type": "markdown",
      "metadata": {
        "id": "w3vBTE21Aekt"
      },
      "source": [
        "reating the pipelines for each model, for RV, SVM and Logistc we will use Quantile Encoding<br>\n",
        "or catboost, the model inherently handles categorical features"
      ]
    },
    {
      "cell_type": "code",
      "execution_count": 85,
      "metadata": {
        "id": "y3ZI4hTNAeku"
      },
      "outputs": [],
      "source": [
        "X_train_numeric = X_train.select_dtypes(include = numerics)\n",
        "X_train_cat = X_train.select_dtypes(include = 'object')"
      ]
    },
    {
      "cell_type": "code",
      "execution_count": 86,
      "metadata": {
        "id": "-1cJF-BmAekw"
      },
      "outputs": [],
      "source": [
        "scaler = StandardScaler()\n",
        "encoder = QuantileEncoder()"
      ]
    },
    {
      "cell_type": "markdown",
      "metadata": {
        "id": "eKcZkChGAekx"
      },
      "source": [
        "Scaling Numeric Data"
      ]
    },
    {
      "cell_type": "code",
      "execution_count": 87,
      "metadata": {
        "id": "iAFyDpSDAekz"
      },
      "outputs": [],
      "source": [
        "scaled_train = scaler.fit_transform(X_train_numeric.values)\n",
        "scaled_train_df = pd.DataFrame(scaled_train, index=X_train_numeric.index, columns=X_train_numeric.columns)"
      ]
    },
    {
      "cell_type": "markdown",
      "metadata": {
        "id": "p90CiQ41Aek0"
      },
      "source": [
        "Encoding Numeric Data"
      ]
    },
    {
      "cell_type": "code",
      "execution_count": 88,
      "metadata": {
        "id": "Y654HhdGAek1"
      },
      "outputs": [],
      "source": [
        "encoded_cat_data_train = encoder.fit_transform(X_train_cat, y_train)"
      ]
    },
    {
      "cell_type": "markdown",
      "metadata": {
        "id": "NnGjSXkWAek2"
      },
      "source": [
        "We need to keep the X_train non cat data different from the catboost data since catboost deals with categorical variables implicitly<br>\n",
        "R, RF and SVC do not so we scale and process"
      ]
    },
    {
      "cell_type": "code",
      "execution_count": 89,
      "metadata": {
        "id": "lb8POoNsAek2"
      },
      "outputs": [],
      "source": [
        "X_train_non_cat = scaled_train_df.join(encoded_cat_data_train)"
      ]
    },
    {
      "cell_type": "markdown",
      "metadata": {
        "id": "g1iHr8zuAek3"
      },
      "source": [
        "Classifiers"
      ]
    },
    {
      "cell_type": "code",
      "execution_count": 90,
      "metadata": {
        "id": "DcZDx1b7Aek3"
      },
      "outputs": [],
      "source": [
        "logit =  LogisticRegression()\n",
        "RF = RandomForestClassifier()\n",
        "SVC = SVC()\n",
        "Cat = CatBoostClassifier(cat_features = categorical_features_indices)\n",
        "gradient_boosting = GradientBoostingClassifier()"
      ]
    },
    {
      "cell_type": "code",
      "execution_count": 91,
      "metadata": {
        "id": "aIrHqs9jAek4"
      },
      "outputs": [],
      "source": [
        "classifiers_non_cat = [logit, RF, SVC, gradient_boosting]"
      ]
    },
    {
      "cell_type": "markdown",
      "metadata": {
        "id": "Yf6Ncn7LAek5"
      },
      "source": [
        "Fitting Baseline Logistic, RF and SVC"
      ]
    },
    {
      "cell_type": "code",
      "execution_count": 92,
      "metadata": {
        "colab": {
          "base_uri": "https://localhost:8080/"
        },
        "id": "J_QNFkeOAek6",
        "outputId": "748c61e5-aad9-4156-a6ce-df63636c1d00"
      },
      "outputs": [
        {
          "output_type": "stream",
          "name": "stderr",
          "text": [
            "/usr/local/lib/python3.7/dist-packages/sklearn/linear_model/_logistic.py:818: ConvergenceWarning: lbfgs failed to converge (status=1):\n",
            "STOP: TOTAL NO. of ITERATIONS REACHED LIMIT.\n",
            "\n",
            "Increase the number of iterations (max_iter) or scale the data as shown in:\n",
            "    https://scikit-learn.org/stable/modules/preprocessing.html\n",
            "Please also refer to the documentation for alternative solver options:\n",
            "    https://scikit-learn.org/stable/modules/linear_model.html#logistic-regression\n",
            "  extra_warning_msg=_LOGISTIC_SOLVER_CONVERGENCE_MSG,\n"
          ]
        }
      ],
      "source": [
        "for model in classifiers_non_cat:\n",
        "    model.fit(X_train_non_cat, y_train.ravel())"
      ]
    },
    {
      "cell_type": "markdown",
      "metadata": {
        "id": "BDIVdrc3Aek7"
      },
      "source": [
        "Fitting Catboost"
      ]
    },
    {
      "cell_type": "code",
      "execution_count": 93,
      "metadata": {
        "colab": {
          "base_uri": "https://localhost:8080/"
        },
        "id": "SiNs_LSdAek8",
        "outputId": "95dc2d5d-4939-461c-9bf8-f690727eb691"
      },
      "outputs": [
        {
          "output_type": "stream",
          "name": "stdout",
          "text": [
            "Learning rate set to 0.020432\n",
            "0:\tlearn: 0.6836503\ttotal: 49.7ms\tremaining: 49.6s\n",
            "1:\tlearn: 0.6756160\ttotal: 63.8ms\tremaining: 31.9s\n",
            "2:\tlearn: 0.6699835\ttotal: 112ms\tremaining: 37.3s\n",
            "3:\tlearn: 0.6623437\ttotal: 166ms\tremaining: 41.4s\n",
            "4:\tlearn: 0.6548476\ttotal: 211ms\tremaining: 42s\n",
            "5:\tlearn: 0.6491744\ttotal: 265ms\tremaining: 43.9s\n",
            "6:\tlearn: 0.6452679\ttotal: 311ms\tremaining: 44.1s\n",
            "7:\tlearn: 0.6395777\ttotal: 364ms\tremaining: 45.2s\n",
            "8:\tlearn: 0.6329096\ttotal: 380ms\tremaining: 41.8s\n",
            "9:\tlearn: 0.6282454\ttotal: 441ms\tremaining: 43.6s\n",
            "10:\tlearn: 0.6226218\ttotal: 492ms\tremaining: 44.2s\n",
            "11:\tlearn: 0.6182552\ttotal: 543ms\tremaining: 44.7s\n",
            "12:\tlearn: 0.6161019\ttotal: 583ms\tremaining: 44.3s\n",
            "13:\tlearn: 0.6137991\ttotal: 647ms\tremaining: 45.6s\n",
            "14:\tlearn: 0.6119089\ttotal: 689ms\tremaining: 45.3s\n",
            "15:\tlearn: 0.6077643\ttotal: 743ms\tremaining: 45.7s\n",
            "16:\tlearn: 0.6037673\ttotal: 784ms\tremaining: 45.3s\n",
            "17:\tlearn: 0.6020994\ttotal: 838ms\tremaining: 45.7s\n",
            "18:\tlearn: 0.6003686\ttotal: 882ms\tremaining: 45.6s\n",
            "19:\tlearn: 0.5986778\ttotal: 936ms\tremaining: 45.8s\n",
            "20:\tlearn: 0.5970476\ttotal: 978ms\tremaining: 45.6s\n",
            "21:\tlearn: 0.5960706\ttotal: 1.01s\tremaining: 45.2s\n",
            "22:\tlearn: 0.5927937\ttotal: 1.06s\tremaining: 45.1s\n",
            "23:\tlearn: 0.5911587\ttotal: 1.13s\tremaining: 45.8s\n",
            "24:\tlearn: 0.5894235\ttotal: 1.17s\tremaining: 45.7s\n",
            "25:\tlearn: 0.5884280\ttotal: 1.22s\tremaining: 45.8s\n",
            "26:\tlearn: 0.5872831\ttotal: 1.27s\tremaining: 45.7s\n",
            "27:\tlearn: 0.5858765\ttotal: 1.32s\tremaining: 45.8s\n",
            "28:\tlearn: 0.5851495\ttotal: 1.36s\tremaining: 45.7s\n",
            "29:\tlearn: 0.5836340\ttotal: 1.42s\tremaining: 45.9s\n",
            "30:\tlearn: 0.5822447\ttotal: 1.46s\tremaining: 45.7s\n",
            "31:\tlearn: 0.5799997\ttotal: 1.52s\tremaining: 45.9s\n",
            "32:\tlearn: 0.5790460\ttotal: 1.56s\tremaining: 45.7s\n",
            "33:\tlearn: 0.5780073\ttotal: 1.61s\tremaining: 45.9s\n",
            "34:\tlearn: 0.5763481\ttotal: 1.66s\tremaining: 45.7s\n",
            "35:\tlearn: 0.5751863\ttotal: 1.71s\tremaining: 45.9s\n",
            "36:\tlearn: 0.5741561\ttotal: 1.76s\tremaining: 45.8s\n",
            "37:\tlearn: 0.5727284\ttotal: 1.81s\tremaining: 45.9s\n",
            "38:\tlearn: 0.5714684\ttotal: 1.87s\tremaining: 46.1s\n",
            "39:\tlearn: 0.5693319\ttotal: 1.92s\tremaining: 46.2s\n",
            "40:\tlearn: 0.5680255\ttotal: 1.97s\tremaining: 46.1s\n",
            "41:\tlearn: 0.5666983\ttotal: 2.02s\tremaining: 46.1s\n",
            "42:\tlearn: 0.5659227\ttotal: 2.06s\tremaining: 45.9s\n",
            "43:\tlearn: 0.5650288\ttotal: 2.12s\tremaining: 46.1s\n",
            "44:\tlearn: 0.5638591\ttotal: 2.17s\tremaining: 46.1s\n",
            "45:\tlearn: 0.5628000\ttotal: 2.22s\tremaining: 46.1s\n",
            "46:\tlearn: 0.5617576\ttotal: 2.27s\tremaining: 46s\n",
            "47:\tlearn: 0.5605743\ttotal: 2.33s\tremaining: 46.2s\n",
            "48:\tlearn: 0.5596993\ttotal: 2.37s\tremaining: 46s\n",
            "49:\tlearn: 0.5586181\ttotal: 2.42s\tremaining: 46s\n",
            "50:\tlearn: 0.5566688\ttotal: 2.46s\tremaining: 45.8s\n",
            "51:\tlearn: 0.5556828\ttotal: 2.52s\tremaining: 45.9s\n",
            "52:\tlearn: 0.5538826\ttotal: 2.56s\tremaining: 45.8s\n",
            "53:\tlearn: 0.5528434\ttotal: 2.62s\tremaining: 45.9s\n",
            "54:\tlearn: 0.5510949\ttotal: 2.66s\tremaining: 45.8s\n",
            "55:\tlearn: 0.5507010\ttotal: 2.71s\tremaining: 45.7s\n",
            "56:\tlearn: 0.5499082\ttotal: 2.76s\tremaining: 45.7s\n",
            "57:\tlearn: 0.5490370\ttotal: 2.82s\tremaining: 45.8s\n",
            "58:\tlearn: 0.5479649\ttotal: 2.87s\tremaining: 45.8s\n",
            "59:\tlearn: 0.5469775\ttotal: 2.93s\tremaining: 45.9s\n",
            "60:\tlearn: 0.5464063\ttotal: 2.97s\tremaining: 45.8s\n",
            "61:\tlearn: 0.5458894\ttotal: 3.04s\tremaining: 45.9s\n",
            "62:\tlearn: 0.5452834\ttotal: 3.08s\tremaining: 45.9s\n",
            "63:\tlearn: 0.5442781\ttotal: 3.14s\tremaining: 46s\n",
            "64:\tlearn: 0.5438178\ttotal: 3.2s\tremaining: 46s\n",
            "65:\tlearn: 0.5432130\ttotal: 3.26s\tremaining: 46.1s\n",
            "66:\tlearn: 0.5425124\ttotal: 3.3s\tremaining: 46s\n",
            "67:\tlearn: 0.5415872\ttotal: 3.36s\tremaining: 46.1s\n",
            "68:\tlearn: 0.5408131\ttotal: 3.41s\tremaining: 46s\n",
            "69:\tlearn: 0.5401982\ttotal: 3.47s\tremaining: 46.1s\n",
            "70:\tlearn: 0.5396072\ttotal: 3.52s\tremaining: 46.1s\n",
            "71:\tlearn: 0.5391089\ttotal: 3.58s\tremaining: 46.1s\n",
            "72:\tlearn: 0.5381151\ttotal: 3.63s\tremaining: 46s\n",
            "73:\tlearn: 0.5373770\ttotal: 3.69s\tremaining: 46.1s\n",
            "74:\tlearn: 0.5359904\ttotal: 3.73s\tremaining: 46.1s\n",
            "75:\tlearn: 0.5354982\ttotal: 3.79s\tremaining: 46.1s\n",
            "76:\tlearn: 0.5347960\ttotal: 3.84s\tremaining: 46s\n",
            "77:\tlearn: 0.5339453\ttotal: 3.91s\tremaining: 46.2s\n",
            "78:\tlearn: 0.5331958\ttotal: 3.98s\tremaining: 46.4s\n",
            "79:\tlearn: 0.5327741\ttotal: 4.04s\tremaining: 46.5s\n",
            "80:\tlearn: 0.5323296\ttotal: 4.09s\tremaining: 46.4s\n",
            "81:\tlearn: 0.5317181\ttotal: 4.15s\tremaining: 46.5s\n",
            "82:\tlearn: 0.5311368\ttotal: 4.21s\tremaining: 46.5s\n",
            "83:\tlearn: 0.5306342\ttotal: 4.27s\tremaining: 46.5s\n",
            "84:\tlearn: 0.5296240\ttotal: 4.32s\tremaining: 46.5s\n",
            "85:\tlearn: 0.5292499\ttotal: 4.38s\tremaining: 46.5s\n",
            "86:\tlearn: 0.5288475\ttotal: 4.42s\tremaining: 46.4s\n",
            "87:\tlearn: 0.5277155\ttotal: 4.48s\tremaining: 46.4s\n",
            "88:\tlearn: 0.5270339\ttotal: 4.53s\tremaining: 46.3s\n",
            "89:\tlearn: 0.5265004\ttotal: 4.59s\tremaining: 46.4s\n",
            "90:\tlearn: 0.5261136\ttotal: 4.64s\tremaining: 46.3s\n",
            "91:\tlearn: 0.5255179\ttotal: 4.69s\tremaining: 46.3s\n",
            "92:\tlearn: 0.5250045\ttotal: 4.74s\tremaining: 46.2s\n",
            "93:\tlearn: 0.5243863\ttotal: 4.8s\tremaining: 46.2s\n",
            "94:\tlearn: 0.5234899\ttotal: 4.84s\tremaining: 46.1s\n",
            "95:\tlearn: 0.5231194\ttotal: 4.89s\tremaining: 46.1s\n",
            "96:\tlearn: 0.5224401\ttotal: 4.93s\tremaining: 45.9s\n",
            "97:\tlearn: 0.5219743\ttotal: 4.99s\tremaining: 45.9s\n",
            "98:\tlearn: 0.5214360\ttotal: 5.04s\tremaining: 45.8s\n",
            "99:\tlearn: 0.5210337\ttotal: 5.09s\tremaining: 45.8s\n",
            "100:\tlearn: 0.5204678\ttotal: 5.13s\tremaining: 45.7s\n",
            "101:\tlearn: 0.5198940\ttotal: 5.19s\tremaining: 45.7s\n",
            "102:\tlearn: 0.5194562\ttotal: 5.24s\tremaining: 45.6s\n",
            "103:\tlearn: 0.5190191\ttotal: 5.29s\tremaining: 45.6s\n",
            "104:\tlearn: 0.5186354\ttotal: 5.33s\tremaining: 45.5s\n",
            "105:\tlearn: 0.5183520\ttotal: 5.38s\tremaining: 45.4s\n",
            "106:\tlearn: 0.5179311\ttotal: 5.42s\tremaining: 45.3s\n",
            "107:\tlearn: 0.5176377\ttotal: 5.48s\tremaining: 45.3s\n",
            "108:\tlearn: 0.5171760\ttotal: 5.52s\tremaining: 45.2s\n",
            "109:\tlearn: 0.5166279\ttotal: 5.58s\tremaining: 45.1s\n",
            "110:\tlearn: 0.5161158\ttotal: 5.62s\tremaining: 45s\n",
            "111:\tlearn: 0.5151687\ttotal: 5.68s\tremaining: 45s\n",
            "112:\tlearn: 0.5146848\ttotal: 5.73s\tremaining: 45s\n",
            "113:\tlearn: 0.5143334\ttotal: 5.79s\tremaining: 45s\n",
            "114:\tlearn: 0.5140544\ttotal: 5.83s\tremaining: 44.9s\n",
            "115:\tlearn: 0.5136879\ttotal: 5.89s\tremaining: 44.9s\n",
            "116:\tlearn: 0.5133040\ttotal: 5.95s\tremaining: 44.9s\n",
            "117:\tlearn: 0.5126630\ttotal: 6s\tremaining: 44.9s\n",
            "118:\tlearn: 0.5122929\ttotal: 6.05s\tremaining: 44.8s\n",
            "119:\tlearn: 0.5115336\ttotal: 6.11s\tremaining: 44.8s\n",
            "120:\tlearn: 0.5109700\ttotal: 6.16s\tremaining: 44.7s\n",
            "121:\tlearn: 0.5104267\ttotal: 6.23s\tremaining: 44.9s\n",
            "122:\tlearn: 0.5100802\ttotal: 6.28s\tremaining: 44.8s\n",
            "123:\tlearn: 0.5096065\ttotal: 6.34s\tremaining: 44.8s\n",
            "124:\tlearn: 0.5091810\ttotal: 6.39s\tremaining: 44.7s\n",
            "125:\tlearn: 0.5088596\ttotal: 6.45s\tremaining: 44.7s\n",
            "126:\tlearn: 0.5083719\ttotal: 6.5s\tremaining: 44.7s\n",
            "127:\tlearn: 0.5078857\ttotal: 6.56s\tremaining: 44.7s\n",
            "128:\tlearn: 0.5075100\ttotal: 6.61s\tremaining: 44.6s\n",
            "129:\tlearn: 0.5070613\ttotal: 6.67s\tremaining: 44.7s\n",
            "130:\tlearn: 0.5065682\ttotal: 6.72s\tremaining: 44.6s\n",
            "131:\tlearn: 0.5062601\ttotal: 6.78s\tremaining: 44.6s\n",
            "132:\tlearn: 0.5059612\ttotal: 6.83s\tremaining: 44.5s\n",
            "133:\tlearn: 0.5054674\ttotal: 6.89s\tremaining: 44.5s\n",
            "134:\tlearn: 0.5051122\ttotal: 6.93s\tremaining: 44.4s\n",
            "135:\tlearn: 0.5047921\ttotal: 7s\tremaining: 44.4s\n",
            "136:\tlearn: 0.5045567\ttotal: 7.05s\tremaining: 44.4s\n",
            "137:\tlearn: 0.5042233\ttotal: 7.11s\tremaining: 44.4s\n",
            "138:\tlearn: 0.5038669\ttotal: 7.16s\tremaining: 44.3s\n",
            "139:\tlearn: 0.5034571\ttotal: 7.23s\tremaining: 44.4s\n",
            "140:\tlearn: 0.5032016\ttotal: 7.28s\tremaining: 44.4s\n",
            "141:\tlearn: 0.5027139\ttotal: 7.34s\tremaining: 44.4s\n",
            "142:\tlearn: 0.5020058\ttotal: 7.39s\tremaining: 44.3s\n",
            "143:\tlearn: 0.5016756\ttotal: 7.45s\tremaining: 44.3s\n",
            "144:\tlearn: 0.5012713\ttotal: 7.51s\tremaining: 44.3s\n",
            "145:\tlearn: 0.5008783\ttotal: 7.57s\tremaining: 44.3s\n",
            "146:\tlearn: 0.5001323\ttotal: 7.61s\tremaining: 44.2s\n",
            "147:\tlearn: 0.4995150\ttotal: 7.67s\tremaining: 44.2s\n",
            "148:\tlearn: 0.4991432\ttotal: 7.73s\tremaining: 44.1s\n",
            "149:\tlearn: 0.4987554\ttotal: 7.79s\tremaining: 44.1s\n",
            "150:\tlearn: 0.4983914\ttotal: 7.83s\tremaining: 44.1s\n",
            "151:\tlearn: 0.4981332\ttotal: 7.9s\tremaining: 44.1s\n",
            "152:\tlearn: 0.4976280\ttotal: 7.95s\tremaining: 44s\n",
            "153:\tlearn: 0.4973635\ttotal: 8.01s\tremaining: 44s\n",
            "154:\tlearn: 0.4970822\ttotal: 8.05s\tremaining: 43.9s\n",
            "155:\tlearn: 0.4966431\ttotal: 8.11s\tremaining: 43.9s\n",
            "156:\tlearn: 0.4964152\ttotal: 8.16s\tremaining: 43.8s\n",
            "157:\tlearn: 0.4963060\ttotal: 8.22s\tremaining: 43.8s\n",
            "158:\tlearn: 0.4959420\ttotal: 8.27s\tremaining: 43.8s\n",
            "159:\tlearn: 0.4955521\ttotal: 8.33s\tremaining: 43.8s\n",
            "160:\tlearn: 0.4951356\ttotal: 8.39s\tremaining: 43.7s\n",
            "161:\tlearn: 0.4948208\ttotal: 8.45s\tremaining: 43.7s\n",
            "162:\tlearn: 0.4946174\ttotal: 8.49s\tremaining: 43.6s\n",
            "163:\tlearn: 0.4941494\ttotal: 8.55s\tremaining: 43.6s\n",
            "164:\tlearn: 0.4937310\ttotal: 8.61s\tremaining: 43.6s\n",
            "165:\tlearn: 0.4935348\ttotal: 8.66s\tremaining: 43.5s\n",
            "166:\tlearn: 0.4932865\ttotal: 8.71s\tremaining: 43.4s\n",
            "167:\tlearn: 0.4929058\ttotal: 8.77s\tremaining: 43.4s\n",
            "168:\tlearn: 0.4924960\ttotal: 8.82s\tremaining: 43.4s\n",
            "169:\tlearn: 0.4921242\ttotal: 8.88s\tremaining: 43.4s\n",
            "170:\tlearn: 0.4918135\ttotal: 8.93s\tremaining: 43.3s\n",
            "171:\tlearn: 0.4911560\ttotal: 8.99s\tremaining: 43.3s\n",
            "172:\tlearn: 0.4906923\ttotal: 9.04s\tremaining: 43.2s\n",
            "173:\tlearn: 0.4902665\ttotal: 9.1s\tremaining: 43.2s\n",
            "174:\tlearn: 0.4899668\ttotal: 9.14s\tremaining: 43.1s\n",
            "175:\tlearn: 0.4892560\ttotal: 9.2s\tremaining: 43.1s\n",
            "176:\tlearn: 0.4890382\ttotal: 9.26s\tremaining: 43.1s\n",
            "177:\tlearn: 0.4886584\ttotal: 9.32s\tremaining: 43.1s\n",
            "178:\tlearn: 0.4885012\ttotal: 9.37s\tremaining: 43s\n",
            "179:\tlearn: 0.4881829\ttotal: 9.43s\tremaining: 43s\n",
            "180:\tlearn: 0.4879309\ttotal: 9.48s\tremaining: 42.9s\n",
            "181:\tlearn: 0.4876407\ttotal: 9.54s\tremaining: 42.9s\n",
            "182:\tlearn: 0.4870963\ttotal: 9.59s\tremaining: 42.8s\n",
            "183:\tlearn: 0.4867818\ttotal: 9.65s\tremaining: 42.8s\n",
            "184:\tlearn: 0.4864704\ttotal: 9.7s\tremaining: 42.7s\n",
            "185:\tlearn: 0.4861363\ttotal: 9.76s\tremaining: 42.7s\n",
            "186:\tlearn: 0.4858496\ttotal: 9.8s\tremaining: 42.6s\n",
            "187:\tlearn: 0.4854654\ttotal: 9.85s\tremaining: 42.6s\n",
            "188:\tlearn: 0.4851203\ttotal: 9.89s\tremaining: 42.5s\n",
            "189:\tlearn: 0.4844820\ttotal: 9.95s\tremaining: 42.4s\n",
            "190:\tlearn: 0.4841864\ttotal: 9.99s\tremaining: 42.3s\n",
            "191:\tlearn: 0.4838140\ttotal: 10.1s\tremaining: 42.3s\n",
            "192:\tlearn: 0.4835569\ttotal: 10.1s\tremaining: 42.2s\n",
            "193:\tlearn: 0.4831743\ttotal: 10.2s\tremaining: 42.2s\n",
            "194:\tlearn: 0.4827469\ttotal: 10.2s\tremaining: 42.1s\n",
            "195:\tlearn: 0.4824888\ttotal: 10.3s\tremaining: 42s\n",
            "196:\tlearn: 0.4822007\ttotal: 10.3s\tremaining: 42s\n",
            "197:\tlearn: 0.4818943\ttotal: 10.4s\tremaining: 42s\n",
            "198:\tlearn: 0.4816048\ttotal: 10.4s\tremaining: 41.9s\n",
            "199:\tlearn: 0.4813264\ttotal: 10.5s\tremaining: 41.8s\n",
            "200:\tlearn: 0.4810389\ttotal: 10.5s\tremaining: 41.7s\n",
            "201:\tlearn: 0.4807372\ttotal: 10.6s\tremaining: 41.7s\n",
            "202:\tlearn: 0.4804875\ttotal: 10.6s\tremaining: 41.6s\n",
            "203:\tlearn: 0.4801456\ttotal: 10.7s\tremaining: 41.6s\n",
            "204:\tlearn: 0.4799089\ttotal: 10.7s\tremaining: 41.5s\n",
            "205:\tlearn: 0.4796425\ttotal: 10.8s\tremaining: 41.4s\n",
            "206:\tlearn: 0.4792963\ttotal: 10.8s\tremaining: 41.4s\n",
            "207:\tlearn: 0.4790293\ttotal: 10.9s\tremaining: 41.4s\n",
            "208:\tlearn: 0.4787629\ttotal: 10.9s\tremaining: 41.3s\n",
            "209:\tlearn: 0.4783673\ttotal: 11s\tremaining: 41.3s\n",
            "210:\tlearn: 0.4783344\ttotal: 11s\tremaining: 41.1s\n",
            "211:\tlearn: 0.4781765\ttotal: 11s\tremaining: 41s\n",
            "212:\tlearn: 0.4776641\ttotal: 11.1s\tremaining: 41s\n",
            "213:\tlearn: 0.4774475\ttotal: 11.1s\tremaining: 40.9s\n",
            "214:\tlearn: 0.4769436\ttotal: 11.2s\tremaining: 40.9s\n",
            "215:\tlearn: 0.4748286\ttotal: 11.3s\tremaining: 40.9s\n",
            "216:\tlearn: 0.4745368\ttotal: 11.3s\tremaining: 40.8s\n",
            "217:\tlearn: 0.4742571\ttotal: 11.4s\tremaining: 40.8s\n",
            "218:\tlearn: 0.4740496\ttotal: 11.4s\tremaining: 40.7s\n",
            "219:\tlearn: 0.4738069\ttotal: 11.5s\tremaining: 40.7s\n",
            "220:\tlearn: 0.4735565\ttotal: 11.5s\tremaining: 40.6s\n",
            "221:\tlearn: 0.4732809\ttotal: 11.6s\tremaining: 40.6s\n",
            "222:\tlearn: 0.4728363\ttotal: 11.6s\tremaining: 40.6s\n",
            "223:\tlearn: 0.4725608\ttotal: 11.7s\tremaining: 40.5s\n",
            "224:\tlearn: 0.4723292\ttotal: 11.7s\tremaining: 40.5s\n",
            "225:\tlearn: 0.4720430\ttotal: 11.8s\tremaining: 40.4s\n",
            "226:\tlearn: 0.4718061\ttotal: 11.9s\tremaining: 40.4s\n",
            "227:\tlearn: 0.4716184\ttotal: 11.9s\tremaining: 40.3s\n",
            "228:\tlearn: 0.4712316\ttotal: 12s\tremaining: 40.3s\n",
            "229:\tlearn: 0.4710030\ttotal: 12s\tremaining: 40.2s\n",
            "230:\tlearn: 0.4707265\ttotal: 12.1s\tremaining: 40.2s\n",
            "231:\tlearn: 0.4702779\ttotal: 12.1s\tremaining: 40.1s\n",
            "232:\tlearn: 0.4700372\ttotal: 12.2s\tremaining: 40.1s\n",
            "233:\tlearn: 0.4697052\ttotal: 12.2s\tremaining: 40.1s\n",
            "234:\tlearn: 0.4691966\ttotal: 12.3s\tremaining: 40s\n",
            "235:\tlearn: 0.4690070\ttotal: 12.3s\tremaining: 40s\n",
            "236:\tlearn: 0.4687949\ttotal: 12.4s\tremaining: 39.9s\n",
            "237:\tlearn: 0.4685872\ttotal: 12.5s\tremaining: 39.9s\n",
            "238:\tlearn: 0.4682937\ttotal: 12.5s\tremaining: 39.8s\n",
            "239:\tlearn: 0.4681560\ttotal: 12.6s\tremaining: 39.8s\n",
            "240:\tlearn: 0.4679158\ttotal: 12.6s\tremaining: 39.7s\n",
            "241:\tlearn: 0.4674318\ttotal: 12.7s\tremaining: 39.7s\n",
            "242:\tlearn: 0.4672315\ttotal: 12.7s\tremaining: 39.6s\n",
            "243:\tlearn: 0.4669589\ttotal: 12.8s\tremaining: 39.6s\n",
            "244:\tlearn: 0.4667035\ttotal: 12.8s\tremaining: 39.5s\n",
            "245:\tlearn: 0.4663819\ttotal: 12.9s\tremaining: 39.5s\n",
            "246:\tlearn: 0.4655521\ttotal: 12.9s\tremaining: 39.5s\n",
            "247:\tlearn: 0.4653394\ttotal: 13s\tremaining: 39.4s\n",
            "248:\tlearn: 0.4649511\ttotal: 13.1s\tremaining: 39.4s\n",
            "249:\tlearn: 0.4646622\ttotal: 13.1s\tremaining: 39.3s\n",
            "250:\tlearn: 0.4644760\ttotal: 13.2s\tremaining: 39.3s\n",
            "251:\tlearn: 0.4642865\ttotal: 13.2s\tremaining: 39.2s\n",
            "252:\tlearn: 0.4641136\ttotal: 13.3s\tremaining: 39.2s\n",
            "253:\tlearn: 0.4636615\ttotal: 13.3s\tremaining: 39.2s\n",
            "254:\tlearn: 0.4634382\ttotal: 13.4s\tremaining: 39.1s\n",
            "255:\tlearn: 0.4632999\ttotal: 13.4s\tremaining: 39.1s\n",
            "256:\tlearn: 0.4630627\ttotal: 13.5s\tremaining: 39s\n",
            "257:\tlearn: 0.4627407\ttotal: 13.6s\tremaining: 39s\n",
            "258:\tlearn: 0.4625724\ttotal: 13.6s\tremaining: 38.9s\n",
            "259:\tlearn: 0.4623688\ttotal: 13.7s\tremaining: 38.9s\n",
            "260:\tlearn: 0.4621472\ttotal: 13.7s\tremaining: 38.8s\n",
            "261:\tlearn: 0.4619531\ttotal: 13.8s\tremaining: 38.8s\n",
            "262:\tlearn: 0.4616430\ttotal: 13.8s\tremaining: 38.7s\n",
            "263:\tlearn: 0.4612650\ttotal: 13.9s\tremaining: 38.7s\n",
            "264:\tlearn: 0.4611115\ttotal: 13.9s\tremaining: 38.7s\n",
            "265:\tlearn: 0.4608829\ttotal: 14s\tremaining: 38.6s\n",
            "266:\tlearn: 0.4605607\ttotal: 14s\tremaining: 38.6s\n",
            "267:\tlearn: 0.4601655\ttotal: 14.1s\tremaining: 38.6s\n",
            "268:\tlearn: 0.4600257\ttotal: 14.2s\tremaining: 38.5s\n",
            "269:\tlearn: 0.4598612\ttotal: 14.2s\tremaining: 38.5s\n",
            "270:\tlearn: 0.4596748\ttotal: 14.3s\tremaining: 38.4s\n",
            "271:\tlearn: 0.4595482\ttotal: 14.4s\tremaining: 38.4s\n",
            "272:\tlearn: 0.4592975\ttotal: 14.4s\tremaining: 38.4s\n",
            "273:\tlearn: 0.4591277\ttotal: 14.5s\tremaining: 38.3s\n",
            "274:\tlearn: 0.4588729\ttotal: 14.5s\tremaining: 38.3s\n",
            "275:\tlearn: 0.4586358\ttotal: 14.6s\tremaining: 38.2s\n",
            "276:\tlearn: 0.4583678\ttotal: 14.6s\tremaining: 38.2s\n",
            "277:\tlearn: 0.4580358\ttotal: 14.7s\tremaining: 38.1s\n",
            "278:\tlearn: 0.4577928\ttotal: 14.7s\tremaining: 38s\n",
            "279:\tlearn: 0.4576799\ttotal: 14.8s\tremaining: 38s\n",
            "280:\tlearn: 0.4575508\ttotal: 14.8s\tremaining: 38s\n",
            "281:\tlearn: 0.4573514\ttotal: 14.9s\tremaining: 37.9s\n",
            "282:\tlearn: 0.4570369\ttotal: 14.9s\tremaining: 37.8s\n",
            "283:\tlearn: 0.4568277\ttotal: 15s\tremaining: 37.8s\n",
            "284:\tlearn: 0.4565966\ttotal: 15s\tremaining: 37.7s\n",
            "285:\tlearn: 0.4561975\ttotal: 15.1s\tremaining: 37.7s\n",
            "286:\tlearn: 0.4559760\ttotal: 15.2s\tremaining: 37.7s\n",
            "287:\tlearn: 0.4558254\ttotal: 15.2s\tremaining: 37.6s\n",
            "288:\tlearn: 0.4556484\ttotal: 15.3s\tremaining: 37.6s\n",
            "289:\tlearn: 0.4554457\ttotal: 15.3s\tremaining: 37.6s\n",
            "290:\tlearn: 0.4551737\ttotal: 15.4s\tremaining: 37.5s\n",
            "291:\tlearn: 0.4550580\ttotal: 15.5s\tremaining: 37.5s\n",
            "292:\tlearn: 0.4545968\ttotal: 15.5s\tremaining: 37.4s\n",
            "293:\tlearn: 0.4543038\ttotal: 15.6s\tremaining: 37.4s\n",
            "294:\tlearn: 0.4540696\ttotal: 15.6s\tremaining: 37.3s\n",
            "295:\tlearn: 0.4539057\ttotal: 15.7s\tremaining: 37.3s\n",
            "296:\tlearn: 0.4538125\ttotal: 15.7s\tremaining: 37.2s\n",
            "297:\tlearn: 0.4535791\ttotal: 15.8s\tremaining: 37.2s\n",
            "298:\tlearn: 0.4532436\ttotal: 15.8s\tremaining: 37.1s\n",
            "299:\tlearn: 0.4530335\ttotal: 15.9s\tremaining: 37.1s\n",
            "300:\tlearn: 0.4527801\ttotal: 15.9s\tremaining: 37s\n",
            "301:\tlearn: 0.4525309\ttotal: 16s\tremaining: 37s\n",
            "302:\tlearn: 0.4522782\ttotal: 16s\tremaining: 36.9s\n",
            "303:\tlearn: 0.4519278\ttotal: 16.1s\tremaining: 36.8s\n",
            "304:\tlearn: 0.4517206\ttotal: 16.1s\tremaining: 36.7s\n",
            "305:\tlearn: 0.4515347\ttotal: 16.2s\tremaining: 36.7s\n",
            "306:\tlearn: 0.4513280\ttotal: 16.2s\tremaining: 36.6s\n",
            "307:\tlearn: 0.4510329\ttotal: 16.3s\tremaining: 36.6s\n",
            "308:\tlearn: 0.4508060\ttotal: 16.3s\tremaining: 36.5s\n",
            "309:\tlearn: 0.4505583\ttotal: 16.4s\tremaining: 36.5s\n",
            "310:\tlearn: 0.4502684\ttotal: 16.4s\tremaining: 36.4s\n",
            "311:\tlearn: 0.4500167\ttotal: 16.5s\tremaining: 36.3s\n",
            "312:\tlearn: 0.4497728\ttotal: 16.5s\tremaining: 36.3s\n",
            "313:\tlearn: 0.4495756\ttotal: 16.6s\tremaining: 36.2s\n",
            "314:\tlearn: 0.4494265\ttotal: 16.6s\tremaining: 36.1s\n",
            "315:\tlearn: 0.4491038\ttotal: 16.7s\tremaining: 36.1s\n",
            "316:\tlearn: 0.4488617\ttotal: 16.7s\tremaining: 36s\n",
            "317:\tlearn: 0.4486263\ttotal: 16.8s\tremaining: 36s\n",
            "318:\tlearn: 0.4483290\ttotal: 16.8s\tremaining: 35.9s\n",
            "319:\tlearn: 0.4480464\ttotal: 16.9s\tremaining: 35.8s\n",
            "320:\tlearn: 0.4477866\ttotal: 16.9s\tremaining: 35.8s\n",
            "321:\tlearn: 0.4475877\ttotal: 17s\tremaining: 35.8s\n",
            "322:\tlearn: 0.4473587\ttotal: 17s\tremaining: 35.7s\n",
            "323:\tlearn: 0.4471770\ttotal: 17.1s\tremaining: 35.6s\n",
            "324:\tlearn: 0.4468191\ttotal: 17.1s\tremaining: 35.6s\n",
            "325:\tlearn: 0.4465308\ttotal: 17.2s\tremaining: 35.5s\n",
            "326:\tlearn: 0.4463310\ttotal: 17.2s\tremaining: 35.5s\n",
            "327:\tlearn: 0.4460091\ttotal: 17.3s\tremaining: 35.4s\n",
            "328:\tlearn: 0.4458623\ttotal: 17.3s\tremaining: 35.4s\n",
            "329:\tlearn: 0.4456186\ttotal: 17.4s\tremaining: 35.4s\n",
            "330:\tlearn: 0.4453155\ttotal: 17.5s\tremaining: 35.3s\n",
            "331:\tlearn: 0.4450962\ttotal: 17.5s\tremaining: 35.3s\n",
            "332:\tlearn: 0.4449152\ttotal: 17.6s\tremaining: 35.2s\n",
            "333:\tlearn: 0.4448239\ttotal: 17.6s\tremaining: 35.2s\n",
            "334:\tlearn: 0.4445550\ttotal: 17.7s\tremaining: 35.1s\n",
            "335:\tlearn: 0.4443246\ttotal: 17.7s\tremaining: 35.1s\n",
            "336:\tlearn: 0.4439877\ttotal: 17.8s\tremaining: 35s\n",
            "337:\tlearn: 0.4435816\ttotal: 17.9s\tremaining: 35s\n",
            "338:\tlearn: 0.4432517\ttotal: 17.9s\tremaining: 34.9s\n",
            "339:\tlearn: 0.4429019\ttotal: 18s\tremaining: 34.9s\n",
            "340:\tlearn: 0.4427294\ttotal: 18s\tremaining: 34.8s\n",
            "341:\tlearn: 0.4424887\ttotal: 18.1s\tremaining: 34.8s\n",
            "342:\tlearn: 0.4423320\ttotal: 18.1s\tremaining: 34.7s\n",
            "343:\tlearn: 0.4421335\ttotal: 18.2s\tremaining: 34.7s\n",
            "344:\tlearn: 0.4419123\ttotal: 18.2s\tremaining: 34.6s\n",
            "345:\tlearn: 0.4417817\ttotal: 18.3s\tremaining: 34.6s\n",
            "346:\tlearn: 0.4415681\ttotal: 18.3s\tremaining: 34.5s\n",
            "347:\tlearn: 0.4413193\ttotal: 18.4s\tremaining: 34.5s\n",
            "348:\tlearn: 0.4410700\ttotal: 18.5s\tremaining: 34.4s\n",
            "349:\tlearn: 0.4407310\ttotal: 18.5s\tremaining: 34.4s\n",
            "350:\tlearn: 0.4404612\ttotal: 18.6s\tremaining: 34.3s\n",
            "351:\tlearn: 0.4401331\ttotal: 18.6s\tremaining: 34.3s\n",
            "352:\tlearn: 0.4398474\ttotal: 18.7s\tremaining: 34.2s\n",
            "353:\tlearn: 0.4396604\ttotal: 18.7s\tremaining: 34.2s\n",
            "354:\tlearn: 0.4393488\ttotal: 18.8s\tremaining: 34.2s\n",
            "355:\tlearn: 0.4390612\ttotal: 18.9s\tremaining: 34.1s\n",
            "356:\tlearn: 0.4388073\ttotal: 18.9s\tremaining: 34s\n",
            "357:\tlearn: 0.4385342\ttotal: 19s\tremaining: 34s\n",
            "358:\tlearn: 0.4382918\ttotal: 19s\tremaining: 33.9s\n",
            "359:\tlearn: 0.4379645\ttotal: 19.1s\tremaining: 33.9s\n",
            "360:\tlearn: 0.4377018\ttotal: 19.1s\tremaining: 33.8s\n",
            "361:\tlearn: 0.4375799\ttotal: 19.1s\tremaining: 33.8s\n",
            "362:\tlearn: 0.4373231\ttotal: 19.2s\tremaining: 33.7s\n",
            "363:\tlearn: 0.4371658\ttotal: 19.3s\tremaining: 33.6s\n",
            "364:\tlearn: 0.4369350\ttotal: 19.3s\tremaining: 33.6s\n",
            "365:\tlearn: 0.4368148\ttotal: 19.3s\tremaining: 33.5s\n",
            "366:\tlearn: 0.4366639\ttotal: 19.4s\tremaining: 33.4s\n",
            "367:\tlearn: 0.4363781\ttotal: 19.5s\tremaining: 33.4s\n",
            "368:\tlearn: 0.4360699\ttotal: 19.5s\tremaining: 33.3s\n",
            "369:\tlearn: 0.4357081\ttotal: 19.5s\tremaining: 33.3s\n",
            "370:\tlearn: 0.4354568\ttotal: 19.6s\tremaining: 33.2s\n",
            "371:\tlearn: 0.4351283\ttotal: 19.6s\tremaining: 33.2s\n",
            "372:\tlearn: 0.4348460\ttotal: 19.7s\tremaining: 33.1s\n",
            "373:\tlearn: 0.4345818\ttotal: 19.7s\tremaining: 33s\n",
            "374:\tlearn: 0.4344202\ttotal: 19.8s\tremaining: 33s\n",
            "375:\tlearn: 0.4340889\ttotal: 19.8s\tremaining: 32.9s\n",
            "376:\tlearn: 0.4337973\ttotal: 19.9s\tremaining: 32.9s\n",
            "377:\tlearn: 0.4335389\ttotal: 19.9s\tremaining: 32.8s\n",
            "378:\tlearn: 0.4332677\ttotal: 20s\tremaining: 32.7s\n",
            "379:\tlearn: 0.4329721\ttotal: 20s\tremaining: 32.7s\n",
            "380:\tlearn: 0.4328182\ttotal: 20.1s\tremaining: 32.6s\n",
            "381:\tlearn: 0.4325998\ttotal: 20.1s\tremaining: 32.6s\n",
            "382:\tlearn: 0.4323979\ttotal: 20.2s\tremaining: 32.5s\n",
            "383:\tlearn: 0.4321107\ttotal: 20.2s\tremaining: 32.5s\n",
            "384:\tlearn: 0.4319796\ttotal: 20.3s\tremaining: 32.4s\n",
            "385:\tlearn: 0.4316575\ttotal: 20.3s\tremaining: 32.3s\n",
            "386:\tlearn: 0.4314693\ttotal: 20.4s\tremaining: 32.3s\n",
            "387:\tlearn: 0.4312511\ttotal: 20.4s\tremaining: 32.2s\n",
            "388:\tlearn: 0.4310420\ttotal: 20.5s\tremaining: 32.2s\n",
            "389:\tlearn: 0.4307453\ttotal: 20.5s\tremaining: 32.1s\n",
            "390:\tlearn: 0.4304621\ttotal: 20.6s\tremaining: 32.1s\n",
            "391:\tlearn: 0.4302890\ttotal: 20.6s\tremaining: 32s\n",
            "392:\tlearn: 0.4300021\ttotal: 20.7s\tremaining: 31.9s\n",
            "393:\tlearn: 0.4296260\ttotal: 20.7s\tremaining: 31.9s\n",
            "394:\tlearn: 0.4294097\ttotal: 20.8s\tremaining: 31.8s\n",
            "395:\tlearn: 0.4290055\ttotal: 20.8s\tremaining: 31.8s\n",
            "396:\tlearn: 0.4287823\ttotal: 20.9s\tremaining: 31.7s\n",
            "397:\tlearn: 0.4285465\ttotal: 20.9s\tremaining: 31.6s\n",
            "398:\tlearn: 0.4284262\ttotal: 21s\tremaining: 31.6s\n",
            "399:\tlearn: 0.4281302\ttotal: 21s\tremaining: 31.5s\n",
            "400:\tlearn: 0.4278471\ttotal: 21.1s\tremaining: 31.5s\n",
            "401:\tlearn: 0.4276465\ttotal: 21.1s\tremaining: 31.4s\n",
            "402:\tlearn: 0.4273364\ttotal: 21.2s\tremaining: 31.4s\n",
            "403:\tlearn: 0.4270118\ttotal: 21.2s\tremaining: 31.3s\n",
            "404:\tlearn: 0.4267600\ttotal: 21.3s\tremaining: 31.3s\n",
            "405:\tlearn: 0.4264652\ttotal: 21.4s\tremaining: 31.2s\n",
            "406:\tlearn: 0.4261620\ttotal: 21.4s\tremaining: 31.2s\n",
            "407:\tlearn: 0.4259428\ttotal: 21.5s\tremaining: 31.2s\n",
            "408:\tlearn: 0.4259107\ttotal: 21.5s\tremaining: 31.1s\n",
            "409:\tlearn: 0.4255495\ttotal: 21.6s\tremaining: 31.1s\n",
            "410:\tlearn: 0.4253322\ttotal: 21.6s\tremaining: 31s\n",
            "411:\tlearn: 0.4250431\ttotal: 21.7s\tremaining: 31s\n",
            "412:\tlearn: 0.4248567\ttotal: 21.7s\tremaining: 30.9s\n",
            "413:\tlearn: 0.4245981\ttotal: 21.8s\tremaining: 30.9s\n",
            "414:\tlearn: 0.4242881\ttotal: 21.8s\tremaining: 30.8s\n",
            "415:\tlearn: 0.4241380\ttotal: 21.9s\tremaining: 30.7s\n",
            "416:\tlearn: 0.4239151\ttotal: 21.9s\tremaining: 30.7s\n",
            "417:\tlearn: 0.4237434\ttotal: 22s\tremaining: 30.6s\n",
            "418:\tlearn: 0.4234847\ttotal: 22s\tremaining: 30.6s\n",
            "419:\tlearn: 0.4232601\ttotal: 22.1s\tremaining: 30.5s\n",
            "420:\tlearn: 0.4228337\ttotal: 22.1s\tremaining: 30.5s\n",
            "421:\tlearn: 0.4225939\ttotal: 22.2s\tremaining: 30.4s\n",
            "422:\tlearn: 0.4223015\ttotal: 22.2s\tremaining: 30.3s\n",
            "423:\tlearn: 0.4221252\ttotal: 22.3s\tremaining: 30.3s\n",
            "424:\tlearn: 0.4217864\ttotal: 22.3s\tremaining: 30.2s\n",
            "425:\tlearn: 0.4214077\ttotal: 22.4s\tremaining: 30.2s\n",
            "426:\tlearn: 0.4210801\ttotal: 22.4s\tremaining: 30.1s\n",
            "427:\tlearn: 0.4207779\ttotal: 22.5s\tremaining: 30.1s\n",
            "428:\tlearn: 0.4203702\ttotal: 22.6s\tremaining: 30s\n",
            "429:\tlearn: 0.4200991\ttotal: 22.6s\tremaining: 30s\n",
            "430:\tlearn: 0.4198962\ttotal: 22.7s\tremaining: 29.9s\n",
            "431:\tlearn: 0.4196316\ttotal: 22.7s\tremaining: 29.9s\n",
            "432:\tlearn: 0.4192637\ttotal: 22.8s\tremaining: 29.8s\n",
            "433:\tlearn: 0.4189782\ttotal: 22.8s\tremaining: 29.7s\n",
            "434:\tlearn: 0.4187425\ttotal: 22.8s\tremaining: 29.7s\n",
            "435:\tlearn: 0.4184200\ttotal: 22.9s\tremaining: 29.6s\n",
            "436:\tlearn: 0.4182300\ttotal: 22.9s\tremaining: 29.6s\n",
            "437:\tlearn: 0.4181516\ttotal: 23s\tremaining: 29.5s\n",
            "438:\tlearn: 0.4180103\ttotal: 23s\tremaining: 29.4s\n",
            "439:\tlearn: 0.4177907\ttotal: 23.1s\tremaining: 29.4s\n",
            "440:\tlearn: 0.4175784\ttotal: 23.1s\tremaining: 29.3s\n",
            "441:\tlearn: 0.4172173\ttotal: 23.2s\tremaining: 29.3s\n",
            "442:\tlearn: 0.4169394\ttotal: 23.2s\tremaining: 29.2s\n",
            "443:\tlearn: 0.4166808\ttotal: 23.3s\tremaining: 29.2s\n",
            "444:\tlearn: 0.4164054\ttotal: 23.3s\tremaining: 29.1s\n",
            "445:\tlearn: 0.4161768\ttotal: 23.4s\tremaining: 29s\n",
            "446:\tlearn: 0.4159396\ttotal: 23.4s\tremaining: 29s\n",
            "447:\tlearn: 0.4155770\ttotal: 23.5s\tremaining: 28.9s\n",
            "448:\tlearn: 0.4154294\ttotal: 23.5s\tremaining: 28.9s\n",
            "449:\tlearn: 0.4152375\ttotal: 23.6s\tremaining: 28.8s\n",
            "450:\tlearn: 0.4148868\ttotal: 23.6s\tremaining: 28.8s\n",
            "451:\tlearn: 0.4146861\ttotal: 23.7s\tremaining: 28.7s\n",
            "452:\tlearn: 0.4145759\ttotal: 23.7s\tremaining: 28.7s\n",
            "453:\tlearn: 0.4141396\ttotal: 23.8s\tremaining: 28.6s\n",
            "454:\tlearn: 0.4136659\ttotal: 23.8s\tremaining: 28.5s\n",
            "455:\tlearn: 0.4134294\ttotal: 23.9s\tremaining: 28.5s\n",
            "456:\tlearn: 0.4133164\ttotal: 23.9s\tremaining: 28.4s\n",
            "457:\tlearn: 0.4130943\ttotal: 24s\tremaining: 28.4s\n",
            "458:\tlearn: 0.4128036\ttotal: 24s\tremaining: 28.3s\n",
            "459:\tlearn: 0.4125286\ttotal: 24.1s\tremaining: 28.3s\n",
            "460:\tlearn: 0.4121958\ttotal: 24.1s\tremaining: 28.2s\n",
            "461:\tlearn: 0.4120079\ttotal: 24.2s\tremaining: 28.1s\n",
            "462:\tlearn: 0.4117507\ttotal: 24.2s\tremaining: 28.1s\n",
            "463:\tlearn: 0.4114905\ttotal: 24.3s\tremaining: 28.1s\n",
            "464:\tlearn: 0.4110491\ttotal: 24.3s\tremaining: 28s\n",
            "465:\tlearn: 0.4109320\ttotal: 24.4s\tremaining: 27.9s\n",
            "466:\tlearn: 0.4106346\ttotal: 24.4s\tremaining: 27.9s\n",
            "467:\tlearn: 0.4094551\ttotal: 24.5s\tremaining: 27.8s\n",
            "468:\tlearn: 0.4092017\ttotal: 24.5s\tremaining: 27.8s\n",
            "469:\tlearn: 0.4088955\ttotal: 24.6s\tremaining: 27.7s\n",
            "470:\tlearn: 0.4086108\ttotal: 24.6s\tremaining: 27.7s\n",
            "471:\tlearn: 0.4084987\ttotal: 24.7s\tremaining: 27.6s\n",
            "472:\tlearn: 0.4083625\ttotal: 24.7s\tremaining: 27.5s\n",
            "473:\tlearn: 0.4080792\ttotal: 24.8s\tremaining: 27.5s\n",
            "474:\tlearn: 0.4078172\ttotal: 24.8s\tremaining: 27.4s\n",
            "475:\tlearn: 0.4075822\ttotal: 24.9s\tremaining: 27.4s\n",
            "476:\tlearn: 0.4074344\ttotal: 24.9s\tremaining: 27.3s\n",
            "477:\tlearn: 0.4071005\ttotal: 25s\tremaining: 27.3s\n",
            "478:\tlearn: 0.4068028\ttotal: 25s\tremaining: 27.2s\n",
            "479:\tlearn: 0.4063875\ttotal: 25.1s\tremaining: 27.1s\n",
            "480:\tlearn: 0.4061896\ttotal: 25.1s\tremaining: 27.1s\n",
            "481:\tlearn: 0.4059715\ttotal: 25.2s\tremaining: 27s\n",
            "482:\tlearn: 0.4057617\ttotal: 25.2s\tremaining: 27s\n",
            "483:\tlearn: 0.4054561\ttotal: 25.3s\tremaining: 26.9s\n",
            "484:\tlearn: 0.4053375\ttotal: 25.3s\tremaining: 26.9s\n",
            "485:\tlearn: 0.4050886\ttotal: 25.3s\tremaining: 26.8s\n",
            "486:\tlearn: 0.4048247\ttotal: 25.4s\tremaining: 26.7s\n",
            "487:\tlearn: 0.4046076\ttotal: 25.4s\tremaining: 26.7s\n",
            "488:\tlearn: 0.4032203\ttotal: 25.5s\tremaining: 26.6s\n",
            "489:\tlearn: 0.4030505\ttotal: 25.6s\tremaining: 26.6s\n",
            "490:\tlearn: 0.4027494\ttotal: 25.6s\tremaining: 26.5s\n",
            "491:\tlearn: 0.4025525\ttotal: 25.7s\tremaining: 26.5s\n",
            "492:\tlearn: 0.4023713\ttotal: 25.7s\tremaining: 26.4s\n",
            "493:\tlearn: 0.4020905\ttotal: 25.7s\tremaining: 26.4s\n",
            "494:\tlearn: 0.4017008\ttotal: 25.8s\tremaining: 26.3s\n",
            "495:\tlearn: 0.4015085\ttotal: 25.8s\tremaining: 26.3s\n",
            "496:\tlearn: 0.4012634\ttotal: 25.9s\tremaining: 26.2s\n",
            "497:\tlearn: 0.4009957\ttotal: 25.9s\tremaining: 26.2s\n",
            "498:\tlearn: 0.4008481\ttotal: 26s\tremaining: 26.1s\n",
            "499:\tlearn: 0.4006002\ttotal: 26s\tremaining: 26s\n",
            "500:\tlearn: 0.4003233\ttotal: 26.1s\tremaining: 26s\n",
            "501:\tlearn: 0.4000892\ttotal: 26.2s\tremaining: 25.9s\n",
            "502:\tlearn: 0.3997608\ttotal: 26.2s\tremaining: 25.9s\n",
            "503:\tlearn: 0.3994481\ttotal: 26.3s\tremaining: 25.8s\n",
            "504:\tlearn: 0.3993004\ttotal: 26.3s\tremaining: 25.8s\n",
            "505:\tlearn: 0.3991137\ttotal: 26.4s\tremaining: 25.7s\n",
            "506:\tlearn: 0.3989591\ttotal: 26.4s\tremaining: 25.7s\n",
            "507:\tlearn: 0.3986517\ttotal: 26.5s\tremaining: 25.6s\n",
            "508:\tlearn: 0.3983082\ttotal: 26.5s\tremaining: 25.6s\n",
            "509:\tlearn: 0.3981519\ttotal: 26.6s\tremaining: 25.6s\n",
            "510:\tlearn: 0.3978611\ttotal: 26.6s\tremaining: 25.5s\n",
            "511:\tlearn: 0.3976781\ttotal: 26.7s\tremaining: 25.5s\n",
            "512:\tlearn: 0.3972691\ttotal: 26.8s\tremaining: 25.4s\n",
            "513:\tlearn: 0.3970480\ttotal: 26.8s\tremaining: 25.4s\n",
            "514:\tlearn: 0.3968747\ttotal: 26.9s\tremaining: 25.3s\n",
            "515:\tlearn: 0.3966301\ttotal: 26.9s\tremaining: 25.2s\n",
            "516:\tlearn: 0.3962151\ttotal: 27s\tremaining: 25.2s\n",
            "517:\tlearn: 0.3960110\ttotal: 27s\tremaining: 25.2s\n",
            "518:\tlearn: 0.3957640\ttotal: 27.1s\tremaining: 25.1s\n",
            "519:\tlearn: 0.3954382\ttotal: 27.1s\tremaining: 25.1s\n",
            "520:\tlearn: 0.3950561\ttotal: 27.2s\tremaining: 25s\n",
            "521:\tlearn: 0.3946600\ttotal: 27.3s\tremaining: 25s\n",
            "522:\tlearn: 0.3943037\ttotal: 27.3s\tremaining: 24.9s\n",
            "523:\tlearn: 0.3941566\ttotal: 27.4s\tremaining: 24.9s\n",
            "524:\tlearn: 0.3938895\ttotal: 27.4s\tremaining: 24.8s\n",
            "525:\tlearn: 0.3936132\ttotal: 27.5s\tremaining: 24.8s\n",
            "526:\tlearn: 0.3933361\ttotal: 27.5s\tremaining: 24.7s\n",
            "527:\tlearn: 0.3931717\ttotal: 27.6s\tremaining: 24.7s\n",
            "528:\tlearn: 0.3928604\ttotal: 27.6s\tremaining: 24.6s\n",
            "529:\tlearn: 0.3925037\ttotal: 27.7s\tremaining: 24.6s\n",
            "530:\tlearn: 0.3922679\ttotal: 27.7s\tremaining: 24.5s\n",
            "531:\tlearn: 0.3920975\ttotal: 27.8s\tremaining: 24.5s\n",
            "532:\tlearn: 0.3918837\ttotal: 27.9s\tremaining: 24.4s\n",
            "533:\tlearn: 0.3915622\ttotal: 27.9s\tremaining: 24.4s\n",
            "534:\tlearn: 0.3911256\ttotal: 28s\tremaining: 24.3s\n",
            "535:\tlearn: 0.3909085\ttotal: 28s\tremaining: 24.3s\n",
            "536:\tlearn: 0.3906416\ttotal: 28.1s\tremaining: 24.2s\n",
            "537:\tlearn: 0.3903455\ttotal: 28.1s\tremaining: 24.2s\n",
            "538:\tlearn: 0.3898979\ttotal: 28.2s\tremaining: 24.1s\n",
            "539:\tlearn: 0.3896997\ttotal: 28.2s\tremaining: 24.1s\n",
            "540:\tlearn: 0.3894539\ttotal: 28.3s\tremaining: 24s\n",
            "541:\tlearn: 0.3892088\ttotal: 28.3s\tremaining: 24s\n",
            "542:\tlearn: 0.3890960\ttotal: 28.4s\tremaining: 23.9s\n",
            "543:\tlearn: 0.3889891\ttotal: 28.5s\tremaining: 23.9s\n",
            "544:\tlearn: 0.3886924\ttotal: 28.5s\tremaining: 23.8s\n",
            "545:\tlearn: 0.3884622\ttotal: 28.6s\tremaining: 23.8s\n",
            "546:\tlearn: 0.3883162\ttotal: 28.6s\tremaining: 23.7s\n",
            "547:\tlearn: 0.3881317\ttotal: 28.7s\tremaining: 23.7s\n",
            "548:\tlearn: 0.3879123\ttotal: 28.7s\tremaining: 23.6s\n",
            "549:\tlearn: 0.3877525\ttotal: 28.8s\tremaining: 23.6s\n",
            "550:\tlearn: 0.3874869\ttotal: 28.8s\tremaining: 23.5s\n",
            "551:\tlearn: 0.3872199\ttotal: 28.9s\tremaining: 23.5s\n",
            "552:\tlearn: 0.3869335\ttotal: 29s\tremaining: 23.4s\n",
            "553:\tlearn: 0.3867218\ttotal: 29s\tremaining: 23.4s\n",
            "554:\tlearn: 0.3863131\ttotal: 29.1s\tremaining: 23.3s\n",
            "555:\tlearn: 0.3859610\ttotal: 29.1s\tremaining: 23.2s\n",
            "556:\tlearn: 0.3856907\ttotal: 29.2s\tremaining: 23.2s\n",
            "557:\tlearn: 0.3854769\ttotal: 29.2s\tremaining: 23.1s\n",
            "558:\tlearn: 0.3852166\ttotal: 29.3s\tremaining: 23.1s\n",
            "559:\tlearn: 0.3850267\ttotal: 29.3s\tremaining: 23s\n",
            "560:\tlearn: 0.3847254\ttotal: 29.4s\tremaining: 23s\n",
            "561:\tlearn: 0.3845881\ttotal: 29.4s\tremaining: 22.9s\n",
            "562:\tlearn: 0.3843383\ttotal: 29.4s\tremaining: 22.9s\n",
            "563:\tlearn: 0.3841027\ttotal: 29.5s\tremaining: 22.8s\n",
            "564:\tlearn: 0.3838154\ttotal: 29.6s\tremaining: 22.8s\n",
            "565:\tlearn: 0.3835671\ttotal: 29.6s\tremaining: 22.7s\n",
            "566:\tlearn: 0.3833001\ttotal: 29.7s\tremaining: 22.6s\n",
            "567:\tlearn: 0.3830581\ttotal: 29.7s\tremaining: 22.6s\n",
            "568:\tlearn: 0.3829279\ttotal: 29.8s\tremaining: 22.5s\n",
            "569:\tlearn: 0.3827061\ttotal: 29.8s\tremaining: 22.5s\n",
            "570:\tlearn: 0.3824540\ttotal: 29.8s\tremaining: 22.4s\n",
            "571:\tlearn: 0.3822074\ttotal: 29.9s\tremaining: 22.4s\n",
            "572:\tlearn: 0.3819299\ttotal: 30s\tremaining: 22.3s\n",
            "573:\tlearn: 0.3816201\ttotal: 30s\tremaining: 22.3s\n",
            "574:\tlearn: 0.3813166\ttotal: 30s\tremaining: 22.2s\n",
            "575:\tlearn: 0.3809935\ttotal: 30.1s\tremaining: 22.2s\n",
            "576:\tlearn: 0.3806205\ttotal: 30.1s\tremaining: 22.1s\n",
            "577:\tlearn: 0.3804860\ttotal: 30.2s\tremaining: 22s\n",
            "578:\tlearn: 0.3802502\ttotal: 30.2s\tremaining: 22s\n",
            "579:\tlearn: 0.3801049\ttotal: 30.3s\tremaining: 21.9s\n",
            "580:\tlearn: 0.3798535\ttotal: 30.3s\tremaining: 21.9s\n",
            "581:\tlearn: 0.3796173\ttotal: 30.4s\tremaining: 21.8s\n",
            "582:\tlearn: 0.3792484\ttotal: 30.4s\tremaining: 21.8s\n",
            "583:\tlearn: 0.3788153\ttotal: 30.5s\tremaining: 21.7s\n",
            "584:\tlearn: 0.3784666\ttotal: 30.5s\tremaining: 21.7s\n",
            "585:\tlearn: 0.3783050\ttotal: 30.6s\tremaining: 21.6s\n",
            "586:\tlearn: 0.3779986\ttotal: 30.6s\tremaining: 21.6s\n",
            "587:\tlearn: 0.3777335\ttotal: 30.7s\tremaining: 21.5s\n",
            "588:\tlearn: 0.3775618\ttotal: 30.7s\tremaining: 21.4s\n",
            "589:\tlearn: 0.3773535\ttotal: 30.8s\tremaining: 21.4s\n",
            "590:\tlearn: 0.3769385\ttotal: 30.8s\tremaining: 21.3s\n",
            "591:\tlearn: 0.3765265\ttotal: 30.9s\tremaining: 21.3s\n",
            "592:\tlearn: 0.3762486\ttotal: 30.9s\tremaining: 21.2s\n",
            "593:\tlearn: 0.3760978\ttotal: 31s\tremaining: 21.2s\n",
            "594:\tlearn: 0.3758194\ttotal: 31s\tremaining: 21.1s\n",
            "595:\tlearn: 0.3755865\ttotal: 31.1s\tremaining: 21.1s\n",
            "596:\tlearn: 0.3754335\ttotal: 31.1s\tremaining: 21s\n",
            "597:\tlearn: 0.3750607\ttotal: 31.2s\tremaining: 21s\n",
            "598:\tlearn: 0.3748337\ttotal: 31.2s\tremaining: 20.9s\n",
            "599:\tlearn: 0.3746752\ttotal: 31.3s\tremaining: 20.9s\n",
            "600:\tlearn: 0.3744817\ttotal: 31.4s\tremaining: 20.8s\n",
            "601:\tlearn: 0.3742112\ttotal: 31.4s\tremaining: 20.8s\n",
            "602:\tlearn: 0.3738801\ttotal: 31.5s\tremaining: 20.7s\n",
            "603:\tlearn: 0.3736235\ttotal: 31.5s\tremaining: 20.7s\n",
            "604:\tlearn: 0.3734616\ttotal: 31.6s\tremaining: 20.6s\n",
            "605:\tlearn: 0.3731679\ttotal: 31.6s\tremaining: 20.6s\n",
            "606:\tlearn: 0.3727521\ttotal: 31.7s\tremaining: 20.5s\n",
            "607:\tlearn: 0.3725924\ttotal: 31.7s\tremaining: 20.5s\n",
            "608:\tlearn: 0.3722938\ttotal: 31.8s\tremaining: 20.4s\n",
            "609:\tlearn: 0.3720962\ttotal: 31.9s\tremaining: 20.4s\n",
            "610:\tlearn: 0.3717893\ttotal: 31.9s\tremaining: 20.3s\n",
            "611:\tlearn: 0.3716051\ttotal: 32s\tremaining: 20.3s\n",
            "612:\tlearn: 0.3714784\ttotal: 32s\tremaining: 20.2s\n",
            "613:\tlearn: 0.3712264\ttotal: 32.1s\tremaining: 20.2s\n",
            "614:\tlearn: 0.3710863\ttotal: 32.1s\tremaining: 20.1s\n",
            "615:\tlearn: 0.3708200\ttotal: 32.2s\tremaining: 20.1s\n",
            "616:\tlearn: 0.3704944\ttotal: 32.2s\tremaining: 20s\n",
            "617:\tlearn: 0.3704025\ttotal: 32.3s\tremaining: 20s\n",
            "618:\tlearn: 0.3701030\ttotal: 32.3s\tremaining: 19.9s\n",
            "619:\tlearn: 0.3697911\ttotal: 32.4s\tremaining: 19.9s\n",
            "620:\tlearn: 0.3695045\ttotal: 32.5s\tremaining: 19.8s\n",
            "621:\tlearn: 0.3690921\ttotal: 32.5s\tremaining: 19.8s\n",
            "622:\tlearn: 0.3686912\ttotal: 32.6s\tremaining: 19.7s\n",
            "623:\tlearn: 0.3682104\ttotal: 32.6s\tremaining: 19.7s\n",
            "624:\tlearn: 0.3678146\ttotal: 32.7s\tremaining: 19.6s\n",
            "625:\tlearn: 0.3674876\ttotal: 32.7s\tremaining: 19.6s\n",
            "626:\tlearn: 0.3672129\ttotal: 32.8s\tremaining: 19.5s\n",
            "627:\tlearn: 0.3669811\ttotal: 32.8s\tremaining: 19.5s\n",
            "628:\tlearn: 0.3667641\ttotal: 32.9s\tremaining: 19.4s\n",
            "629:\tlearn: 0.3666552\ttotal: 33s\tremaining: 19.4s\n",
            "630:\tlearn: 0.3663735\ttotal: 33s\tremaining: 19.3s\n",
            "631:\tlearn: 0.3662172\ttotal: 33.1s\tremaining: 19.3s\n",
            "632:\tlearn: 0.3658927\ttotal: 33.1s\tremaining: 19.2s\n",
            "633:\tlearn: 0.3655329\ttotal: 33.2s\tremaining: 19.1s\n",
            "634:\tlearn: 0.3654666\ttotal: 33.2s\tremaining: 19.1s\n",
            "635:\tlearn: 0.3652020\ttotal: 33.3s\tremaining: 19s\n",
            "636:\tlearn: 0.3649495\ttotal: 33.3s\tremaining: 19s\n",
            "637:\tlearn: 0.3647352\ttotal: 33.4s\tremaining: 18.9s\n",
            "638:\tlearn: 0.3645495\ttotal: 33.4s\tremaining: 18.9s\n",
            "639:\tlearn: 0.3643919\ttotal: 33.4s\tremaining: 18.8s\n",
            "640:\tlearn: 0.3641607\ttotal: 33.5s\tremaining: 18.8s\n",
            "641:\tlearn: 0.3638256\ttotal: 33.5s\tremaining: 18.7s\n",
            "642:\tlearn: 0.3636340\ttotal: 33.6s\tremaining: 18.6s\n",
            "643:\tlearn: 0.3633542\ttotal: 33.7s\tremaining: 18.6s\n",
            "644:\tlearn: 0.3630956\ttotal: 33.7s\tremaining: 18.5s\n",
            "645:\tlearn: 0.3628365\ttotal: 33.7s\tremaining: 18.5s\n",
            "646:\tlearn: 0.3624941\ttotal: 33.8s\tremaining: 18.4s\n",
            "647:\tlearn: 0.3621972\ttotal: 33.8s\tremaining: 18.4s\n",
            "648:\tlearn: 0.3619014\ttotal: 33.9s\tremaining: 18.3s\n",
            "649:\tlearn: 0.3617893\ttotal: 33.9s\tremaining: 18.3s\n",
            "650:\tlearn: 0.3615551\ttotal: 34s\tremaining: 18.2s\n",
            "651:\tlearn: 0.3612918\ttotal: 34s\tremaining: 18.2s\n",
            "652:\tlearn: 0.3610024\ttotal: 34.1s\tremaining: 18.1s\n",
            "653:\tlearn: 0.3607914\ttotal: 34.1s\tremaining: 18.1s\n",
            "654:\tlearn: 0.3606019\ttotal: 34.2s\tremaining: 18s\n",
            "655:\tlearn: 0.3604294\ttotal: 34.2s\tremaining: 17.9s\n",
            "656:\tlearn: 0.3601830\ttotal: 34.3s\tremaining: 17.9s\n",
            "657:\tlearn: 0.3600726\ttotal: 34.3s\tremaining: 17.9s\n",
            "658:\tlearn: 0.3598012\ttotal: 34.4s\tremaining: 17.8s\n",
            "659:\tlearn: 0.3595351\ttotal: 34.4s\tremaining: 17.7s\n",
            "660:\tlearn: 0.3592786\ttotal: 34.5s\tremaining: 17.7s\n",
            "661:\tlearn: 0.3590166\ttotal: 34.5s\tremaining: 17.6s\n",
            "662:\tlearn: 0.3587469\ttotal: 34.6s\tremaining: 17.6s\n",
            "663:\tlearn: 0.3585801\ttotal: 34.6s\tremaining: 17.5s\n",
            "664:\tlearn: 0.3583912\ttotal: 34.7s\tremaining: 17.5s\n",
            "665:\tlearn: 0.3580786\ttotal: 34.7s\tremaining: 17.4s\n",
            "666:\tlearn: 0.3578410\ttotal: 34.8s\tremaining: 17.4s\n",
            "667:\tlearn: 0.3575799\ttotal: 34.8s\tremaining: 17.3s\n",
            "668:\tlearn: 0.3573436\ttotal: 34.9s\tremaining: 17.3s\n",
            "669:\tlearn: 0.3570742\ttotal: 34.9s\tremaining: 17.2s\n",
            "670:\tlearn: 0.3567948\ttotal: 35s\tremaining: 17.2s\n",
            "671:\tlearn: 0.3564074\ttotal: 35s\tremaining: 17.1s\n",
            "672:\tlearn: 0.3562186\ttotal: 35.1s\tremaining: 17s\n",
            "673:\tlearn: 0.3561540\ttotal: 35.1s\tremaining: 17s\n",
            "674:\tlearn: 0.3558221\ttotal: 35.2s\tremaining: 16.9s\n",
            "675:\tlearn: 0.3555340\ttotal: 35.3s\tremaining: 16.9s\n",
            "676:\tlearn: 0.3553830\ttotal: 35.3s\tremaining: 16.8s\n",
            "677:\tlearn: 0.3551851\ttotal: 35.3s\tremaining: 16.8s\n",
            "678:\tlearn: 0.3549715\ttotal: 35.4s\tremaining: 16.7s\n",
            "679:\tlearn: 0.3548131\ttotal: 35.5s\tremaining: 16.7s\n",
            "680:\tlearn: 0.3546109\ttotal: 35.5s\tremaining: 16.6s\n",
            "681:\tlearn: 0.3542981\ttotal: 35.6s\tremaining: 16.6s\n",
            "682:\tlearn: 0.3540199\ttotal: 35.6s\tremaining: 16.5s\n",
            "683:\tlearn: 0.3538845\ttotal: 35.7s\tremaining: 16.5s\n",
            "684:\tlearn: 0.3536353\ttotal: 35.7s\tremaining: 16.4s\n",
            "685:\tlearn: 0.3534391\ttotal: 35.8s\tremaining: 16.4s\n",
            "686:\tlearn: 0.3533140\ttotal: 35.8s\tremaining: 16.3s\n",
            "687:\tlearn: 0.3530968\ttotal: 35.9s\tremaining: 16.3s\n",
            "688:\tlearn: 0.3529535\ttotal: 35.9s\tremaining: 16.2s\n",
            "689:\tlearn: 0.3527916\ttotal: 36s\tremaining: 16.2s\n",
            "690:\tlearn: 0.3526688\ttotal: 36s\tremaining: 16.1s\n",
            "691:\tlearn: 0.3525345\ttotal: 36.1s\tremaining: 16.1s\n",
            "692:\tlearn: 0.3523771\ttotal: 36.2s\tremaining: 16s\n",
            "693:\tlearn: 0.3520555\ttotal: 36.2s\tremaining: 16s\n",
            "694:\tlearn: 0.3519428\ttotal: 36.2s\tremaining: 15.9s\n",
            "695:\tlearn: 0.3517502\ttotal: 36.3s\tremaining: 15.9s\n",
            "696:\tlearn: 0.3515715\ttotal: 36.3s\tremaining: 15.8s\n",
            "697:\tlearn: 0.3513122\ttotal: 36.4s\tremaining: 15.7s\n",
            "698:\tlearn: 0.3510899\ttotal: 36.4s\tremaining: 15.7s\n",
            "699:\tlearn: 0.3508791\ttotal: 36.5s\tremaining: 15.6s\n",
            "700:\tlearn: 0.3506825\ttotal: 36.5s\tremaining: 15.6s\n",
            "701:\tlearn: 0.3504063\ttotal: 36.6s\tremaining: 15.5s\n",
            "702:\tlearn: 0.3503180\ttotal: 36.6s\tremaining: 15.5s\n",
            "703:\tlearn: 0.3500720\ttotal: 36.7s\tremaining: 15.4s\n",
            "704:\tlearn: 0.3499657\ttotal: 36.7s\tremaining: 15.4s\n",
            "705:\tlearn: 0.3497690\ttotal: 36.8s\tremaining: 15.3s\n",
            "706:\tlearn: 0.3496126\ttotal: 36.8s\tremaining: 15.3s\n",
            "707:\tlearn: 0.3493620\ttotal: 36.9s\tremaining: 15.2s\n",
            "708:\tlearn: 0.3491705\ttotal: 36.9s\tremaining: 15.2s\n",
            "709:\tlearn: 0.3489181\ttotal: 37s\tremaining: 15.1s\n",
            "710:\tlearn: 0.3487558\ttotal: 37s\tremaining: 15.1s\n",
            "711:\tlearn: 0.3485791\ttotal: 37.1s\tremaining: 15s\n",
            "712:\tlearn: 0.3483871\ttotal: 37.1s\tremaining: 14.9s\n",
            "713:\tlearn: 0.3482071\ttotal: 37.2s\tremaining: 14.9s\n",
            "714:\tlearn: 0.3479956\ttotal: 37.2s\tremaining: 14.8s\n",
            "715:\tlearn: 0.3477028\ttotal: 37.3s\tremaining: 14.8s\n",
            "716:\tlearn: 0.3475141\ttotal: 37.3s\tremaining: 14.7s\n",
            "717:\tlearn: 0.3472826\ttotal: 37.4s\tremaining: 14.7s\n",
            "718:\tlearn: 0.3471172\ttotal: 37.5s\tremaining: 14.6s\n",
            "719:\tlearn: 0.3469507\ttotal: 37.5s\tremaining: 14.6s\n",
            "720:\tlearn: 0.3466254\ttotal: 37.6s\tremaining: 14.5s\n",
            "721:\tlearn: 0.3464111\ttotal: 37.6s\tremaining: 14.5s\n",
            "722:\tlearn: 0.3463553\ttotal: 37.7s\tremaining: 14.4s\n",
            "723:\tlearn: 0.3461230\ttotal: 37.8s\tremaining: 14.4s\n",
            "724:\tlearn: 0.3457910\ttotal: 37.8s\tremaining: 14.3s\n",
            "725:\tlearn: 0.3454314\ttotal: 37.9s\tremaining: 14.3s\n",
            "726:\tlearn: 0.3452423\ttotal: 37.9s\tremaining: 14.2s\n",
            "727:\tlearn: 0.3450017\ttotal: 38s\tremaining: 14.2s\n",
            "728:\tlearn: 0.3448327\ttotal: 38s\tremaining: 14.1s\n",
            "729:\tlearn: 0.3445711\ttotal: 38.1s\tremaining: 14.1s\n",
            "730:\tlearn: 0.3443146\ttotal: 38.1s\tremaining: 14s\n",
            "731:\tlearn: 0.3440805\ttotal: 38.2s\tremaining: 14s\n",
            "732:\tlearn: 0.3437343\ttotal: 38.2s\tremaining: 13.9s\n",
            "733:\tlearn: 0.3436427\ttotal: 38.3s\tremaining: 13.9s\n",
            "734:\tlearn: 0.3433776\ttotal: 38.3s\tremaining: 13.8s\n",
            "735:\tlearn: 0.3431920\ttotal: 38.4s\tremaining: 13.8s\n",
            "736:\tlearn: 0.3430118\ttotal: 38.5s\tremaining: 13.7s\n",
            "737:\tlearn: 0.3427259\ttotal: 38.5s\tremaining: 13.7s\n",
            "738:\tlearn: 0.3424859\ttotal: 38.6s\tremaining: 13.6s\n",
            "739:\tlearn: 0.3422937\ttotal: 38.6s\tremaining: 13.6s\n",
            "740:\tlearn: 0.3420623\ttotal: 38.7s\tremaining: 13.5s\n",
            "741:\tlearn: 0.3418886\ttotal: 38.8s\tremaining: 13.5s\n",
            "742:\tlearn: 0.3416298\ttotal: 38.8s\tremaining: 13.4s\n",
            "743:\tlearn: 0.3414159\ttotal: 38.9s\tremaining: 13.4s\n",
            "744:\tlearn: 0.3411479\ttotal: 38.9s\tremaining: 13.3s\n",
            "745:\tlearn: 0.3409013\ttotal: 39s\tremaining: 13.3s\n",
            "746:\tlearn: 0.3406207\ttotal: 39s\tremaining: 13.2s\n",
            "747:\tlearn: 0.3403960\ttotal: 39.1s\tremaining: 13.2s\n",
            "748:\tlearn: 0.3402471\ttotal: 39.1s\tremaining: 13.1s\n",
            "749:\tlearn: 0.3400764\ttotal: 39.2s\tremaining: 13.1s\n",
            "750:\tlearn: 0.3399011\ttotal: 39.2s\tremaining: 13s\n",
            "751:\tlearn: 0.3396569\ttotal: 39.3s\tremaining: 13s\n",
            "752:\tlearn: 0.3394274\ttotal: 39.3s\tremaining: 12.9s\n",
            "753:\tlearn: 0.3391770\ttotal: 39.4s\tremaining: 12.8s\n",
            "754:\tlearn: 0.3390547\ttotal: 39.4s\tremaining: 12.8s\n",
            "755:\tlearn: 0.3389268\ttotal: 39.5s\tremaining: 12.7s\n",
            "756:\tlearn: 0.3386919\ttotal: 39.5s\tremaining: 12.7s\n",
            "757:\tlearn: 0.3384649\ttotal: 39.6s\tremaining: 12.6s\n",
            "758:\tlearn: 0.3383040\ttotal: 39.6s\tremaining: 12.6s\n",
            "759:\tlearn: 0.3382307\ttotal: 39.7s\tremaining: 12.5s\n",
            "760:\tlearn: 0.3379235\ttotal: 39.7s\tremaining: 12.5s\n",
            "761:\tlearn: 0.3377744\ttotal: 39.8s\tremaining: 12.4s\n",
            "762:\tlearn: 0.3376247\ttotal: 39.8s\tremaining: 12.4s\n",
            "763:\tlearn: 0.3374294\ttotal: 39.9s\tremaining: 12.3s\n",
            "764:\tlearn: 0.3372122\ttotal: 39.9s\tremaining: 12.3s\n",
            "765:\tlearn: 0.3369336\ttotal: 40s\tremaining: 12.2s\n",
            "766:\tlearn: 0.3367364\ttotal: 40s\tremaining: 12.2s\n",
            "767:\tlearn: 0.3366034\ttotal: 40.1s\tremaining: 12.1s\n",
            "768:\tlearn: 0.3364008\ttotal: 40.1s\tremaining: 12.1s\n",
            "769:\tlearn: 0.3362741\ttotal: 40.2s\tremaining: 12s\n",
            "770:\tlearn: 0.3361455\ttotal: 40.2s\tremaining: 11.9s\n",
            "771:\tlearn: 0.3358600\ttotal: 40.3s\tremaining: 11.9s\n",
            "772:\tlearn: 0.3356612\ttotal: 40.3s\tremaining: 11.8s\n",
            "773:\tlearn: 0.3355200\ttotal: 40.4s\tremaining: 11.8s\n",
            "774:\tlearn: 0.3352700\ttotal: 40.4s\tremaining: 11.7s\n",
            "775:\tlearn: 0.3350520\ttotal: 40.5s\tremaining: 11.7s\n",
            "776:\tlearn: 0.3348077\ttotal: 40.5s\tremaining: 11.6s\n",
            "777:\tlearn: 0.3345423\ttotal: 40.6s\tremaining: 11.6s\n",
            "778:\tlearn: 0.3343000\ttotal: 40.6s\tremaining: 11.5s\n",
            "779:\tlearn: 0.3341463\ttotal: 40.7s\tremaining: 11.5s\n",
            "780:\tlearn: 0.3340417\ttotal: 40.7s\tremaining: 11.4s\n",
            "781:\tlearn: 0.3337939\ttotal: 40.8s\tremaining: 11.4s\n",
            "782:\tlearn: 0.3336056\ttotal: 40.8s\tremaining: 11.3s\n",
            "783:\tlearn: 0.3334457\ttotal: 40.9s\tremaining: 11.3s\n",
            "784:\tlearn: 0.3332262\ttotal: 40.9s\tremaining: 11.2s\n",
            "785:\tlearn: 0.3330443\ttotal: 41s\tremaining: 11.2s\n",
            "786:\tlearn: 0.3327890\ttotal: 41s\tremaining: 11.1s\n",
            "787:\tlearn: 0.3325561\ttotal: 41.1s\tremaining: 11s\n",
            "788:\tlearn: 0.3324519\ttotal: 41.1s\tremaining: 11s\n",
            "789:\tlearn: 0.3321072\ttotal: 41.2s\tremaining: 10.9s\n",
            "790:\tlearn: 0.3319464\ttotal: 41.2s\tremaining: 10.9s\n",
            "791:\tlearn: 0.3318116\ttotal: 41.3s\tremaining: 10.8s\n",
            "792:\tlearn: 0.3316900\ttotal: 41.3s\tremaining: 10.8s\n",
            "793:\tlearn: 0.3313511\ttotal: 41.4s\tremaining: 10.7s\n",
            "794:\tlearn: 0.3311851\ttotal: 41.4s\tremaining: 10.7s\n",
            "795:\tlearn: 0.3310527\ttotal: 41.5s\tremaining: 10.6s\n",
            "796:\tlearn: 0.3309593\ttotal: 41.5s\tremaining: 10.6s\n",
            "797:\tlearn: 0.3306583\ttotal: 41.6s\tremaining: 10.5s\n",
            "798:\tlearn: 0.3304656\ttotal: 41.6s\tremaining: 10.5s\n",
            "799:\tlearn: 0.3303856\ttotal: 41.7s\tremaining: 10.4s\n",
            "800:\tlearn: 0.3301289\ttotal: 41.7s\tremaining: 10.4s\n",
            "801:\tlearn: 0.3299754\ttotal: 41.8s\tremaining: 10.3s\n",
            "802:\tlearn: 0.3298993\ttotal: 41.8s\tremaining: 10.3s\n",
            "803:\tlearn: 0.3297254\ttotal: 41.9s\tremaining: 10.2s\n",
            "804:\tlearn: 0.3296196\ttotal: 41.9s\tremaining: 10.1s\n",
            "805:\tlearn: 0.3295391\ttotal: 41.9s\tremaining: 10.1s\n",
            "806:\tlearn: 0.3292598\ttotal: 42s\tremaining: 10s\n",
            "807:\tlearn: 0.3289848\ttotal: 42s\tremaining: 9.99s\n",
            "808:\tlearn: 0.3287735\ttotal: 42.1s\tremaining: 9.94s\n",
            "809:\tlearn: 0.3285273\ttotal: 42.1s\tremaining: 9.89s\n",
            "810:\tlearn: 0.3283449\ttotal: 42.2s\tremaining: 9.83s\n",
            "811:\tlearn: 0.3281432\ttotal: 42.3s\tremaining: 9.78s\n",
            "812:\tlearn: 0.3279964\ttotal: 42.3s\tremaining: 9.73s\n",
            "813:\tlearn: 0.3278439\ttotal: 42.4s\tremaining: 9.68s\n",
            "814:\tlearn: 0.3276552\ttotal: 42.4s\tremaining: 9.63s\n",
            "815:\tlearn: 0.3274371\ttotal: 42.5s\tremaining: 9.57s\n",
            "816:\tlearn: 0.3272403\ttotal: 42.5s\tremaining: 9.52s\n",
            "817:\tlearn: 0.3271033\ttotal: 42.6s\tremaining: 9.47s\n",
            "818:\tlearn: 0.3268745\ttotal: 42.6s\tremaining: 9.42s\n",
            "819:\tlearn: 0.3266370\ttotal: 42.7s\tremaining: 9.37s\n",
            "820:\tlearn: 0.3263902\ttotal: 42.7s\tremaining: 9.31s\n",
            "821:\tlearn: 0.3262138\ttotal: 42.8s\tremaining: 9.27s\n",
            "822:\tlearn: 0.3260748\ttotal: 42.8s\tremaining: 9.21s\n",
            "823:\tlearn: 0.3257583\ttotal: 42.9s\tremaining: 9.16s\n",
            "824:\tlearn: 0.3256117\ttotal: 42.9s\tremaining: 9.11s\n",
            "825:\tlearn: 0.3254206\ttotal: 43s\tremaining: 9.06s\n",
            "826:\tlearn: 0.3253325\ttotal: 43.1s\tremaining: 9.01s\n",
            "827:\tlearn: 0.3251003\ttotal: 43.1s\tremaining: 8.96s\n",
            "828:\tlearn: 0.3249095\ttotal: 43.2s\tremaining: 8.9s\n",
            "829:\tlearn: 0.3246626\ttotal: 43.2s\tremaining: 8.85s\n",
            "830:\tlearn: 0.3244635\ttotal: 43.3s\tremaining: 8.8s\n",
            "831:\tlearn: 0.3243534\ttotal: 43.3s\tremaining: 8.75s\n",
            "832:\tlearn: 0.3242784\ttotal: 43.4s\tremaining: 8.69s\n",
            "833:\tlearn: 0.3241257\ttotal: 43.4s\tremaining: 8.64s\n",
            "834:\tlearn: 0.3238671\ttotal: 43.5s\tremaining: 8.59s\n",
            "835:\tlearn: 0.3236409\ttotal: 43.5s\tremaining: 8.54s\n",
            "836:\tlearn: 0.3234783\ttotal: 43.6s\tremaining: 8.48s\n",
            "837:\tlearn: 0.3232318\ttotal: 43.6s\tremaining: 8.43s\n",
            "838:\tlearn: 0.3231231\ttotal: 43.7s\tremaining: 8.38s\n",
            "839:\tlearn: 0.3229532\ttotal: 43.7s\tremaining: 8.33s\n",
            "840:\tlearn: 0.3227815\ttotal: 43.8s\tremaining: 8.27s\n",
            "841:\tlearn: 0.3226207\ttotal: 43.8s\tremaining: 8.22s\n",
            "842:\tlearn: 0.3224337\ttotal: 43.9s\tremaining: 8.17s\n",
            "843:\tlearn: 0.3221215\ttotal: 43.9s\tremaining: 8.12s\n",
            "844:\tlearn: 0.3219710\ttotal: 44s\tremaining: 8.06s\n",
            "845:\tlearn: 0.3216674\ttotal: 44s\tremaining: 8.01s\n",
            "846:\tlearn: 0.3213875\ttotal: 44.1s\tremaining: 7.96s\n",
            "847:\tlearn: 0.3211601\ttotal: 44.1s\tremaining: 7.91s\n",
            "848:\tlearn: 0.3210025\ttotal: 44.2s\tremaining: 7.85s\n",
            "849:\tlearn: 0.3207825\ttotal: 44.2s\tremaining: 7.8s\n",
            "850:\tlearn: 0.3205958\ttotal: 44.3s\tremaining: 7.75s\n",
            "851:\tlearn: 0.3203967\ttotal: 44.3s\tremaining: 7.7s\n",
            "852:\tlearn: 0.3202694\ttotal: 44.4s\tremaining: 7.64s\n",
            "853:\tlearn: 0.3198349\ttotal: 44.4s\tremaining: 7.59s\n",
            "854:\tlearn: 0.3196457\ttotal: 44.5s\tremaining: 7.54s\n",
            "855:\tlearn: 0.3195064\ttotal: 44.5s\tremaining: 7.49s\n",
            "856:\tlearn: 0.3192784\ttotal: 44.5s\tremaining: 7.43s\n",
            "857:\tlearn: 0.3191411\ttotal: 44.6s\tremaining: 7.38s\n",
            "858:\tlearn: 0.3190540\ttotal: 44.6s\tremaining: 7.33s\n",
            "859:\tlearn: 0.3188817\ttotal: 44.7s\tremaining: 7.28s\n",
            "860:\tlearn: 0.3186596\ttotal: 44.7s\tremaining: 7.22s\n",
            "861:\tlearn: 0.3185338\ttotal: 44.8s\tremaining: 7.17s\n",
            "862:\tlearn: 0.3182652\ttotal: 44.8s\tremaining: 7.12s\n",
            "863:\tlearn: 0.3179611\ttotal: 44.9s\tremaining: 7.07s\n",
            "864:\tlearn: 0.3177485\ttotal: 44.9s\tremaining: 7.01s\n",
            "865:\tlearn: 0.3175486\ttotal: 45s\tremaining: 6.96s\n",
            "866:\tlearn: 0.3173533\ttotal: 45s\tremaining: 6.91s\n",
            "867:\tlearn: 0.3171665\ttotal: 45.1s\tremaining: 6.86s\n",
            "868:\tlearn: 0.3169903\ttotal: 45.1s\tremaining: 6.8s\n",
            "869:\tlearn: 0.3168088\ttotal: 45.2s\tremaining: 6.75s\n",
            "870:\tlearn: 0.3166713\ttotal: 45.2s\tremaining: 6.7s\n",
            "871:\tlearn: 0.3164950\ttotal: 45.3s\tremaining: 6.65s\n",
            "872:\tlearn: 0.3163769\ttotal: 45.4s\tremaining: 6.6s\n",
            "873:\tlearn: 0.3160610\ttotal: 45.4s\tremaining: 6.55s\n",
            "874:\tlearn: 0.3159666\ttotal: 45.5s\tremaining: 6.49s\n",
            "875:\tlearn: 0.3157925\ttotal: 45.5s\tremaining: 6.44s\n",
            "876:\tlearn: 0.3155338\ttotal: 45.6s\tremaining: 6.39s\n",
            "877:\tlearn: 0.3153441\ttotal: 45.6s\tremaining: 6.34s\n",
            "878:\tlearn: 0.3150937\ttotal: 45.7s\tremaining: 6.29s\n",
            "879:\tlearn: 0.3148878\ttotal: 45.7s\tremaining: 6.24s\n",
            "880:\tlearn: 0.3148035\ttotal: 45.8s\tremaining: 6.18s\n",
            "881:\tlearn: 0.3143700\ttotal: 45.9s\tremaining: 6.13s\n",
            "882:\tlearn: 0.3141354\ttotal: 45.9s\tremaining: 6.08s\n",
            "883:\tlearn: 0.3139560\ttotal: 46s\tremaining: 6.03s\n",
            "884:\tlearn: 0.3138791\ttotal: 46s\tremaining: 5.98s\n",
            "885:\tlearn: 0.3136401\ttotal: 46.1s\tremaining: 5.93s\n",
            "886:\tlearn: 0.3133005\ttotal: 46.1s\tremaining: 5.88s\n",
            "887:\tlearn: 0.3130681\ttotal: 46.2s\tremaining: 5.83s\n",
            "888:\tlearn: 0.3127870\ttotal: 46.2s\tremaining: 5.77s\n",
            "889:\tlearn: 0.3126749\ttotal: 46.3s\tremaining: 5.72s\n",
            "890:\tlearn: 0.3125016\ttotal: 46.4s\tremaining: 5.67s\n",
            "891:\tlearn: 0.3123152\ttotal: 46.4s\tremaining: 5.62s\n",
            "892:\tlearn: 0.3121559\ttotal: 46.5s\tremaining: 5.57s\n",
            "893:\tlearn: 0.3120228\ttotal: 46.5s\tremaining: 5.51s\n",
            "894:\tlearn: 0.3118542\ttotal: 46.6s\tremaining: 5.46s\n",
            "895:\tlearn: 0.3117779\ttotal: 46.6s\tremaining: 5.41s\n",
            "896:\tlearn: 0.3116578\ttotal: 46.7s\tremaining: 5.36s\n",
            "897:\tlearn: 0.3113656\ttotal: 46.7s\tremaining: 5.31s\n",
            "898:\tlearn: 0.3111589\ttotal: 46.8s\tremaining: 5.25s\n",
            "899:\tlearn: 0.3111460\ttotal: 46.9s\tremaining: 5.21s\n",
            "900:\tlearn: 0.3110125\ttotal: 46.9s\tremaining: 5.15s\n",
            "901:\tlearn: 0.3108413\ttotal: 47s\tremaining: 5.1s\n",
            "902:\tlearn: 0.3106120\ttotal: 47s\tremaining: 5.05s\n",
            "903:\tlearn: 0.3104189\ttotal: 47.1s\tremaining: 5s\n",
            "904:\tlearn: 0.3102699\ttotal: 47.1s\tremaining: 4.95s\n",
            "905:\tlearn: 0.3101704\ttotal: 47.2s\tremaining: 4.89s\n",
            "906:\tlearn: 0.3099256\ttotal: 47.2s\tremaining: 4.84s\n",
            "907:\tlearn: 0.3097446\ttotal: 47.3s\tremaining: 4.79s\n",
            "908:\tlearn: 0.3095665\ttotal: 47.3s\tremaining: 4.74s\n",
            "909:\tlearn: 0.3094211\ttotal: 47.4s\tremaining: 4.69s\n",
            "910:\tlearn: 0.3092648\ttotal: 47.4s\tremaining: 4.63s\n",
            "911:\tlearn: 0.3090690\ttotal: 47.5s\tremaining: 4.58s\n",
            "912:\tlearn: 0.3088855\ttotal: 47.5s\tremaining: 4.53s\n",
            "913:\tlearn: 0.3087439\ttotal: 47.6s\tremaining: 4.48s\n",
            "914:\tlearn: 0.3085450\ttotal: 47.7s\tremaining: 4.43s\n",
            "915:\tlearn: 0.3084060\ttotal: 47.7s\tremaining: 4.38s\n",
            "916:\tlearn: 0.3082271\ttotal: 47.8s\tremaining: 4.32s\n",
            "917:\tlearn: 0.3080004\ttotal: 47.8s\tremaining: 4.27s\n",
            "918:\tlearn: 0.3076983\ttotal: 47.9s\tremaining: 4.22s\n",
            "919:\tlearn: 0.3074780\ttotal: 48s\tremaining: 4.17s\n",
            "920:\tlearn: 0.3073824\ttotal: 48s\tremaining: 4.12s\n",
            "921:\tlearn: 0.3071366\ttotal: 48.1s\tremaining: 4.07s\n",
            "922:\tlearn: 0.3068505\ttotal: 48.1s\tremaining: 4.01s\n",
            "923:\tlearn: 0.3066600\ttotal: 48.2s\tremaining: 3.96s\n",
            "924:\tlearn: 0.3064939\ttotal: 48.2s\tremaining: 3.91s\n",
            "925:\tlearn: 0.3063129\ttotal: 48.3s\tremaining: 3.86s\n",
            "926:\tlearn: 0.3060770\ttotal: 48.3s\tremaining: 3.81s\n",
            "927:\tlearn: 0.3059358\ttotal: 48.4s\tremaining: 3.75s\n",
            "928:\tlearn: 0.3057756\ttotal: 48.4s\tremaining: 3.7s\n",
            "929:\tlearn: 0.3055953\ttotal: 48.5s\tremaining: 3.65s\n",
            "930:\tlearn: 0.3053483\ttotal: 48.6s\tremaining: 3.6s\n",
            "931:\tlearn: 0.3050545\ttotal: 48.6s\tremaining: 3.55s\n",
            "932:\tlearn: 0.3049375\ttotal: 48.7s\tremaining: 3.5s\n",
            "933:\tlearn: 0.3049254\ttotal: 48.7s\tremaining: 3.44s\n",
            "934:\tlearn: 0.3047514\ttotal: 48.8s\tremaining: 3.39s\n",
            "935:\tlearn: 0.3045632\ttotal: 48.8s\tremaining: 3.34s\n",
            "936:\tlearn: 0.3043723\ttotal: 48.9s\tremaining: 3.29s\n",
            "937:\tlearn: 0.3040981\ttotal: 49s\tremaining: 3.24s\n",
            "938:\tlearn: 0.3039336\ttotal: 49s\tremaining: 3.18s\n",
            "939:\tlearn: 0.3037508\ttotal: 49.1s\tremaining: 3.13s\n",
            "940:\tlearn: 0.3035556\ttotal: 49.1s\tremaining: 3.08s\n",
            "941:\tlearn: 0.3033531\ttotal: 49.2s\tremaining: 3.03s\n",
            "942:\tlearn: 0.3031829\ttotal: 49.2s\tremaining: 2.98s\n",
            "943:\tlearn: 0.3029838\ttotal: 49.3s\tremaining: 2.92s\n",
            "944:\tlearn: 0.3028869\ttotal: 49.3s\tremaining: 2.87s\n",
            "945:\tlearn: 0.3027888\ttotal: 49.4s\tremaining: 2.82s\n",
            "946:\tlearn: 0.3025088\ttotal: 49.4s\tremaining: 2.77s\n",
            "947:\tlearn: 0.3023356\ttotal: 49.5s\tremaining: 2.71s\n",
            "948:\tlearn: 0.3021474\ttotal: 49.6s\tremaining: 2.66s\n",
            "949:\tlearn: 0.3019821\ttotal: 49.6s\tremaining: 2.61s\n",
            "950:\tlearn: 0.3018001\ttotal: 49.7s\tremaining: 2.56s\n",
            "951:\tlearn: 0.3016695\ttotal: 49.7s\tremaining: 2.51s\n",
            "952:\tlearn: 0.3015281\ttotal: 49.8s\tremaining: 2.45s\n",
            "953:\tlearn: 0.3013977\ttotal: 49.8s\tremaining: 2.4s\n",
            "954:\tlearn: 0.3012071\ttotal: 49.9s\tremaining: 2.35s\n",
            "955:\tlearn: 0.3008693\ttotal: 49.9s\tremaining: 2.3s\n",
            "956:\tlearn: 0.3006684\ttotal: 50s\tremaining: 2.25s\n",
            "957:\tlearn: 0.3004517\ttotal: 50.1s\tremaining: 2.19s\n",
            "958:\tlearn: 0.3002981\ttotal: 50.1s\tremaining: 2.14s\n",
            "959:\tlearn: 0.3002057\ttotal: 50.2s\tremaining: 2.09s\n",
            "960:\tlearn: 0.3000245\ttotal: 50.2s\tremaining: 2.04s\n",
            "961:\tlearn: 0.2999321\ttotal: 50.3s\tremaining: 1.99s\n",
            "962:\tlearn: 0.2997409\ttotal: 50.3s\tremaining: 1.93s\n",
            "963:\tlearn: 0.2994633\ttotal: 50.4s\tremaining: 1.88s\n",
            "964:\tlearn: 0.2994032\ttotal: 50.4s\tremaining: 1.83s\n",
            "965:\tlearn: 0.2992176\ttotal: 50.5s\tremaining: 1.78s\n",
            "966:\tlearn: 0.2990874\ttotal: 50.5s\tremaining: 1.72s\n",
            "967:\tlearn: 0.2988977\ttotal: 50.6s\tremaining: 1.67s\n",
            "968:\tlearn: 0.2987174\ttotal: 50.6s\tremaining: 1.62s\n",
            "969:\tlearn: 0.2985456\ttotal: 50.7s\tremaining: 1.57s\n",
            "970:\tlearn: 0.2984231\ttotal: 50.7s\tremaining: 1.51s\n",
            "971:\tlearn: 0.2981577\ttotal: 50.8s\tremaining: 1.46s\n",
            "972:\tlearn: 0.2979620\ttotal: 50.9s\tremaining: 1.41s\n",
            "973:\tlearn: 0.2977801\ttotal: 50.9s\tremaining: 1.36s\n",
            "974:\tlearn: 0.2975869\ttotal: 51s\tremaining: 1.31s\n",
            "975:\tlearn: 0.2974416\ttotal: 51s\tremaining: 1.25s\n",
            "976:\tlearn: 0.2972313\ttotal: 51.1s\tremaining: 1.2s\n",
            "977:\tlearn: 0.2970415\ttotal: 51.1s\tremaining: 1.15s\n",
            "978:\tlearn: 0.2968986\ttotal: 51.2s\tremaining: 1.1s\n",
            "979:\tlearn: 0.2967678\ttotal: 51.3s\tremaining: 1.05s\n",
            "980:\tlearn: 0.2965946\ttotal: 51.3s\tremaining: 994ms\n",
            "981:\tlearn: 0.2965153\ttotal: 51.4s\tremaining: 942ms\n",
            "982:\tlearn: 0.2963951\ttotal: 51.4s\tremaining: 889ms\n",
            "983:\tlearn: 0.2960891\ttotal: 51.5s\tremaining: 837ms\n",
            "984:\tlearn: 0.2959153\ttotal: 51.5s\tremaining: 785ms\n",
            "985:\tlearn: 0.2957943\ttotal: 51.6s\tremaining: 733ms\n",
            "986:\tlearn: 0.2956966\ttotal: 51.6s\tremaining: 680ms\n",
            "987:\tlearn: 0.2955739\ttotal: 51.7s\tremaining: 628ms\n",
            "988:\tlearn: 0.2954330\ttotal: 51.8s\tremaining: 576ms\n",
            "989:\tlearn: 0.2952941\ttotal: 51.8s\tremaining: 523ms\n",
            "990:\tlearn: 0.2951289\ttotal: 51.9s\tremaining: 471ms\n",
            "991:\tlearn: 0.2949096\ttotal: 51.9s\tremaining: 419ms\n",
            "992:\tlearn: 0.2947651\ttotal: 52s\tremaining: 366ms\n",
            "993:\tlearn: 0.2945219\ttotal: 52s\tremaining: 314ms\n",
            "994:\tlearn: 0.2942461\ttotal: 52.1s\tremaining: 262ms\n",
            "995:\tlearn: 0.2940612\ttotal: 52.1s\tremaining: 209ms\n",
            "996:\tlearn: 0.2938272\ttotal: 52.2s\tremaining: 157ms\n",
            "997:\tlearn: 0.2936935\ttotal: 52.3s\tremaining: 105ms\n",
            "998:\tlearn: 0.2936090\ttotal: 52.3s\tremaining: 52.4ms\n",
            "999:\tlearn: 0.2934448\ttotal: 52.4s\tremaining: 0us\n"
          ]
        },
        {
          "output_type": "execute_result",
          "data": {
            "text/plain": [
              "<catboost.core.CatBoostClassifier at 0x7f3fc12d0790>"
            ]
          },
          "metadata": {},
          "execution_count": 93
        }
      ],
      "source": [
        "Cat.fit(X_train, y_train)"
      ]
    },
    {
      "cell_type": "markdown",
      "metadata": {
        "id": "dShYvBE1Aek9"
      },
      "source": [
        "In order to help prevent data leakage we load our test data after the models are trained"
      ]
    },
    {
      "cell_type": "code",
      "execution_count": 94,
      "metadata": {
        "id": "9Wa-w1DZAek9"
      },
      "outputs": [],
      "source": [
        "X_test = pd.read_csv('X_processed_test.csv', index_col=0)\n",
        "y_test = pd.read_csv('y_processed_test.csv', index_col=0)"
      ]
    },
    {
      "cell_type": "markdown",
      "metadata": {
        "id": "RPtiQCDDAek-"
      },
      "source": [
        "To enable proper modeling, we binarize our winner column 1 indicates red corner wins, 0 indicates blue corner wins"
      ]
    },
    {
      "cell_type": "code",
      "execution_count": 95,
      "metadata": {
        "id": "ZDPV2z4pAek-"
      },
      "outputs": [],
      "source": [
        "y_test = preprocessing.LabelBinarizer().fit_transform(y_test['Winner'])"
      ]
    },
    {
      "cell_type": "markdown",
      "metadata": {
        "id": "XnZABQwbAek_"
      },
      "source": [
        "Binarizing our title bout field in the training data, 1 indicates title, 0 non title fight"
      ]
    },
    {
      "cell_type": "code",
      "execution_count": 96,
      "metadata": {
        "id": "aIh6_NttAek_"
      },
      "outputs": [],
      "source": [
        "X_test['title_bout'] = preprocessing.LabelBinarizer().fit_transform(X_test['title_bout'])"
      ]
    },
    {
      "cell_type": "markdown",
      "metadata": {
        "id": "lf00XrMXAelA"
      },
      "source": [
        "Processing X_test data"
      ]
    },
    {
      "cell_type": "code",
      "execution_count": 97,
      "metadata": {
        "id": "8ItSZTQuAelA"
      },
      "outputs": [],
      "source": [
        "X_test_numeric = X_test.select_dtypes(include = numerics)\n",
        "X_test_cat = X_test.select_dtypes(include = 'object')"
      ]
    },
    {
      "cell_type": "code",
      "execution_count": 98,
      "metadata": {
        "id": "eNXDcRuoAelA"
      },
      "outputs": [],
      "source": [
        "scaler = StandardScaler()"
      ]
    },
    {
      "cell_type": "markdown",
      "metadata": {
        "id": "DqLJtad3AelB"
      },
      "source": [
        "caling our test data"
      ]
    },
    {
      "cell_type": "code",
      "execution_count": 99,
      "metadata": {
        "id": "F62Gs2qZAelB"
      },
      "outputs": [],
      "source": [
        "scaled_test = scaler.fit_transform(X_test_numeric.values)\n",
        "scaled_test_df = pd.DataFrame(scaled_test, index=X_test_numeric.index, columns=X_test_numeric.columns)"
      ]
    },
    {
      "cell_type": "markdown",
      "metadata": {
        "id": "4VHd_zp-AelC"
      },
      "source": [
        "To prevent target leakage fit the old transformer on the test data"
      ]
    },
    {
      "cell_type": "code",
      "execution_count": 100,
      "metadata": {
        "id": "Fy2RvyifAelD"
      },
      "outputs": [],
      "source": [
        "encoded_cat_data = encoder.transform(X_test_cat)"
      ]
    },
    {
      "cell_type": "markdown",
      "metadata": {
        "id": "Sy2wEKnhAelD"
      },
      "source": [
        "Joining encoded and scaled data together"
      ]
    },
    {
      "cell_type": "code",
      "execution_count": 101,
      "metadata": {
        "id": "oWvN-RFBAelD"
      },
      "outputs": [],
      "source": [
        "X_test_numerical = scaled_test_df.join(encoded_cat_data)"
      ]
    },
    {
      "cell_type": "markdown",
      "metadata": {
        "id": "AXR33vSlAelE"
      },
      "source": [
        "Metric scores for baseline models"
      ]
    },
    {
      "cell_type": "code",
      "execution_count": 102,
      "metadata": {
        "id": "_KMXDmwTAelE"
      },
      "outputs": [],
      "source": [
        "lr_base_metric = metric_scoring(classifiers_non_cat[0], X_test_numerical, y_test, 'Logistic Regression')"
      ]
    },
    {
      "cell_type": "code",
      "execution_count": 103,
      "metadata": {
        "id": "EX9i6RgDAelF"
      },
      "outputs": [],
      "source": [
        "rf_base_metric = metric_scoring(classifiers_non_cat[1], X_test_numerical, y_test, 'Random Forest Classifier')"
      ]
    },
    {
      "cell_type": "code",
      "execution_count": 104,
      "metadata": {
        "id": "q7ZNqmJhAelG"
      },
      "outputs": [],
      "source": [
        "svc_base_metric = metric_scoring(classifiers_non_cat[2], X_test_numerical, y_test, 'Support Vector Classifier')"
      ]
    },
    {
      "cell_type": "code",
      "source": [
        "gb_base_metric = metric_scoring(classifiers_non_cat[3], X_test_numerical, y_test, 'Gradient Boosting Classifier')"
      ],
      "metadata": {
        "id": "0h-b38ELD36_"
      },
      "execution_count": 105,
      "outputs": []
    },
    {
      "cell_type": "code",
      "execution_count": 106,
      "metadata": {
        "id": "NzSMP13qAelG"
      },
      "outputs": [],
      "source": [
        "cat_base_metric = metric_scoring(Cat, X_test, y_test, 'CatBoost Classifier')"
      ]
    },
    {
      "cell_type": "code",
      "execution_count": 107,
      "metadata": {
        "id": "iA5ZY5esAelH"
      },
      "outputs": [],
      "source": [
        "metrics = [lr_base_metric,rf_base_metric,svc_base_metric,cat_base_metric,gb_base_metric]"
      ]
    },
    {
      "cell_type": "code",
      "execution_count": 108,
      "metadata": {
        "id": "L6NGGSkxAelH"
      },
      "outputs": [],
      "source": [
        "lr_df = pd.DataFrame.from_dict(metrics[0], orient = 'index').T\n",
        "rf_df = pd.DataFrame.from_dict(metrics[1], orient = 'index').T\n",
        "svc_df = pd.DataFrame.from_dict(metrics[2], orient = 'index').T\n",
        "cat_df = pd.DataFrame.from_dict(metrics[3], orient = 'index').T\n",
        "gb_df = pd.DataFrame.from_dict(metrics[4], orient = 'index').T"
      ]
    },
    {
      "cell_type": "code",
      "execution_count": 109,
      "metadata": {
        "id": "lgJp5JgAAelI"
      },
      "outputs": [],
      "source": [
        "baseline_model_results = pd.concat([lr_df, rf_df, svc_df, cat_df,gb_df]).reset_index().drop(columns = 'index')"
      ]
    },
    {
      "cell_type": "markdown",
      "source": [
        "# Metric Scores and Results, Visuals - go here if you want to see the results of our baseline modeling and do not care about the processing and cleaning"
      ],
      "metadata": {
        "id": "t7L0itMKFmwv"
      }
    },
    {
      "cell_type": "code",
      "execution_count": 110,
      "metadata": {
        "colab": {
          "base_uri": "https://localhost:8080/",
          "height": 421
        },
        "id": "DiQBuDl1AelJ",
        "outputId": "590f7861-7b59-40e2-8324-7c35e52d5dbe"
      },
      "outputs": [
        {
          "output_type": "execute_result",
          "data": {
            "text/plain": [
              "                     Model Name Precision  Recall Accuracy F1 Score\n",
              "0           Logistic Regression    0.7126  0.7971   0.6562   0.7525\n",
              "1      Random Forest Classifier    0.7116  0.8264   0.6667   0.7647\n",
              "2     Support Vector Classifier      0.72  0.8643   0.6907   0.7856\n",
              "3           CatBoost Classifier    0.7484  0.8509   0.7147   0.7963\n",
              "4  Gradient Boosting Classifier    0.7087  0.7494   0.6338   0.7285"
            ],
            "text/html": [
              "\n",
              "  <div id=\"df-9d79ad10-9eda-4d9d-9708-1fdf5495a1dd\">\n",
              "    <div class=\"colab-df-container\">\n",
              "      <div>\n",
              "<style scoped>\n",
              "    .dataframe tbody tr th:only-of-type {\n",
              "        vertical-align: middle;\n",
              "    }\n",
              "\n",
              "    .dataframe tbody tr th {\n",
              "        vertical-align: top;\n",
              "    }\n",
              "\n",
              "    .dataframe thead th {\n",
              "        text-align: right;\n",
              "    }\n",
              "</style>\n",
              "<table border=\"1\" class=\"dataframe\">\n",
              "  <thead>\n",
              "    <tr style=\"text-align: right;\">\n",
              "      <th></th>\n",
              "      <th>Model Name</th>\n",
              "      <th>Precision</th>\n",
              "      <th>Recall</th>\n",
              "      <th>Accuracy</th>\n",
              "      <th>F1 Score</th>\n",
              "    </tr>\n",
              "  </thead>\n",
              "  <tbody>\n",
              "    <tr>\n",
              "      <th>0</th>\n",
              "      <td>Logistic Regression</td>\n",
              "      <td>0.7126</td>\n",
              "      <td>0.7971</td>\n",
              "      <td>0.6562</td>\n",
              "      <td>0.7525</td>\n",
              "    </tr>\n",
              "    <tr>\n",
              "      <th>1</th>\n",
              "      <td>Random Forest Classifier</td>\n",
              "      <td>0.7116</td>\n",
              "      <td>0.8264</td>\n",
              "      <td>0.6667</td>\n",
              "      <td>0.7647</td>\n",
              "    </tr>\n",
              "    <tr>\n",
              "      <th>2</th>\n",
              "      <td>Support Vector Classifier</td>\n",
              "      <td>0.72</td>\n",
              "      <td>0.8643</td>\n",
              "      <td>0.6907</td>\n",
              "      <td>0.7856</td>\n",
              "    </tr>\n",
              "    <tr>\n",
              "      <th>3</th>\n",
              "      <td>CatBoost Classifier</td>\n",
              "      <td>0.7484</td>\n",
              "      <td>0.8509</td>\n",
              "      <td>0.7147</td>\n",
              "      <td>0.7963</td>\n",
              "    </tr>\n",
              "    <tr>\n",
              "      <th>4</th>\n",
              "      <td>Gradient Boosting Classifier</td>\n",
              "      <td>0.7087</td>\n",
              "      <td>0.7494</td>\n",
              "      <td>0.6338</td>\n",
              "      <td>0.7285</td>\n",
              "    </tr>\n",
              "  </tbody>\n",
              "</table>\n",
              "</div>\n",
              "      <button class=\"colab-df-convert\" onclick=\"convertToInteractive('df-9d79ad10-9eda-4d9d-9708-1fdf5495a1dd')\"\n",
              "              title=\"Convert this dataframe to an interactive table.\"\n",
              "              style=\"display:none;\">\n",
              "        \n",
              "  <svg xmlns=\"http://www.w3.org/2000/svg\" height=\"24px\"viewBox=\"0 0 24 24\"\n",
              "       width=\"24px\">\n",
              "    <path d=\"M0 0h24v24H0V0z\" fill=\"none\"/>\n",
              "    <path d=\"M18.56 5.44l.94 2.06.94-2.06 2.06-.94-2.06-.94-.94-2.06-.94 2.06-2.06.94zm-11 1L8.5 8.5l.94-2.06 2.06-.94-2.06-.94L8.5 2.5l-.94 2.06-2.06.94zm10 10l.94 2.06.94-2.06 2.06-.94-2.06-.94-.94-2.06-.94 2.06-2.06.94z\"/><path d=\"M17.41 7.96l-1.37-1.37c-.4-.4-.92-.59-1.43-.59-.52 0-1.04.2-1.43.59L10.3 9.45l-7.72 7.72c-.78.78-.78 2.05 0 2.83L4 21.41c.39.39.9.59 1.41.59.51 0 1.02-.2 1.41-.59l7.78-7.78 2.81-2.81c.8-.78.8-2.07 0-2.86zM5.41 20L4 18.59l7.72-7.72 1.47 1.35L5.41 20z\"/>\n",
              "  </svg>\n",
              "      </button>\n",
              "      \n",
              "  <style>\n",
              "    .colab-df-container {\n",
              "      display:flex;\n",
              "      flex-wrap:wrap;\n",
              "      gap: 12px;\n",
              "    }\n",
              "\n",
              "    .colab-df-convert {\n",
              "      background-color: #E8F0FE;\n",
              "      border: none;\n",
              "      border-radius: 50%;\n",
              "      cursor: pointer;\n",
              "      display: none;\n",
              "      fill: #1967D2;\n",
              "      height: 32px;\n",
              "      padding: 0 0 0 0;\n",
              "      width: 32px;\n",
              "    }\n",
              "\n",
              "    .colab-df-convert:hover {\n",
              "      background-color: #E2EBFA;\n",
              "      box-shadow: 0px 1px 2px rgba(60, 64, 67, 0.3), 0px 1px 3px 1px rgba(60, 64, 67, 0.15);\n",
              "      fill: #174EA6;\n",
              "    }\n",
              "\n",
              "    [theme=dark] .colab-df-convert {\n",
              "      background-color: #3B4455;\n",
              "      fill: #D2E3FC;\n",
              "    }\n",
              "\n",
              "    [theme=dark] .colab-df-convert:hover {\n",
              "      background-color: #434B5C;\n",
              "      box-shadow: 0px 1px 3px 1px rgba(0, 0, 0, 0.15);\n",
              "      filter: drop-shadow(0px 1px 2px rgba(0, 0, 0, 0.3));\n",
              "      fill: #FFFFFF;\n",
              "    }\n",
              "  </style>\n",
              "\n",
              "      <script>\n",
              "        const buttonEl =\n",
              "          document.querySelector('#df-9d79ad10-9eda-4d9d-9708-1fdf5495a1dd button.colab-df-convert');\n",
              "        buttonEl.style.display =\n",
              "          google.colab.kernel.accessAllowed ? 'block' : 'none';\n",
              "\n",
              "        async function convertToInteractive(key) {\n",
              "          const element = document.querySelector('#df-9d79ad10-9eda-4d9d-9708-1fdf5495a1dd');\n",
              "          const dataTable =\n",
              "            await google.colab.kernel.invokeFunction('convertToInteractive',\n",
              "                                                     [key], {});\n",
              "          if (!dataTable) return;\n",
              "\n",
              "          const docLinkHtml = 'Like what you see? Visit the ' +\n",
              "            '<a target=\"_blank\" href=https://colab.research.google.com/notebooks/data_table.ipynb>data table notebook</a>'\n",
              "            + ' to learn more about interactive tables.';\n",
              "          element.innerHTML = '';\n",
              "          dataTable['output_type'] = 'display_data';\n",
              "          await google.colab.output.renderOutput(dataTable, element);\n",
              "          const docLink = document.createElement('div');\n",
              "          docLink.innerHTML = docLinkHtml;\n",
              "          element.appendChild(docLink);\n",
              "        }\n",
              "      </script>\n",
              "    </div>\n",
              "  </div>\n",
              "  "
            ]
          },
          "metadata": {},
          "execution_count": 110
        }
      ],
      "source": [
        "baseline_model_results"
      ]
    },
    {
      "cell_type": "markdown",
      "metadata": {
        "id": "0lDCOodBAelJ"
      },
      "source": [
        "Visualizing our baseline models performance"
      ]
    },
    {
      "cell_type": "code",
      "execution_count": 111,
      "metadata": {
        "id": "a8onAz0uAelK"
      },
      "outputs": [],
      "source": [
        "from sklearn.metrics import ConfusionMatrixDisplay\n",
        "from sklearn.metrics import RocCurveDisplay"
      ]
    },
    {
      "cell_type": "markdown",
      "metadata": {
        "id": "RCawWxh9AelL"
      },
      "source": [
        "Red corner is 1<br>\n",
        "Blue corner is 0"
      ]
    },
    {
      "cell_type": "code",
      "execution_count": 112,
      "metadata": {
        "colab": {
          "base_uri": "https://localhost:8080/",
          "height": 105
        },
        "id": "ebPq3P6LAelM",
        "outputId": "45eda914-683c-4a05-dafe-d0e718c0edf5"
      },
      "outputs": [
        {
          "output_type": "execute_result",
          "data": {
            "text/plain": [
              "<sklearn.metrics._plot.confusion_matrix.ConfusionMatrixDisplay at 0x7f3fbaf28bd0>"
            ]
          },
          "metadata": {},
          "execution_count": 112
        },
        {
          "output_type": "display_data",
          "data": {
            "text/plain": [
              "<Figure size 432x288 with 2 Axes>"
            ],
            "image/png": "[encoded data removed]"
          },
          "metadata": {
            "needs_background": "light"
          }
        }
      ],
      "source": [
        "ConfusionMatrixDisplay.from_estimator(classifiers_non_cat[0], X_test_numerical, y_test)"
      ]
    },
    {
      "cell_type": "code",
      "execution_count": 113,
      "metadata": {
        "colab": {
          "base_uri": "https://localhost:8080/",
          "height": 105
        },
        "id": "uVVUCv8XAelM",
        "outputId": "f6fcebaf-2f11-4869-e5e2-0fe514f07bcb"
      },
      "outputs": [
        {
          "output_type": "execute_result",
          "data": {
            "text/plain": [
              "<sklearn.metrics._plot.confusion_matrix.ConfusionMatrixDisplay at 0x7f3fbb6077d0>"
            ]
          },
          "metadata": {},
          "execution_count": 113
        },
        {
          "output_type": "display_data",
          "data": {
            "text/plain": [
              "<Figure size 432x288 with 2 Axes>"
            ],
            "image/png": "[encoded data removed]"
          },
          "metadata": {
            "needs_background": "light"
          }
        }
      ],
      "source": [
        "ConfusionMatrixDisplay.from_estimator(classifiers_non_cat[1], X_test_numerical, y_test)"
      ]
    },
    {
      "cell_type": "code",
      "execution_count": 114,
      "metadata": {
        "colab": {
          "base_uri": "https://localhost:8080/",
          "height": 105
        },
        "id": "FZVUltSdAelN",
        "outputId": "24ca90f7-63b1-4f43-dbc2-6aebf8f9d2ca"
      },
      "outputs": [
        {
          "output_type": "execute_result",
          "data": {
            "text/plain": [
              "<sklearn.metrics._plot.confusion_matrix.ConfusionMatrixDisplay at 0x7f3fbaebcc50>"
            ]
          },
          "metadata": {},
          "execution_count": 114
        },
        {
          "output_type": "display_data",
          "data": {
            "text/plain": [
              "<Figure size 432x288 with 2 Axes>"
            ],
            "image/png": "[encoded data removed]"
          },
          "metadata": {
            "needs_background": "light"
          }
        }
      ],
      "source": [
        "ConfusionMatrixDisplay.from_estimator(classifiers_non_cat[2], X_test_numerical, y_test)"
      ]
    },
    {
      "cell_type": "code",
      "execution_count": 115,
      "metadata": {
        "colab": {
          "base_uri": "https://localhost:8080/",
          "height": 105
        },
        "id": "2QtdZdJyAelN",
        "outputId": "d351fba1-f845-47e4-d3a5-9dc5cac5fb1b"
      },
      "outputs": [
        {
          "output_type": "execute_result",
          "data": {
            "text/plain": [
              "<sklearn.metrics._plot.confusion_matrix.ConfusionMatrixDisplay at 0x7f3fbad0e450>"
            ]
          },
          "metadata": {},
          "execution_count": 115
        },
        {
          "output_type": "display_data",
          "data": {
            "text/plain": [
              "<Figure size 432x288 with 2 Axes>"
            ],
            "image/png": "[encoded data removed]"
          },
          "metadata": {
            "needs_background": "light"
          }
        }
      ],
      "source": [
        "ConfusionMatrixDisplay.from_estimator(Cat, X_test, y_test)"
      ]
    }
  ],
  "metadata": {
    "kernelspec": {
      "display_name": "Python 3",
      "language": "python",
      "name": "python3"
    },
    "language_info": {
      "codemirror_mode": {
        "name": "ipython",
        "version": 3
      },
      "file_extension": ".py",
      "mimetype": "text/x-python",
      "name": "python",
      "nbconvert_exporter": "python",
      "pygments_lexer": "ipython3",
      "version": "3.6.4"
    },
    "colab": {
      "name": "baseline_models_pipelines.ipynb",
      "provenance": [],
      "collapsed_sections": [
        "q0_S0uz2FWPX",
        "t7L0itMKFmwv"
      ]
    }
  },
  "nbformat": 4,
  "nbformat_minor": 0
}